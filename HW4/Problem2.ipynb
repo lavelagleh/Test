{
  "cells": [
    {
      "cell_type": "code",
      "execution_count": null,
      "id": "20a74cec",
      "metadata": {
        "id": "20a74cec"
      },
      "outputs": [],
      "source": [
        "import numpy as np\n",
        "import pandas as pd\n",
        "import matplotlib.pyplot as plt\n",
        "import seaborn as sns\n",
        "from sklearn.svm import SVR\n",
        "from sklearn.model_selection import train_test_split\n",
        "from sklearn.preprocessing import StandardScaler, MinMaxScaler\n",
        "from sklearn import datasets\n",
        "from sklearn import metrics\n",
        "from sklearn.decomposition import PCA"
      ]
    },
    {
      "cell_type": "code",
      "execution_count": null,
      "id": "9428e0ce",
      "metadata": {
        "id": "9428e0ce",
        "outputId": "fe6329e1-878a-411d-8b1b-ac576707f284"
      },
      "outputs": [
        {
          "data": {
            "text/html": [
              "<div>\n",
              "<style scoped>\n",
              "    .dataframe tbody tr th:only-of-type {\n",
              "        vertical-align: middle;\n",
              "    }\n",
              "\n",
              "    .dataframe tbody tr th {\n",
              "        vertical-align: top;\n",
              "    }\n",
              "\n",
              "    .dataframe thead th {\n",
              "        text-align: right;\n",
              "    }\n",
              "</style>\n",
              "<table border=\"1\" class=\"dataframe\">\n",
              "  <thead>\n",
              "    <tr style=\"text-align: right;\">\n",
              "      <th></th>\n",
              "      <th>price</th>\n",
              "      <th>area</th>\n",
              "      <th>bedrooms</th>\n",
              "      <th>bathrooms</th>\n",
              "      <th>stories</th>\n",
              "      <th>mainroad</th>\n",
              "      <th>guestroom</th>\n",
              "      <th>basement</th>\n",
              "      <th>hotwaterheating</th>\n",
              "      <th>airconditioning</th>\n",
              "      <th>parking</th>\n",
              "      <th>prefarea</th>\n",
              "      <th>furnishingstatus</th>\n",
              "    </tr>\n",
              "  </thead>\n",
              "  <tbody>\n",
              "    <tr>\n",
              "      <th>0</th>\n",
              "      <td>13300000</td>\n",
              "      <td>7420</td>\n",
              "      <td>4</td>\n",
              "      <td>2</td>\n",
              "      <td>3</td>\n",
              "      <td>yes</td>\n",
              "      <td>no</td>\n",
              "      <td>no</td>\n",
              "      <td>no</td>\n",
              "      <td>yes</td>\n",
              "      <td>2</td>\n",
              "      <td>yes</td>\n",
              "      <td>furnished</td>\n",
              "    </tr>\n",
              "    <tr>\n",
              "      <th>1</th>\n",
              "      <td>12250000</td>\n",
              "      <td>8960</td>\n",
              "      <td>4</td>\n",
              "      <td>4</td>\n",
              "      <td>4</td>\n",
              "      <td>yes</td>\n",
              "      <td>no</td>\n",
              "      <td>no</td>\n",
              "      <td>no</td>\n",
              "      <td>yes</td>\n",
              "      <td>3</td>\n",
              "      <td>no</td>\n",
              "      <td>furnished</td>\n",
              "    </tr>\n",
              "    <tr>\n",
              "      <th>2</th>\n",
              "      <td>12250000</td>\n",
              "      <td>9960</td>\n",
              "      <td>3</td>\n",
              "      <td>2</td>\n",
              "      <td>2</td>\n",
              "      <td>yes</td>\n",
              "      <td>no</td>\n",
              "      <td>yes</td>\n",
              "      <td>no</td>\n",
              "      <td>no</td>\n",
              "      <td>2</td>\n",
              "      <td>yes</td>\n",
              "      <td>semi-furnished</td>\n",
              "    </tr>\n",
              "    <tr>\n",
              "      <th>3</th>\n",
              "      <td>12215000</td>\n",
              "      <td>7500</td>\n",
              "      <td>4</td>\n",
              "      <td>2</td>\n",
              "      <td>2</td>\n",
              "      <td>yes</td>\n",
              "      <td>no</td>\n",
              "      <td>yes</td>\n",
              "      <td>no</td>\n",
              "      <td>yes</td>\n",
              "      <td>3</td>\n",
              "      <td>yes</td>\n",
              "      <td>furnished</td>\n",
              "    </tr>\n",
              "    <tr>\n",
              "      <th>4</th>\n",
              "      <td>11410000</td>\n",
              "      <td>7420</td>\n",
              "      <td>4</td>\n",
              "      <td>1</td>\n",
              "      <td>2</td>\n",
              "      <td>yes</td>\n",
              "      <td>yes</td>\n",
              "      <td>yes</td>\n",
              "      <td>no</td>\n",
              "      <td>yes</td>\n",
              "      <td>2</td>\n",
              "      <td>no</td>\n",
              "      <td>furnished</td>\n",
              "    </tr>\n",
              "  </tbody>\n",
              "</table>\n",
              "</div>"
            ],
            "text/plain": [
              "      price  area  bedrooms  bathrooms  stories mainroad guestroom basement  \\\n",
              "0  13300000  7420         4          2        3      yes        no       no   \n",
              "1  12250000  8960         4          4        4      yes        no       no   \n",
              "2  12250000  9960         3          2        2      yes        no      yes   \n",
              "3  12215000  7500         4          2        2      yes        no      yes   \n",
              "4  11410000  7420         4          1        2      yes       yes      yes   \n",
              "\n",
              "  hotwaterheating airconditioning  parking prefarea furnishingstatus  \n",
              "0              no             yes        2      yes        furnished  \n",
              "1              no             yes        3       no        furnished  \n",
              "2              no              no        2      yes   semi-furnished  \n",
              "3              no             yes        3      yes        furnished  \n",
              "4              no             yes        2       no        furnished  "
            ]
          },
          "execution_count": 2,
          "metadata": {},
          "output_type": "execute_result"
        }
      ],
      "source": [
        "housing = pd.DataFrame(pd.read_csv('./Housing.csv'))\n",
        "housing.head()"
      ]
    },
    {
      "cell_type": "code",
      "execution_count": null,
      "id": "8459a5b8",
      "metadata": {
        "id": "8459a5b8",
        "outputId": "a88aa661-ad25-4fe4-9a36-e356301cc4df"
      },
      "outputs": [
        {
          "data": {
            "text/html": [
              "<div>\n",
              "<style scoped>\n",
              "    .dataframe tbody tr th:only-of-type {\n",
              "        vertical-align: middle;\n",
              "    }\n",
              "\n",
              "    .dataframe tbody tr th {\n",
              "        vertical-align: top;\n",
              "    }\n",
              "\n",
              "    .dataframe thead th {\n",
              "        text-align: right;\n",
              "    }\n",
              "</style>\n",
              "<table border=\"1\" class=\"dataframe\">\n",
              "  <thead>\n",
              "    <tr style=\"text-align: right;\">\n",
              "      <th></th>\n",
              "      <th>price</th>\n",
              "      <th>area</th>\n",
              "      <th>bedrooms</th>\n",
              "      <th>bathrooms</th>\n",
              "      <th>stories</th>\n",
              "      <th>mainroad</th>\n",
              "      <th>guestroom</th>\n",
              "      <th>basement</th>\n",
              "      <th>hotwaterheating</th>\n",
              "      <th>airconditioning</th>\n",
              "      <th>parking</th>\n",
              "      <th>prefarea</th>\n",
              "      <th>furnishingstatus</th>\n",
              "    </tr>\n",
              "  </thead>\n",
              "  <tbody>\n",
              "    <tr>\n",
              "      <th>0</th>\n",
              "      <td>13300000</td>\n",
              "      <td>7420</td>\n",
              "      <td>4</td>\n",
              "      <td>2</td>\n",
              "      <td>3</td>\n",
              "      <td>1</td>\n",
              "      <td>0</td>\n",
              "      <td>0</td>\n",
              "      <td>0</td>\n",
              "      <td>1</td>\n",
              "      <td>2</td>\n",
              "      <td>1</td>\n",
              "      <td>furnished</td>\n",
              "    </tr>\n",
              "    <tr>\n",
              "      <th>1</th>\n",
              "      <td>12250000</td>\n",
              "      <td>8960</td>\n",
              "      <td>4</td>\n",
              "      <td>4</td>\n",
              "      <td>4</td>\n",
              "      <td>1</td>\n",
              "      <td>0</td>\n",
              "      <td>0</td>\n",
              "      <td>0</td>\n",
              "      <td>1</td>\n",
              "      <td>3</td>\n",
              "      <td>0</td>\n",
              "      <td>furnished</td>\n",
              "    </tr>\n",
              "    <tr>\n",
              "      <th>2</th>\n",
              "      <td>12250000</td>\n",
              "      <td>9960</td>\n",
              "      <td>3</td>\n",
              "      <td>2</td>\n",
              "      <td>2</td>\n",
              "      <td>1</td>\n",
              "      <td>0</td>\n",
              "      <td>1</td>\n",
              "      <td>0</td>\n",
              "      <td>0</td>\n",
              "      <td>2</td>\n",
              "      <td>1</td>\n",
              "      <td>semi-furnished</td>\n",
              "    </tr>\n",
              "    <tr>\n",
              "      <th>3</th>\n",
              "      <td>12215000</td>\n",
              "      <td>7500</td>\n",
              "      <td>4</td>\n",
              "      <td>2</td>\n",
              "      <td>2</td>\n",
              "      <td>1</td>\n",
              "      <td>0</td>\n",
              "      <td>1</td>\n",
              "      <td>0</td>\n",
              "      <td>1</td>\n",
              "      <td>3</td>\n",
              "      <td>1</td>\n",
              "      <td>furnished</td>\n",
              "    </tr>\n",
              "    <tr>\n",
              "      <th>4</th>\n",
              "      <td>11410000</td>\n",
              "      <td>7420</td>\n",
              "      <td>4</td>\n",
              "      <td>1</td>\n",
              "      <td>2</td>\n",
              "      <td>1</td>\n",
              "      <td>1</td>\n",
              "      <td>1</td>\n",
              "      <td>0</td>\n",
              "      <td>1</td>\n",
              "      <td>2</td>\n",
              "      <td>0</td>\n",
              "      <td>furnished</td>\n",
              "    </tr>\n",
              "  </tbody>\n",
              "</table>\n",
              "</div>"
            ],
            "text/plain": [
              "      price  area  bedrooms  bathrooms  stories  mainroad  guestroom  \\\n",
              "0  13300000  7420         4          2        3         1          0   \n",
              "1  12250000  8960         4          4        4         1          0   \n",
              "2  12250000  9960         3          2        2         1          0   \n",
              "3  12215000  7500         4          2        2         1          0   \n",
              "4  11410000  7420         4          1        2         1          1   \n",
              "\n",
              "   basement  hotwaterheating  airconditioning  parking  prefarea  \\\n",
              "0         0                0                1        2         1   \n",
              "1         0                0                1        3         0   \n",
              "2         1                0                0        2         1   \n",
              "3         1                0                1        3         1   \n",
              "4         1                0                1        2         0   \n",
              "\n",
              "  furnishingstatus  \n",
              "0        furnished  \n",
              "1        furnished  \n",
              "2   semi-furnished  \n",
              "3        furnished  \n",
              "4        furnished  "
            ]
          },
          "execution_count": 3,
          "metadata": {},
          "output_type": "execute_result"
        }
      ],
      "source": [
        "# Any dataset that has columns with values as 'Yes' or 'No', strings' values cannot be used.\n",
        "# However, we can convert them to numerical values as binary.\n",
        "\n",
        "varlist = ['mainroad', 'guestroom', 'basement', 'hotwaterheating', 'airconditioning', 'prefarea']\n",
        "\n",
        "def binary_map(x):\n",
        "    return x.map({'yes': 1, 'no': 0})\n",
        "\n",
        "housing[varlist] = housing[varlist].apply(binary_map)\n",
        "\n",
        "housing.head()"
      ]
    },
    {
      "cell_type": "code",
      "execution_count": null,
      "id": "3e4ac750",
      "metadata": {
        "id": "3e4ac750",
        "outputId": "1cb52798-c768-4aa2-ed3d-bd2b8a979762"
      },
      "outputs": [
        {
          "name": "stdout",
          "output_type": "stream",
          "text": [
            "X = [[7420 4 2 3 1 0 0 0 1 2 1]\n",
            " [8960 4 4 4 1 0 0 0 1 3 0]\n",
            " [9960 3 2 2 1 0 1 0 0 2 1]\n",
            " [7500 4 2 2 1 0 1 0 1 3 1]\n",
            " [7420 4 1 2 1 1 1 0 1 2 0]]\n",
            "Y = [13300000 12250000 12250000 12215000 11410000]\n"
          ]
        }
      ],
      "source": [
        "X = housing.values[:,1:12]\n",
        "print('X =', X[0:5])\n",
        "Y = housing.values[:,0]\n",
        "print('Y =', Y[0:5])"
      ]
    },
    {
      "cell_type": "code",
      "execution_count": null,
      "id": "905c5f90",
      "metadata": {
        "id": "905c5f90",
        "outputId": "e70d192e-52f6-4fb1-ff5c-dad2cd1f50db"
      },
      "outputs": [
        {
          "name": "stdout",
          "output_type": "stream",
          "text": [
            "(436, 11) (109, 11) (436,) (109,)\n"
          ]
        }
      ],
      "source": [
        "# Splitting the datasets to training and validation sets.\n",
        "\n",
        "X_train, X_test, Y_train, Y_test = train_test_split(X, Y, test_size=0.2, random_state = 0)\n",
        "print(X_train.shape, X_test.shape, Y_train.shape, Y_test.shape)"
      ]
    },
    {
      "cell_type": "code",
      "execution_count": null,
      "id": "38f16b47",
      "metadata": {
        "id": "38f16b47"
      },
      "outputs": [],
      "source": [
        "# Feature scaling between 0 and 1 for independent variables using Standardization.\n",
        "\n",
        "from sklearn.preprocessing import StandardScaler, MinMaxScaler\n",
        "sc_X = StandardScaler()\n",
        "X_train_sc = sc_X.fit_transform(X_train)\n",
        "X_test_sc = sc_X.fit_transform(X_test)"
      ]
    },
    {
      "cell_type": "code",
      "execution_count": null,
      "id": "e107ccac",
      "metadata": {
        "id": "e107ccac",
        "outputId": "68aad318-23e7-4d4c-fdc9-615ad73fe58b"
      },
      "outputs": [
        {
          "data": {
            "text/html": [
              "<div>\n",
              "<style scoped>\n",
              "    .dataframe tbody tr th:only-of-type {\n",
              "        vertical-align: middle;\n",
              "    }\n",
              "\n",
              "    .dataframe tbody tr th {\n",
              "        vertical-align: top;\n",
              "    }\n",
              "\n",
              "    .dataframe thead th {\n",
              "        text-align: right;\n",
              "    }\n",
              "</style>\n",
              "<table border=\"1\" class=\"dataframe\">\n",
              "  <thead>\n",
              "    <tr style=\"text-align: right;\">\n",
              "      <th></th>\n",
              "      <th>Y_test</th>\n",
              "      <th>Y_pred_lin</th>\n",
              "      <th>Y_pred_poly</th>\n",
              "      <th>Y_pred_rbf</th>\n",
              "    </tr>\n",
              "  </thead>\n",
              "  <tbody>\n",
              "    <tr>\n",
              "      <th>0</th>\n",
              "      <td>4585000</td>\n",
              "      <td>3.820968e+06</td>\n",
              "      <td>4.239322e+06</td>\n",
              "      <td>4.096547e+06</td>\n",
              "    </tr>\n",
              "    <tr>\n",
              "      <th>1</th>\n",
              "      <td>6083000</td>\n",
              "      <td>5.952978e+06</td>\n",
              "      <td>5.423169e+06</td>\n",
              "      <td>5.845980e+06</td>\n",
              "    </tr>\n",
              "    <tr>\n",
              "      <th>2</th>\n",
              "      <td>4007500</td>\n",
              "      <td>4.309663e+06</td>\n",
              "      <td>4.320486e+06</td>\n",
              "      <td>4.138216e+06</td>\n",
              "    </tr>\n",
              "    <tr>\n",
              "      <th>3</th>\n",
              "      <td>6930000</td>\n",
              "      <td>6.401910e+06</td>\n",
              "      <td>5.029958e+06</td>\n",
              "      <td>5.216961e+06</td>\n",
              "    </tr>\n",
              "    <tr>\n",
              "      <th>4</th>\n",
              "      <td>2940000</td>\n",
              "      <td>3.294395e+06</td>\n",
              "      <td>3.718290e+06</td>\n",
              "      <td>3.304695e+06</td>\n",
              "    </tr>\n",
              "  </tbody>\n",
              "</table>\n",
              "</div>"
            ],
            "text/plain": [
              "    Y_test    Y_pred_lin   Y_pred_poly    Y_pred_rbf\n",
              "0  4585000  3.820968e+06  4.239322e+06  4.096547e+06\n",
              "1  6083000  5.952978e+06  5.423169e+06  5.845980e+06\n",
              "2  4007500  4.309663e+06  4.320486e+06  4.138216e+06\n",
              "3  6930000  6.401910e+06  5.029958e+06  5.216961e+06\n",
              "4  2940000  3.294395e+06  3.718290e+06  3.304695e+06"
            ]
          },
          "execution_count": 7,
          "metadata": {},
          "output_type": "execute_result"
        }
      ],
      "source": [
        "model_lin = SVR(kernel = 'linear', C = 1e6)\n",
        "model_lin.fit(X_train_sc,Y_train)\n",
        "Y_pred_lin = model_lin.predict(X_test_sc)\n",
        "model_poly = SVR(kernel = 'poly', C = 1e5)\n",
        "model_poly.fit(X_train_sc,Y_train)\n",
        "Y_pred_poly = model_poly.predict(X_test_sc)\n",
        "model_rbf = SVR(kernel = 'rbf', C = 1e6)\n",
        "model_rbf.fit(X_train_sc,Y_train)\n",
        "Y_pred_rbf = model_rbf.predict(X_test_sc)\n",
        "predictions = pd.DataFrame({'Y_test':Y_test, 'Y_pred_lin':Y_pred_lin, 'Y_pred_poly':Y_pred_poly, 'Y_pred_rbf':Y_pred_rbf})\n",
        "predictions.head()"
      ]
    },
    {
      "cell_type": "code",
      "execution_count": null,
      "id": "f76b0853",
      "metadata": {
        "id": "f76b0853",
        "outputId": "e259249e-10dd-47d3-c6a2-89ca11fc5f81"
      },
      "outputs": [
        {
          "data": {
            "image/png": "[encoded data removed]",
            "text/plain": [
              "<Figure size 432x288 with 1 Axes>"
            ]
          },
          "metadata": {
            "needs_background": "light"
          },
          "output_type": "display_data"
        }
      ],
      "source": [
        "plt.scatter(Y_test, Y_pred_lin, label = 'Linear Kernel')\n",
        "plt.scatter(Y_test, Y_pred_poly, label = 'Polynomial Kernel')\n",
        "plt.scatter(Y_test, Y_pred_rbf, label = ' Radial Basis Function Kernel')\n",
        "plt.plot(Y_test, Y_test)\n",
        "\n",
        "plt.xlabel(\"Actual Price\")\n",
        "plt.ylabel(\"Predicted Price\")\n",
        "plt.title(\"Actual vs. Predicted Price of Housing\")\n",
        "plt.legend()\n",
        "plt.show()"
      ]
    },
    {
      "cell_type": "code",
      "execution_count": null,
      "id": "a3cff5bf",
      "metadata": {
        "id": "a3cff5bf",
        "outputId": "bfa2f7fb-0813-464e-feb0-d830032dfa76"
      },
      "outputs": [
        {
          "name": "stdout",
          "output_type": "stream",
          "text": [
            "Accuracy of Linear's model: 0.6773539534356049\n",
            "Accuracy of Polynomial's model: 0.5314979804251987\n",
            "Accuracy of Radial Basis Function's model: 0.5742708039205634\n"
          ]
        }
      ],
      "source": [
        "print(\"Accuracy of Linear's model:\", model_lin.score(X_test_sc, Y_test))\n",
        "print(\"Accuracy of Polynomial's model:\", model_poly.score(X_test_sc, Y_test))\n",
        "print(\"Accuracy of Radial Basis Function's model:\", model_rbf.score(X_test_sc, Y_test))"
      ]
    },
    {
      "cell_type": "code",
      "execution_count": null,
      "id": "44cab89e",
      "metadata": {
        "id": "44cab89e",
        "outputId": "87ce1167-0d7a-480e-c786-9957d214cde0"
      },
      "outputs": [
        {
          "name": "stdout",
          "output_type": "stream",
          "text": [
            "The N of principal components with the highest accuracy is: 8 components with the accuracy of 0.6881920717708833\n"
          ]
        }
      ],
      "source": [
        "# Implementation SVR Regression (Linear Kernel) over the numbers of principal components from PCA extraction scaling. \n",
        "\n",
        "Prin_Comp = []\n",
        "Accuracy_lin = []\n",
        "max_accuracy_lin = 0 \n",
        "max_comp_lin = 0\n",
        "\n",
        "N_Comp = range(1,11)\n",
        "for N in N_Comp:\n",
        "    Prin_Comp.append(N)\n",
        "    pca = PCA(n_components = N)\n",
        "    principalComponents = pca.fit_transform(X)\n",
        "    principalDF = pd.DataFrame(data = principalComponents)\n",
        "    X_train, X_test, Y_train, Y_test = train_test_split(principalDF, Y, test_size=0.2, random_state = 0)\n",
        "    sc_X = StandardScaler()\n",
        "    X_train_sc = sc_X.fit_transform(X_train)\n",
        "    X_test_sc = sc_X.fit_transform(X_test)\n",
        "    model_lin = SVR(kernel = 'linear', C = 1e6)\n",
        "    model_lin.fit(X_train_sc,Y_train)\n",
        "    Y_pred_lin = model_lin.predict(X_test_sc)\n",
        "    Accuracy_lin.append(model_lin.score(X_test_sc, Y_test))\n",
        "    if model_lin.score(X_test_sc, Y_test) > max_accuracy_lin:\n",
        "        max_comp_lin = N\n",
        "        max_accuracy_lin = model_lin.score(X_test_sc, Y_test)\n",
        "print(\"The N of principal components with the highest accuracy is:\", max_comp_lin, \"components with the accuracy of\", max_accuracy_lin)"
      ]
    },
    {
      "cell_type": "code",
      "execution_count": null,
      "id": "ca9e813c",
      "metadata": {
        "id": "ca9e813c",
        "outputId": "28aeec24-1969-4e35-ceef-96e6ce7b6d6b"
      },
      "outputs": [
        {
          "name": "stdout",
          "output_type": "stream",
          "text": [
            "The N of principal components with the highest accuracy is: 5 components with the accuracy of 0.5354556738228378\n"
          ]
        }
      ],
      "source": [
        "# Implementation SVR Regression (Polynomial Kernel) over the numbers of principal components from PCA extraction scaling. \n",
        "\n",
        "Prin_Comp = []\n",
        "Accuracy_poly = []\n",
        "max_accuracy_poly = 0 \n",
        "max_comp_poly = 0\n",
        "\n",
        "N_Comp = range(1,11)\n",
        "for N in N_Comp:\n",
        "    Prin_Comp.append(N)\n",
        "    pca = PCA(n_components = N)\n",
        "    principalComponents = pca.fit_transform(X)\n",
        "    principalDF = pd.DataFrame(data = principalComponents)\n",
        "    X_train, X_test, Y_train, Y_test = train_test_split(principalDF, Y, test_size=0.2, random_state = 0)\n",
        "    sc_X = StandardScaler()\n",
        "    X_train_sc = sc_X.fit_transform(X_train)\n",
        "    X_test_sc = sc_X.fit_transform(X_test)\n",
        "    model_poly = SVR(kernel = 'poly', C = 1e5)\n",
        "    model_poly.fit(X_train_sc,Y_train)\n",
        "    Y_pred_poly = model_poly.predict(X_test_sc)\n",
        "    Accuracy_poly.append(model_poly.score(X_test_sc, Y_test))\n",
        "    if model_poly.score(X_test_sc, Y_test) > max_accuracy_poly:\n",
        "        max_comp_poly = N\n",
        "        max_accuracy_poly = model_poly.score(X_test_sc, Y_test)\n",
        "print(\"The N of principal components with the highest accuracy is:\", max_comp_poly, \"components with the accuracy of\", max_accuracy_poly)"
      ]
    },
    {
      "cell_type": "code",
      "execution_count": null,
      "id": "4be9fb9c",
      "metadata": {
        "id": "4be9fb9c",
        "outputId": "fa62c30b-6546-4112-8eec-e39b3b14def5"
      },
      "outputs": [
        {
          "name": "stdout",
          "output_type": "stream",
          "text": [
            "The N of principal components with the highest accuracy is: 10 components with the accuracy of 0.5834690324496696\n"
          ]
        }
      ],
      "source": [
        "# Implementation SVR Regression (Radial Basis Function Kernel) over the numbers of principal components from PCA extraction scaling. \n",
        "\n",
        "Prin_Comp = []\n",
        "Accuracy_rbf = []\n",
        "max_accuracy_rbf = 0 \n",
        "max_comp_rbf = 0\n",
        "\n",
        "N_Comp = range(1,11)\n",
        "for N in N_Comp:\n",
        "    Prin_Comp.append(N)\n",
        "    pca = PCA(n_components = N)\n",
        "    principalComponents = pca.fit_transform(X)\n",
        "    principalDF = pd.DataFrame(data = principalComponents)\n",
        "    X_train, X_test, Y_train, Y_test = train_test_split(principalDF, Y, test_size=0.2, random_state = 0)\n",
        "    sc_X = StandardScaler()\n",
        "    X_train_sc = sc_X.fit_transform(X_train)\n",
        "    X_test_sc = sc_X.fit_transform(X_test)\n",
        "    model_rbf = SVR(kernel = 'rbf', C = 1e6)\n",
        "    model_rbf.fit(X_train_sc,Y_train)\n",
        "    Y_pred_rbf = model_rbf.predict(X_test_sc)\n",
        "    Accuracy_rbf.append(model_rbf.score(X_test_sc, Y_test))\n",
        "    if model_rbf.score(X_test_sc, Y_test) > max_accuracy_rbf:\n",
        "        max_comp_rbf = N\n",
        "        max_accuracy_rbf = model_rbf.score(X_test_sc, Y_test)\n",
        "print(\"The N of principal components with the highest accuracy is:\", max_comp_rbf, \"components with the accuracy of\", max_accuracy_rbf)"
      ]
    },
    {
      "cell_type": "code",
      "execution_count": null,
      "id": "d09fde74",
      "metadata": {
        "id": "d09fde74",
        "outputId": "4764ab6c-d428-40a7-d869-e110635930db"
      },
      "outputs": [
        {
          "data": {
            "image/png": "[encoded data removed]",
            "text/plain": [
              "<Figure size 432x288 with 1 Axes>"
            ]
          },
          "metadata": {
            "needs_background": "light"
          },
          "output_type": "display_data"
        }
      ],
      "source": [
        "plt.plot(Prin_Comp, Accuracy_lin, label = 'Linear Model')\n",
        "plt.plot(Prin_Comp, Accuracy_poly, label = 'Polynomial Model')\n",
        "plt.plot(Prin_Comp, Accuracy_rbf, label = 'Radial Basis Function Model')\n",
        "plt.xlabel(\"Amount of Principal Components\")\n",
        "plt.ylabel(\"Accuracy\")\n",
        "plt.title(\"Amount of Principal Components vs. Accuracy of Housing Prices\")\n",
        "plt.legend()\n",
        "plt.show()"
      ]
    },
    {
      "cell_type": "code",
      "execution_count": null,
      "id": "4309b8f7",
      "metadata": {
        "id": "4309b8f7"
      },
      "outputs": [],
      "source": []
    }
  ],
  "metadata": {
    "kernelspec": {
      "display_name": "Python 3 (ipykernel)",
      "language": "python",
      "name": "python3"
    },
    "language_info": {
      "codemirror_mode": {
        "name": "ipython",
        "version": 3
      },
      "file_extension": ".py",
      "mimetype": "text/x-python",
      "name": "python",
      "nbconvert_exporter": "python",
      "pygments_lexer": "ipython3",
      "version": "3.9.12"
    },
    "colab": {
      "provenance": []
    }
  },
  "nbformat": 4,
  "nbformat_minor": 5
}