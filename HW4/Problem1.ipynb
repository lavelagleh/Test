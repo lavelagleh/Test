{
  "cells": [
    {
      "cell_type": "code",
      "execution_count": null,
      "id": "e44bc843",
      "metadata": {
        "id": "e44bc843"
      },
      "outputs": [],
      "source": [
        "import numpy as np\n",
        "import matplotlib.pyplot as plt\n",
        "import pandas as pd\n",
        "from sklearn.model_selection import train_test_split\n",
        "from sklearn.linear_model import LogisticRegression\n",
        "from sklearn import datasets\n",
        "from sklearn import metrics\n",
        "from sklearn.metrics import confusion_matrix, classification_report\n",
        "from sklearn.decomposition import PCA\n",
        "import seaborn as sns\n",
        "from sklearn.datasets import load_breast_cancer\n",
        "from sklearn.svm import SVC\n",
        "from sklearn.preprocessing import StandardScaler, MinMaxScaler"
      ]
    },
    {
      "cell_type": "code",
      "execution_count": null,
      "id": "c73828a2",
      "metadata": {
        "id": "c73828a2",
        "outputId": "64557dae-6f9d-4047-83f9-9bd4e9589e9a"
      },
      "outputs": [
        {
          "data": {
            "text/plain": [
              "(569, 30)"
            ]
          },
          "execution_count": 2,
          "metadata": {},
          "output_type": "execute_result"
        }
      ],
      "source": [
        "breast = load_breast_cancer()\n",
        "breast_data = breast.data\n",
        "breast_data.shape"
      ]
    },
    {
      "cell_type": "code",
      "execution_count": null,
      "id": "47468f74",
      "metadata": {
        "id": "47468f74",
        "outputId": "8f466967-2c61-48cc-a4e1-8341f6f2de91"
      },
      "outputs": [
        {
          "data": {
            "text/html": [
              "<div>\n",
              "<style scoped>\n",
              "    .dataframe tbody tr th:only-of-type {\n",
              "        vertical-align: middle;\n",
              "    }\n",
              "\n",
              "    .dataframe tbody tr th {\n",
              "        vertical-align: top;\n",
              "    }\n",
              "\n",
              "    .dataframe thead th {\n",
              "        text-align: right;\n",
              "    }\n",
              "</style>\n",
              "<table border=\"1\" class=\"dataframe\">\n",
              "  <thead>\n",
              "    <tr style=\"text-align: right;\">\n",
              "      <th></th>\n",
              "      <th>0</th>\n",
              "      <th>1</th>\n",
              "      <th>2</th>\n",
              "      <th>3</th>\n",
              "      <th>4</th>\n",
              "      <th>5</th>\n",
              "      <th>6</th>\n",
              "      <th>7</th>\n",
              "      <th>8</th>\n",
              "      <th>9</th>\n",
              "      <th>...</th>\n",
              "      <th>20</th>\n",
              "      <th>21</th>\n",
              "      <th>22</th>\n",
              "      <th>23</th>\n",
              "      <th>24</th>\n",
              "      <th>25</th>\n",
              "      <th>26</th>\n",
              "      <th>27</th>\n",
              "      <th>28</th>\n",
              "      <th>29</th>\n",
              "    </tr>\n",
              "  </thead>\n",
              "  <tbody>\n",
              "    <tr>\n",
              "      <th>0</th>\n",
              "      <td>17.99</td>\n",
              "      <td>10.38</td>\n",
              "      <td>122.80</td>\n",
              "      <td>1001.0</td>\n",
              "      <td>0.11840</td>\n",
              "      <td>0.27760</td>\n",
              "      <td>0.3001</td>\n",
              "      <td>0.14710</td>\n",
              "      <td>0.2419</td>\n",
              "      <td>0.07871</td>\n",
              "      <td>...</td>\n",
              "      <td>25.38</td>\n",
              "      <td>17.33</td>\n",
              "      <td>184.60</td>\n",
              "      <td>2019.0</td>\n",
              "      <td>0.1622</td>\n",
              "      <td>0.6656</td>\n",
              "      <td>0.7119</td>\n",
              "      <td>0.2654</td>\n",
              "      <td>0.4601</td>\n",
              "      <td>0.11890</td>\n",
              "    </tr>\n",
              "    <tr>\n",
              "      <th>1</th>\n",
              "      <td>20.57</td>\n",
              "      <td>17.77</td>\n",
              "      <td>132.90</td>\n",
              "      <td>1326.0</td>\n",
              "      <td>0.08474</td>\n",
              "      <td>0.07864</td>\n",
              "      <td>0.0869</td>\n",
              "      <td>0.07017</td>\n",
              "      <td>0.1812</td>\n",
              "      <td>0.05667</td>\n",
              "      <td>...</td>\n",
              "      <td>24.99</td>\n",
              "      <td>23.41</td>\n",
              "      <td>158.80</td>\n",
              "      <td>1956.0</td>\n",
              "      <td>0.1238</td>\n",
              "      <td>0.1866</td>\n",
              "      <td>0.2416</td>\n",
              "      <td>0.1860</td>\n",
              "      <td>0.2750</td>\n",
              "      <td>0.08902</td>\n",
              "    </tr>\n",
              "    <tr>\n",
              "      <th>2</th>\n",
              "      <td>19.69</td>\n",
              "      <td>21.25</td>\n",
              "      <td>130.00</td>\n",
              "      <td>1203.0</td>\n",
              "      <td>0.10960</td>\n",
              "      <td>0.15990</td>\n",
              "      <td>0.1974</td>\n",
              "      <td>0.12790</td>\n",
              "      <td>0.2069</td>\n",
              "      <td>0.05999</td>\n",
              "      <td>...</td>\n",
              "      <td>23.57</td>\n",
              "      <td>25.53</td>\n",
              "      <td>152.50</td>\n",
              "      <td>1709.0</td>\n",
              "      <td>0.1444</td>\n",
              "      <td>0.4245</td>\n",
              "      <td>0.4504</td>\n",
              "      <td>0.2430</td>\n",
              "      <td>0.3613</td>\n",
              "      <td>0.08758</td>\n",
              "    </tr>\n",
              "    <tr>\n",
              "      <th>3</th>\n",
              "      <td>11.42</td>\n",
              "      <td>20.38</td>\n",
              "      <td>77.58</td>\n",
              "      <td>386.1</td>\n",
              "      <td>0.14250</td>\n",
              "      <td>0.28390</td>\n",
              "      <td>0.2414</td>\n",
              "      <td>0.10520</td>\n",
              "      <td>0.2597</td>\n",
              "      <td>0.09744</td>\n",
              "      <td>...</td>\n",
              "      <td>14.91</td>\n",
              "      <td>26.50</td>\n",
              "      <td>98.87</td>\n",
              "      <td>567.7</td>\n",
              "      <td>0.2098</td>\n",
              "      <td>0.8663</td>\n",
              "      <td>0.6869</td>\n",
              "      <td>0.2575</td>\n",
              "      <td>0.6638</td>\n",
              "      <td>0.17300</td>\n",
              "    </tr>\n",
              "    <tr>\n",
              "      <th>4</th>\n",
              "      <td>20.29</td>\n",
              "      <td>14.34</td>\n",
              "      <td>135.10</td>\n",
              "      <td>1297.0</td>\n",
              "      <td>0.10030</td>\n",
              "      <td>0.13280</td>\n",
              "      <td>0.1980</td>\n",
              "      <td>0.10430</td>\n",
              "      <td>0.1809</td>\n",
              "      <td>0.05883</td>\n",
              "      <td>...</td>\n",
              "      <td>22.54</td>\n",
              "      <td>16.67</td>\n",
              "      <td>152.20</td>\n",
              "      <td>1575.0</td>\n",
              "      <td>0.1374</td>\n",
              "      <td>0.2050</td>\n",
              "      <td>0.4000</td>\n",
              "      <td>0.1625</td>\n",
              "      <td>0.2364</td>\n",
              "      <td>0.07678</td>\n",
              "    </tr>\n",
              "  </tbody>\n",
              "</table>\n",
              "<p>5 rows × 30 columns</p>\n",
              "</div>"
            ],
            "text/plain": [
              "      0      1       2       3        4        5       6        7       8   \\\n",
              "0  17.99  10.38  122.80  1001.0  0.11840  0.27760  0.3001  0.14710  0.2419   \n",
              "1  20.57  17.77  132.90  1326.0  0.08474  0.07864  0.0869  0.07017  0.1812   \n",
              "2  19.69  21.25  130.00  1203.0  0.10960  0.15990  0.1974  0.12790  0.2069   \n",
              "3  11.42  20.38   77.58   386.1  0.14250  0.28390  0.2414  0.10520  0.2597   \n",
              "4  20.29  14.34  135.10  1297.0  0.10030  0.13280  0.1980  0.10430  0.1809   \n",
              "\n",
              "        9   ...     20     21      22      23      24      25      26      27  \\\n",
              "0  0.07871  ...  25.38  17.33  184.60  2019.0  0.1622  0.6656  0.7119  0.2654   \n",
              "1  0.05667  ...  24.99  23.41  158.80  1956.0  0.1238  0.1866  0.2416  0.1860   \n",
              "2  0.05999  ...  23.57  25.53  152.50  1709.0  0.1444  0.4245  0.4504  0.2430   \n",
              "3  0.09744  ...  14.91  26.50   98.87   567.7  0.2098  0.8663  0.6869  0.2575   \n",
              "4  0.05883  ...  22.54  16.67  152.20  1575.0  0.1374  0.2050  0.4000  0.1625   \n",
              "\n",
              "       28       29  \n",
              "0  0.4601  0.11890  \n",
              "1  0.2750  0.08902  \n",
              "2  0.3613  0.08758  \n",
              "3  0.6638  0.17300  \n",
              "4  0.2364  0.07678  \n",
              "\n",
              "[5 rows x 30 columns]"
            ]
          },
          "execution_count": 3,
          "metadata": {},
          "output_type": "execute_result"
        }
      ],
      "source": [
        "breast_input = pd.DataFrame(breast_data)\n",
        "breast_input.head()"
      ]
    },
    {
      "cell_type": "code",
      "execution_count": null,
      "id": "b7a96a6d",
      "metadata": {
        "id": "b7a96a6d",
        "outputId": "306535f5-bcb8-4d99-e244-f061f0d66bde"
      },
      "outputs": [
        {
          "data": {
            "text/plain": [
              "(569,)"
            ]
          },
          "execution_count": 4,
          "metadata": {},
          "output_type": "execute_result"
        }
      ],
      "source": [
        "breast_labels = breast.target\n",
        "breast_labels.shape"
      ]
    },
    {
      "cell_type": "code",
      "execution_count": null,
      "id": "fa0e7867",
      "metadata": {
        "id": "fa0e7867",
        "outputId": "4b627a6b-6719-4784-941d-f4567b262a29"
      },
      "outputs": [
        {
          "data": {
            "text/plain": [
              "(569, 31)"
            ]
          },
          "execution_count": 5,
          "metadata": {},
          "output_type": "execute_result"
        }
      ],
      "source": [
        "labels = np.reshape(breast_labels,(569,1))\n",
        "final_breast_data = np.concatenate([breast_data,labels],axis=1)\n",
        "final_breast_data.shape"
      ]
    },
    {
      "cell_type": "code",
      "execution_count": null,
      "id": "099ef697",
      "metadata": {
        "id": "099ef697",
        "outputId": "c5db8aa7-2d52-405f-c5a1-b1e1ef305c52"
      },
      "outputs": [
        {
          "data": {
            "text/plain": [
              "array(['mean radius', 'mean texture', 'mean perimeter', 'mean area',\n",
              "       'mean smoothness', 'mean compactness', 'mean concavity',\n",
              "       'mean concave points', 'mean symmetry', 'mean fractal dimension',\n",
              "       'radius error', 'texture error', 'perimeter error', 'area error',\n",
              "       'smoothness error', 'compactness error', 'concavity error',\n",
              "       'concave points error', 'symmetry error',\n",
              "       'fractal dimension error', 'worst radius', 'worst texture',\n",
              "       'worst perimeter', 'worst area', 'worst smoothness',\n",
              "       'worst compactness', 'worst concavity', 'worst concave points',\n",
              "       'worst symmetry', 'worst fractal dimension'], dtype='<U23')"
            ]
          },
          "execution_count": 6,
          "metadata": {},
          "output_type": "execute_result"
        }
      ],
      "source": [
        "breast_dataset = pd.DataFrame(final_breast_data)\n",
        "features = breast.feature_names\n",
        "features"
      ]
    },
    {
      "cell_type": "code",
      "execution_count": null,
      "id": "0ee94d62",
      "metadata": {
        "id": "0ee94d62",
        "outputId": "2644ab4e-4004-4974-b273-91c1dce18a49"
      },
      "outputs": [
        {
          "data": {
            "text/html": [
              "<div>\n",
              "<style scoped>\n",
              "    .dataframe tbody tr th:only-of-type {\n",
              "        vertical-align: middle;\n",
              "    }\n",
              "\n",
              "    .dataframe tbody tr th {\n",
              "        vertical-align: top;\n",
              "    }\n",
              "\n",
              "    .dataframe thead th {\n",
              "        text-align: right;\n",
              "    }\n",
              "</style>\n",
              "<table border=\"1\" class=\"dataframe\">\n",
              "  <thead>\n",
              "    <tr style=\"text-align: right;\">\n",
              "      <th></th>\n",
              "      <th>mean radius</th>\n",
              "      <th>mean texture</th>\n",
              "      <th>mean perimeter</th>\n",
              "      <th>mean area</th>\n",
              "      <th>mean smoothness</th>\n",
              "      <th>mean compactness</th>\n",
              "      <th>mean concavity</th>\n",
              "      <th>mean concave points</th>\n",
              "      <th>mean symmetry</th>\n",
              "      <th>mean fractal dimension</th>\n",
              "      <th>...</th>\n",
              "      <th>worst texture</th>\n",
              "      <th>worst perimeter</th>\n",
              "      <th>worst area</th>\n",
              "      <th>worst smoothness</th>\n",
              "      <th>worst compactness</th>\n",
              "      <th>worst concavity</th>\n",
              "      <th>worst concave points</th>\n",
              "      <th>worst symmetry</th>\n",
              "      <th>worst fractal dimension</th>\n",
              "      <th>label</th>\n",
              "    </tr>\n",
              "  </thead>\n",
              "  <tbody>\n",
              "    <tr>\n",
              "      <th>0</th>\n",
              "      <td>17.99</td>\n",
              "      <td>10.38</td>\n",
              "      <td>122.80</td>\n",
              "      <td>1001.0</td>\n",
              "      <td>0.11840</td>\n",
              "      <td>0.27760</td>\n",
              "      <td>0.3001</td>\n",
              "      <td>0.14710</td>\n",
              "      <td>0.2419</td>\n",
              "      <td>0.07871</td>\n",
              "      <td>...</td>\n",
              "      <td>17.33</td>\n",
              "      <td>184.60</td>\n",
              "      <td>2019.0</td>\n",
              "      <td>0.1622</td>\n",
              "      <td>0.6656</td>\n",
              "      <td>0.7119</td>\n",
              "      <td>0.2654</td>\n",
              "      <td>0.4601</td>\n",
              "      <td>0.11890</td>\n",
              "      <td>0.0</td>\n",
              "    </tr>\n",
              "    <tr>\n",
              "      <th>1</th>\n",
              "      <td>20.57</td>\n",
              "      <td>17.77</td>\n",
              "      <td>132.90</td>\n",
              "      <td>1326.0</td>\n",
              "      <td>0.08474</td>\n",
              "      <td>0.07864</td>\n",
              "      <td>0.0869</td>\n",
              "      <td>0.07017</td>\n",
              "      <td>0.1812</td>\n",
              "      <td>0.05667</td>\n",
              "      <td>...</td>\n",
              "      <td>23.41</td>\n",
              "      <td>158.80</td>\n",
              "      <td>1956.0</td>\n",
              "      <td>0.1238</td>\n",
              "      <td>0.1866</td>\n",
              "      <td>0.2416</td>\n",
              "      <td>0.1860</td>\n",
              "      <td>0.2750</td>\n",
              "      <td>0.08902</td>\n",
              "      <td>0.0</td>\n",
              "    </tr>\n",
              "    <tr>\n",
              "      <th>2</th>\n",
              "      <td>19.69</td>\n",
              "      <td>21.25</td>\n",
              "      <td>130.00</td>\n",
              "      <td>1203.0</td>\n",
              "      <td>0.10960</td>\n",
              "      <td>0.15990</td>\n",
              "      <td>0.1974</td>\n",
              "      <td>0.12790</td>\n",
              "      <td>0.2069</td>\n",
              "      <td>0.05999</td>\n",
              "      <td>...</td>\n",
              "      <td>25.53</td>\n",
              "      <td>152.50</td>\n",
              "      <td>1709.0</td>\n",
              "      <td>0.1444</td>\n",
              "      <td>0.4245</td>\n",
              "      <td>0.4504</td>\n",
              "      <td>0.2430</td>\n",
              "      <td>0.3613</td>\n",
              "      <td>0.08758</td>\n",
              "      <td>0.0</td>\n",
              "    </tr>\n",
              "    <tr>\n",
              "      <th>3</th>\n",
              "      <td>11.42</td>\n",
              "      <td>20.38</td>\n",
              "      <td>77.58</td>\n",
              "      <td>386.1</td>\n",
              "      <td>0.14250</td>\n",
              "      <td>0.28390</td>\n",
              "      <td>0.2414</td>\n",
              "      <td>0.10520</td>\n",
              "      <td>0.2597</td>\n",
              "      <td>0.09744</td>\n",
              "      <td>...</td>\n",
              "      <td>26.50</td>\n",
              "      <td>98.87</td>\n",
              "      <td>567.7</td>\n",
              "      <td>0.2098</td>\n",
              "      <td>0.8663</td>\n",
              "      <td>0.6869</td>\n",
              "      <td>0.2575</td>\n",
              "      <td>0.6638</td>\n",
              "      <td>0.17300</td>\n",
              "      <td>0.0</td>\n",
              "    </tr>\n",
              "    <tr>\n",
              "      <th>4</th>\n",
              "      <td>20.29</td>\n",
              "      <td>14.34</td>\n",
              "      <td>135.10</td>\n",
              "      <td>1297.0</td>\n",
              "      <td>0.10030</td>\n",
              "      <td>0.13280</td>\n",
              "      <td>0.1980</td>\n",
              "      <td>0.10430</td>\n",
              "      <td>0.1809</td>\n",
              "      <td>0.05883</td>\n",
              "      <td>...</td>\n",
              "      <td>16.67</td>\n",
              "      <td>152.20</td>\n",
              "      <td>1575.0</td>\n",
              "      <td>0.1374</td>\n",
              "      <td>0.2050</td>\n",
              "      <td>0.4000</td>\n",
              "      <td>0.1625</td>\n",
              "      <td>0.2364</td>\n",
              "      <td>0.07678</td>\n",
              "      <td>0.0</td>\n",
              "    </tr>\n",
              "  </tbody>\n",
              "</table>\n",
              "<p>5 rows × 31 columns</p>\n",
              "</div>"
            ],
            "text/plain": [
              "   mean radius  mean texture  mean perimeter  mean area  mean smoothness  \\\n",
              "0        17.99         10.38          122.80     1001.0          0.11840   \n",
              "1        20.57         17.77          132.90     1326.0          0.08474   \n",
              "2        19.69         21.25          130.00     1203.0          0.10960   \n",
              "3        11.42         20.38           77.58      386.1          0.14250   \n",
              "4        20.29         14.34          135.10     1297.0          0.10030   \n",
              "\n",
              "   mean compactness  mean concavity  mean concave points  mean symmetry  \\\n",
              "0           0.27760          0.3001              0.14710         0.2419   \n",
              "1           0.07864          0.0869              0.07017         0.1812   \n",
              "2           0.15990          0.1974              0.12790         0.2069   \n",
              "3           0.28390          0.2414              0.10520         0.2597   \n",
              "4           0.13280          0.1980              0.10430         0.1809   \n",
              "\n",
              "   mean fractal dimension  ...  worst texture  worst perimeter  worst area  \\\n",
              "0                 0.07871  ...          17.33           184.60      2019.0   \n",
              "1                 0.05667  ...          23.41           158.80      1956.0   \n",
              "2                 0.05999  ...          25.53           152.50      1709.0   \n",
              "3                 0.09744  ...          26.50            98.87       567.7   \n",
              "4                 0.05883  ...          16.67           152.20      1575.0   \n",
              "\n",
              "   worst smoothness  worst compactness  worst concavity  worst concave points  \\\n",
              "0            0.1622             0.6656           0.7119                0.2654   \n",
              "1            0.1238             0.1866           0.2416                0.1860   \n",
              "2            0.1444             0.4245           0.4504                0.2430   \n",
              "3            0.2098             0.8663           0.6869                0.2575   \n",
              "4            0.1374             0.2050           0.4000                0.1625   \n",
              "\n",
              "   worst symmetry  worst fractal dimension  label  \n",
              "0          0.4601                  0.11890    0.0  \n",
              "1          0.2750                  0.08902    0.0  \n",
              "2          0.3613                  0.08758    0.0  \n",
              "3          0.6638                  0.17300    0.0  \n",
              "4          0.2364                  0.07678    0.0  \n",
              "\n",
              "[5 rows x 31 columns]"
            ]
          },
          "execution_count": 7,
          "metadata": {},
          "output_type": "execute_result"
        }
      ],
      "source": [
        "features_labels = np.append(features,'label')\n",
        "breast_dataset.columns = features_labels\n",
        "breast_dataset.head()"
      ]
    },
    {
      "cell_type": "code",
      "execution_count": null,
      "id": "69399208",
      "metadata": {
        "id": "69399208",
        "outputId": "13902369-8455-43c4-c803-f55a3f396693"
      },
      "outputs": [
        {
          "name": "stdout",
          "output_type": "stream",
          "text": [
            "X = [[1.799e+01 1.038e+01 1.228e+02 1.001e+03 1.184e-01 2.776e-01 3.001e-01\n",
            "  1.471e-01 2.419e-01 7.871e-02 1.095e+00 9.053e-01 8.589e+00 1.534e+02\n",
            "  6.399e-03 4.904e-02 5.373e-02 1.587e-02 3.003e-02 6.193e-03 2.538e+01\n",
            "  1.733e+01 1.846e+02 2.019e+03 1.622e-01 6.656e-01 7.119e-01 2.654e-01\n",
            "  4.601e-01 1.189e-01]\n",
            " [2.057e+01 1.777e+01 1.329e+02 1.326e+03 8.474e-02 7.864e-02 8.690e-02\n",
            "  7.017e-02 1.812e-01 5.667e-02 5.435e-01 7.339e-01 3.398e+00 7.408e+01\n",
            "  5.225e-03 1.308e-02 1.860e-02 1.340e-02 1.389e-02 3.532e-03 2.499e+01\n",
            "  2.341e+01 1.588e+02 1.956e+03 1.238e-01 1.866e-01 2.416e-01 1.860e-01\n",
            "  2.750e-01 8.902e-02]\n",
            " [1.969e+01 2.125e+01 1.300e+02 1.203e+03 1.096e-01 1.599e-01 1.974e-01\n",
            "  1.279e-01 2.069e-01 5.999e-02 7.456e-01 7.869e-01 4.585e+00 9.403e+01\n",
            "  6.150e-03 4.006e-02 3.832e-02 2.058e-02 2.250e-02 4.571e-03 2.357e+01\n",
            "  2.553e+01 1.525e+02 1.709e+03 1.444e-01 4.245e-01 4.504e-01 2.430e-01\n",
            "  3.613e-01 8.758e-02]\n",
            " [1.142e+01 2.038e+01 7.758e+01 3.861e+02 1.425e-01 2.839e-01 2.414e-01\n",
            "  1.052e-01 2.597e-01 9.744e-02 4.956e-01 1.156e+00 3.445e+00 2.723e+01\n",
            "  9.110e-03 7.458e-02 5.661e-02 1.867e-02 5.963e-02 9.208e-03 1.491e+01\n",
            "  2.650e+01 9.887e+01 5.677e+02 2.098e-01 8.663e-01 6.869e-01 2.575e-01\n",
            "  6.638e-01 1.730e-01]\n",
            " [2.029e+01 1.434e+01 1.351e+02 1.297e+03 1.003e-01 1.328e-01 1.980e-01\n",
            "  1.043e-01 1.809e-01 5.883e-02 7.572e-01 7.813e-01 5.438e+00 9.444e+01\n",
            "  1.149e-02 2.461e-02 5.688e-02 1.885e-02 1.756e-02 5.115e-03 2.254e+01\n",
            "  1.667e+01 1.522e+02 1.575e+03 1.374e-01 2.050e-01 4.000e-01 1.625e-01\n",
            "  2.364e-01 7.678e-02]]\n",
            "Y = [0. 0. 0. 0. 0.]\n"
          ]
        }
      ],
      "source": [
        "X = breast_dataset.values[:,0:30]\n",
        "print('X =', X[0:5])\n",
        "Y = breast_dataset.values[:,30]\n",
        "print('Y =', Y[0:5])"
      ]
    },
    {
      "cell_type": "code",
      "execution_count": null,
      "id": "2ba2565e",
      "metadata": {
        "id": "2ba2565e",
        "outputId": "3afff955-8ed9-4ea8-b973-1b72b1df6653"
      },
      "outputs": [
        {
          "name": "stdout",
          "output_type": "stream",
          "text": [
            "Confusion Matrix: \n",
            " [[38  9]\n",
            " [ 0 67]]\n",
            "\n",
            "\n",
            "Classification Report: \n",
            "               precision    recall  f1-score   support\n",
            "\n",
            "         0.0       1.00      0.81      0.89        47\n",
            "         1.0       0.88      1.00      0.94        67\n",
            "\n",
            "    accuracy                           0.92       114\n",
            "   macro avg       0.94      0.90      0.92       114\n",
            "weighted avg       0.93      0.92      0.92       114\n",
            "\n"
          ]
        }
      ],
      "source": [
        "# Using SVM Classifier with the linear kernal at different principal components and storing them to be plotted later. \n",
        "\n",
        "Prin_Comp = []\n",
        "Precision_0 = []\n",
        "Precision_1 = []\n",
        "Recall_0 = []\n",
        "Recall_1 = []\n",
        "Accuracy = []\n",
        "max_accuracy = 0\n",
        "high_comp = 0\n",
        " \n",
        "N_Comp = range(1,30)\n",
        "for N in N_Comp:\n",
        "    Prin_Comp.append(N)\n",
        "    pca = PCA(n_components = N)\n",
        "    principalComponents = pca.fit_transform(X)\n",
        "    principalDF = pd.DataFrame(data = principalComponents)\n",
        "    X_train, X_test, Y_train, Y_test = train_test_split(principalDF, Y, test_size=0.2, random_state = 0)\n",
        "    sc_X = StandardScaler()\n",
        "    X_train_sc = sc_X.fit_transform(X_train)\n",
        "    X_test_sc = sc_X.fit_transform(X_test)\n",
        "    model = SVC(kernel = 'linear', C = 0.01)\n",
        "    model.fit(X_train_sc, Y_train)\n",
        "    predicted = model.predict(X_test_sc)\n",
        "    matrix = confusion_matrix(Y_test, predicted)\n",
        "    report = classification_report(Y_test, predicted)\n",
        "    report_data = classification_report(Y_test, predicted, output_dict=True)\n",
        "    data = pd.DataFrame(report_data)\n",
        "    Precision_0.append(data.values[0,0])\n",
        "    Precision_1.append(data.values[0,1])\n",
        "    Recall_0.append(data.values[1,0])\n",
        "    Recall_1.append(data.values[1,1])\n",
        "    Accuracy.append(data.values[0,2])\n",
        "    if data.values[0,2] > max_accuracy:\n",
        "        high_comp = N\n",
        "        max_accuracy = data.values[0,2]\n",
        "\n",
        "# Latest Confusion Matrix and Classification Report\n",
        "print(\"Confusion Matrix: \\n\",matrix)\n",
        "print(\"\\n\")\n",
        "print(\"Classification Report: \\n\", report)"
      ]
    },
    {
      "cell_type": "code",
      "execution_count": null,
      "id": "b0db0090",
      "metadata": {
        "id": "b0db0090",
        "outputId": "cfa1248b-340d-4fb4-b014-4dceb912c579"
      },
      "outputs": [
        {
          "name": "stdout",
          "output_type": "stream",
          "text": [
            "The N of principal components with the highest accuracy is: 22 components with the accuracy of 0.9298245614035088\n"
          ]
        }
      ],
      "source": [
        "print(\"The N of principal components with the highest accuracy is:\", high_comp, \"components with the accuracy of\", max_accuracy)"
      ]
    },
    {
      "cell_type": "code",
      "execution_count": null,
      "id": "1c827ba3",
      "metadata": {
        "id": "1c827ba3",
        "outputId": "377d296e-daf4-4561-8cbb-bd6367b37b6e"
      },
      "outputs": [
        {
          "name": "stdout",
          "output_type": "stream",
          "text": [
            "Using Linear Kernal:\n"
          ]
        },
        {
          "data": {
            "image/png": "[encoded data removed]",
            "text/plain": [
              "<Figure size 432x288 with 1 Axes>"
            ]
          },
          "metadata": {
            "needs_background": "light"
          },
          "output_type": "display_data"
        },
        {
          "data": {
            "image/png": "[encoded data removed]",
            "text/plain": [
              "<Figure size 432x288 with 1 Axes>"
            ]
          },
          "metadata": {
            "needs_background": "light"
          },
          "output_type": "display_data"
        }
      ],
      "source": [
        "print(\"Using Linear Kernal:\")\n",
        "plt.plot(Prin_Comp, Precision_0, label = \"Precision\")\n",
        "plt.plot(Prin_Comp, Recall_0, label = \"Recall\")\n",
        "plt.plot(Prin_Comp, Accuracy, label = \"Accuracy\")\n",
        "plt.title(\"Principal Components vs. Performance of Benign's Cancer\")\n",
        "plt.xlabel(\"Amount of Principal Components\")\n",
        "plt.ylabel(\"Performance\")\n",
        "plt.legend()\n",
        "plt.show()\n",
        "plt.plot(Prin_Comp, Precision_1, label = \"Precision\")\n",
        "plt.plot(Prin_Comp, Recall_1, label = \"Recall\")\n",
        "plt.plot(Prin_Comp, Accuracy, label = \"Accuracy\")\n",
        "plt.title(\"Principal Components vs. Performance of Malignant's Cancer\")\n",
        "plt.xlabel(\"Amount of Principal Components\")\n",
        "plt.ylabel(\"Performance\")\n",
        "plt.legend()\n",
        "plt.show()"
      ]
    },
    {
      "cell_type": "code",
      "execution_count": null,
      "id": "2b9326cb",
      "metadata": {
        "id": "2b9326cb",
        "outputId": "59d8dcda-4c4f-4e49-9f66-9ffdd437a7e6"
      },
      "outputs": [
        {
          "name": "stdout",
          "output_type": "stream",
          "text": [
            "Confusion Matrix: \n",
            " [[ 1 46]\n",
            " [ 0 67]]\n",
            "\n",
            "\n",
            "Classification Report: \n",
            "               precision    recall  f1-score   support\n",
            "\n",
            "         0.0       1.00      0.02      0.04        47\n",
            "         1.0       0.59      1.00      0.74        67\n",
            "\n",
            "    accuracy                           0.60       114\n",
            "   macro avg       0.80      0.51      0.39       114\n",
            "weighted avg       0.76      0.60      0.45       114\n",
            "\n"
          ]
        }
      ],
      "source": [
        "# Using SVM Classifier with the poly kernal at different principal components and storing them to be plotted later. \n",
        "\n",
        "Prin_Comp = []\n",
        "Precision_0 = []\n",
        "Precision_1 = []\n",
        "Recall_0 = []\n",
        "Recall_1 = []\n",
        "Accuracy = []\n",
        "max_accuracy = 0\n",
        "high_comp = 0\n",
        " \n",
        "N_Comp = range(1,30)\n",
        "for N in N_Comp:\n",
        "    Prin_Comp.append(N)\n",
        "    pca = PCA(n_components = N)\n",
        "    principalComponents = pca.fit_transform(X)\n",
        "    principalDF = pd.DataFrame(data = principalComponents)\n",
        "    X_train, X_test, Y_train, Y_test = train_test_split(principalDF, Y, test_size=0.2, random_state = 0)\n",
        "    sc_X = StandardScaler()\n",
        "    X_train_sc = sc_X.fit_transform(X_train)\n",
        "    X_test_sc = sc_X.fit_transform(X_test)\n",
        "    model = SVC(kernel = 'poly', C = 0.1, degree = 15)\n",
        "    model.fit(X_train_sc, Y_train)\n",
        "    predicted = model.predict(X_test_sc)\n",
        "    matrix = confusion_matrix(Y_test, predicted)\n",
        "    report = classification_report(Y_test, predicted)\n",
        "    report_data = classification_report(Y_test, predicted, output_dict=True)\n",
        "    data = pd.DataFrame(report_data)\n",
        "    Precision_0.append(data.values[0,0])\n",
        "    Precision_1.append(data.values[0,1])\n",
        "    Recall_0.append(data.values[1,0])\n",
        "    Recall_1.append(data.values[1,1])\n",
        "    Accuracy.append(data.values[0,2])\n",
        "    if data.values[0,2] > max_accuracy:\n",
        "        high_comp = N\n",
        "        max_accuracy = data.values[0,2]\n",
        "\n",
        "# Latest Confusion Matrix and Classification Report\n",
        "print(\"Confusion Matrix: \\n\",matrix)\n",
        "print(\"\\n\")\n",
        "print(\"Classification Report: \\n\", report)"
      ]
    },
    {
      "cell_type": "code",
      "execution_count": null,
      "id": "776bc67b",
      "metadata": {
        "id": "776bc67b",
        "outputId": "58cdadc6-3fea-4e1f-846d-87dccdff8179"
      },
      "outputs": [
        {
          "name": "stdout",
          "output_type": "stream",
          "text": [
            "The N of principal components with the highest accuracy is: 1 components with the accuracy of 0.7807017543859649\n"
          ]
        }
      ],
      "source": [
        "print(\"The N of principal components with the highest accuracy is:\", high_comp, \"components with the accuracy of\", max_accuracy)"
      ]
    },
    {
      "cell_type": "code",
      "execution_count": null,
      "id": "79ca9366",
      "metadata": {
        "id": "79ca9366",
        "outputId": "9962c4ce-367a-4745-cdab-f7293cc345f4"
      },
      "outputs": [
        {
          "name": "stdout",
          "output_type": "stream",
          "text": [
            "Using Polynomial Kernal:\n"
          ]
        },
        {
          "data": {
            "image/png": "[encoded data removed]",
            "text/plain": [
              "<Figure size 432x288 with 1 Axes>"
            ]
          },
          "metadata": {
            "needs_background": "light"
          },
          "output_type": "display_data"
        },
        {
          "data": {
            "image/png": "[encoded data removed]",
            "text/plain": [
              "<Figure size 432x288 with 1 Axes>"
            ]
          },
          "metadata": {
            "needs_background": "light"
          },
          "output_type": "display_data"
        }
      ],
      "source": [
        "print(\"Using Polynomial Kernal:\")\n",
        "plt.plot(Prin_Comp, Precision_0, label = \"Precision\")\n",
        "plt.plot(Prin_Comp, Recall_0, label = \"Recall\")\n",
        "plt.plot(Prin_Comp, Accuracy, label = \"Accuracy\")\n",
        "plt.title(\"Principal Components vs. Performance of Benign's Cancer\")\n",
        "plt.xlabel(\"Amount of Principal Components\")\n",
        "plt.ylabel(\"Performance\")\n",
        "plt.legend()\n",
        "plt.show()\n",
        "plt.plot(Prin_Comp, Precision_1, label = \"Precision\")\n",
        "plt.plot(Prin_Comp, Recall_1, label = \"Recall\")\n",
        "plt.plot(Prin_Comp, Accuracy, label = \"Accuracy\")\n",
        "plt.title(\"Principal Components vs. Performance of Malignant's Cancer\")\n",
        "plt.xlabel(\"Amount of Principal Components\")\n",
        "plt.ylabel(\"Performance\")\n",
        "plt.legend()\n",
        "plt.show()"
      ]
    },
    {
      "cell_type": "code",
      "execution_count": null,
      "id": "8b88000a",
      "metadata": {
        "id": "8b88000a",
        "outputId": "2583c0dd-648f-41b0-ad0a-ad64ff5ff727"
      },
      "outputs": [
        {
          "name": "stdout",
          "output_type": "stream",
          "text": [
            "Confusion Matrix: \n",
            " [[44  3]\n",
            " [ 0 67]]\n",
            "\n",
            "\n",
            "Classification Report: \n",
            "               precision    recall  f1-score   support\n",
            "\n",
            "         0.0       1.00      0.94      0.97        47\n",
            "         1.0       0.96      1.00      0.98        67\n",
            "\n",
            "    accuracy                           0.97       114\n",
            "   macro avg       0.98      0.97      0.97       114\n",
            "weighted avg       0.97      0.97      0.97       114\n",
            "\n"
          ]
        }
      ],
      "source": [
        "# Using SVM Classifier with the rbf kernal at different principal components and storing them to be plotted later. \n",
        "\n",
        "Prin_Comp = []\n",
        "Precision_0 = []\n",
        "Precision_1 = []\n",
        "Recall_0 = []\n",
        "Recall_1 = []\n",
        "Accuracy = []\n",
        "max_accuracy = 0\n",
        "high_comp = 0\n",
        " \n",
        "N_Comp = range(1,30)\n",
        "for N in N_Comp:\n",
        "    Prin_Comp.append(N)\n",
        "    pca = PCA(n_components = N)\n",
        "    principalComponents = pca.fit_transform(X)\n",
        "    principalDF = pd.DataFrame(data = principalComponents)\n",
        "    X_train, X_test, Y_train, Y_test = train_test_split(principalDF, Y, test_size=0.2, random_state = 0)\n",
        "    sc_X = StandardScaler()\n",
        "    X_train_sc = sc_X.fit_transform(X_train)\n",
        "    X_test_sc = sc_X.fit_transform(X_test)\n",
        "    model = SVC(kernel = 'rbf', C = 10, gamma = 0.01)\n",
        "    model.fit(X_train_sc, Y_train)\n",
        "    predicted = model.predict(X_test_sc)\n",
        "    matrix = confusion_matrix(Y_test, predicted)\n",
        "    report = classification_report(Y_test, predicted)\n",
        "    report_data = classification_report(Y_test, predicted, output_dict=True)\n",
        "    data = pd.DataFrame(report_data)\n",
        "    Precision_0.append(data.values[0,0])\n",
        "    Precision_1.append(data.values[0,1])\n",
        "    Recall_0.append(data.values[1,0])\n",
        "    Recall_1.append(data.values[1,1])\n",
        "    Accuracy.append(data.values[0,2])\n",
        "    if data.values[0,2] > max_accuracy:\n",
        "        high_comp = N\n",
        "        max_accuracy = data.values[0,2]\n",
        "\n",
        "# Latest Confusion Matrix and Classification Report\n",
        "print(\"Confusion Matrix: \\n\",matrix)\n",
        "print(\"\\n\")\n",
        "print(\"Classification Report: \\n\", report)"
      ]
    },
    {
      "cell_type": "code",
      "execution_count": null,
      "id": "14d76d74",
      "metadata": {
        "id": "14d76d74",
        "outputId": "74f5d3ec-cd23-467c-8157-6a7f81721823"
      },
      "outputs": [
        {
          "name": "stdout",
          "output_type": "stream",
          "text": [
            "The N of principal components with the highest accuracy is: 21 components with the accuracy of 0.9736842105263158\n"
          ]
        }
      ],
      "source": [
        "print(\"The N of principal components with the highest accuracy is:\", high_comp, \"components with the accuracy of\", max_accuracy)"
      ]
    },
    {
      "cell_type": "code",
      "execution_count": null,
      "id": "3f20d086",
      "metadata": {
        "id": "3f20d086",
        "outputId": "75a8565b-8943-48de-fe3f-e6aded7dde89"
      },
      "outputs": [
        {
          "name": "stdout",
          "output_type": "stream",
          "text": [
            "Using Guassian Radial Basis Function Kernal:\n"
          ]
        },
        {
          "data": {
            "image/png": "[encoded data removed]",
            "text/plain": [
              "<Figure size 432x288 with 1 Axes>"
            ]
          },
          "metadata": {
            "needs_background": "light"
          },
          "output_type": "display_data"
        },
        {
          "data": {
            "image/png": "[encoded data removed]",
            "text/plain": [
              "<Figure size 432x288 with 1 Axes>"
            ]
          },
          "metadata": {
            "needs_background": "light"
          },
          "output_type": "display_data"
        }
      ],
      "source": [
        "print(\"Using Guassian Radial Basis Function Kernal:\")\n",
        "plt.plot(Prin_Comp, Precision_0, label = \"Precision\")\n",
        "plt.plot(Prin_Comp, Recall_0, label = \"Recall\")\n",
        "plt.plot(Prin_Comp, Accuracy, label = \"Accuracy\")\n",
        "plt.title(\"Principal Components vs. Performance of Benign's Cancer\")\n",
        "plt.xlabel(\"Amount of Principal Components\")\n",
        "plt.ylabel(\"Performance\")\n",
        "plt.legend()\n",
        "plt.show()\n",
        "plt.plot(Prin_Comp, Precision_1, label = \"Precision\")\n",
        "plt.plot(Prin_Comp, Recall_1, label = \"Recall\")\n",
        "plt.plot(Prin_Comp, Accuracy, label = \"Accuracy\")\n",
        "plt.title(\"Principal Components vs. Performance of Malignant's Cancer\")\n",
        "plt.xlabel(\"Amount of Principal Components\")\n",
        "plt.ylabel(\"Performance\")\n",
        "plt.legend()\n",
        "plt.show()"
      ]
    }
  ],
  "metadata": {
    "kernelspec": {
      "display_name": "Python 3 (ipykernel)",
      "language": "python",
      "name": "python3"
    },
    "language_info": {
      "codemirror_mode": {
        "name": "ipython",
        "version": 3
      },
      "file_extension": ".py",
      "mimetype": "text/x-python",
      "name": "python",
      "nbconvert_exporter": "python",
      "pygments_lexer": "ipython3",
      "version": "3.9.12"
    },
    "colab": {
      "provenance": []
    }
  },
  "nbformat": 4,
  "nbformat_minor": 5
}