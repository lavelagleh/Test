{
  "cells": [
    {
      "cell_type": "code",
      "execution_count": null,
      "id": "3f25dbbc",
      "metadata": {
        "id": "3f25dbbc"
      },
      "outputs": [],
      "source": [
        "import numpy as np\n",
        "import pandas as pd\n",
        "import matplotlib.pyplot as plt"
      ]
    },
    {
      "cell_type": "code",
      "execution_count": null,
      "id": "5e678659",
      "metadata": {
        "id": "5e678659",
        "outputId": "15e0b094-4745-4791-ecb8-59dc4f4058a2"
      },
      "outputs": [
        {
          "data": {
            "text/html": [
              "<div>\n",
              "<style scoped>\n",
              "    .dataframe tbody tr th:only-of-type {\n",
              "        vertical-align: middle;\n",
              "    }\n",
              "\n",
              "    .dataframe tbody tr th {\n",
              "        vertical-align: top;\n",
              "    }\n",
              "\n",
              "    .dataframe thead th {\n",
              "        text-align: right;\n",
              "    }\n",
              "</style>\n",
              "<table border=\"1\" class=\"dataframe\">\n",
              "  <thead>\n",
              "    <tr style=\"text-align: right;\">\n",
              "      <th></th>\n",
              "      <th>X1</th>\n",
              "      <th>X2</th>\n",
              "      <th>X3</th>\n",
              "      <th>Y</th>\n",
              "    </tr>\n",
              "  </thead>\n",
              "  <tbody>\n",
              "    <tr>\n",
              "      <th>0</th>\n",
              "      <td>0.000000</td>\n",
              "      <td>3.440000</td>\n",
              "      <td>0.440000</td>\n",
              "      <td>4.387545</td>\n",
              "    </tr>\n",
              "    <tr>\n",
              "      <th>1</th>\n",
              "      <td>0.040404</td>\n",
              "      <td>0.134949</td>\n",
              "      <td>0.888485</td>\n",
              "      <td>2.679650</td>\n",
              "    </tr>\n",
              "    <tr>\n",
              "      <th>2</th>\n",
              "      <td>0.080808</td>\n",
              "      <td>0.829899</td>\n",
              "      <td>1.336970</td>\n",
              "      <td>2.968490</td>\n",
              "    </tr>\n",
              "    <tr>\n",
              "      <th>3</th>\n",
              "      <td>0.121212</td>\n",
              "      <td>1.524848</td>\n",
              "      <td>1.785455</td>\n",
              "      <td>3.254065</td>\n",
              "    </tr>\n",
              "    <tr>\n",
              "      <th>4</th>\n",
              "      <td>0.161616</td>\n",
              "      <td>2.219798</td>\n",
              "      <td>2.233939</td>\n",
              "      <td>3.536375</td>\n",
              "    </tr>\n",
              "    <tr>\n",
              "      <th>...</th>\n",
              "      <td>...</td>\n",
              "      <td>...</td>\n",
              "      <td>...</td>\n",
              "      <td>...</td>\n",
              "    </tr>\n",
              "    <tr>\n",
              "      <th>95</th>\n",
              "      <td>3.838384</td>\n",
              "      <td>1.460202</td>\n",
              "      <td>3.046061</td>\n",
              "      <td>-4.440595</td>\n",
              "    </tr>\n",
              "    <tr>\n",
              "      <th>96</th>\n",
              "      <td>3.878788</td>\n",
              "      <td>2.155152</td>\n",
              "      <td>3.494545</td>\n",
              "      <td>-4.458663</td>\n",
              "    </tr>\n",
              "    <tr>\n",
              "      <th>97</th>\n",
              "      <td>3.919192</td>\n",
              "      <td>2.850101</td>\n",
              "      <td>3.943030</td>\n",
              "      <td>-4.479995</td>\n",
              "    </tr>\n",
              "    <tr>\n",
              "      <th>98</th>\n",
              "      <td>3.959596</td>\n",
              "      <td>3.545051</td>\n",
              "      <td>0.391515</td>\n",
              "      <td>-3.304593</td>\n",
              "    </tr>\n",
              "    <tr>\n",
              "      <th>99</th>\n",
              "      <td>4.000000</td>\n",
              "      <td>0.240000</td>\n",
              "      <td>0.840000</td>\n",
              "      <td>-5.332455</td>\n",
              "    </tr>\n",
              "  </tbody>\n",
              "</table>\n",
              "<p>100 rows × 4 columns</p>\n",
              "</div>"
            ],
            "text/plain": [
              "          X1        X2        X3         Y\n",
              "0   0.000000  3.440000  0.440000  4.387545\n",
              "1   0.040404  0.134949  0.888485  2.679650\n",
              "2   0.080808  0.829899  1.336970  2.968490\n",
              "3   0.121212  1.524848  1.785455  3.254065\n",
              "4   0.161616  2.219798  2.233939  3.536375\n",
              "..       ...       ...       ...       ...\n",
              "95  3.838384  1.460202  3.046061 -4.440595\n",
              "96  3.878788  2.155152  3.494545 -4.458663\n",
              "97  3.919192  2.850101  3.943030 -4.479995\n",
              "98  3.959596  3.545051  0.391515 -3.304593\n",
              "99  4.000000  0.240000  0.840000 -5.332455\n",
              "\n",
              "[100 rows x 4 columns]"
            ]
          },
          "execution_count": 25,
          "metadata": {},
          "output_type": "execute_result"
        }
      ],
      "source": [
        "#\n",
        "df = pd.read_csv('https://github.com/lavelagleh/Test/raw/main/HW0/D3.csv')\n",
        "#df = pd.read_csv('./D3.csv')\n",
        "df.head(100)"
      ]
    },
    {
      "cell_type": "code",
      "execution_count": null,
      "id": "5f2b9b5a",
      "metadata": {
        "id": "5f2b9b5a",
        "outputId": "b8141ec9-b59d-4a9e-cabe-fbee310d087c"
      },
      "outputs": [
        {
          "name": "stdout",
          "output_type": "stream",
          "text": [
            "[[0.         3.44       0.44       4.38754501]\n",
            " [0.04040404 0.1349495  0.88848485 2.6796499 ]\n",
            " [0.08080808 0.82989899 1.3369697  2.96848981]\n",
            " [0.12121212 1.52484848 1.78545454 3.25406475]\n",
            " [0.16161616 2.21979798 2.23393939 3.53637472]\n",
            " [0.2020202  2.91474747 2.68242424 3.81541972]\n",
            " [0.24242424 3.60969697 3.13090909 4.09119974]\n",
            " [0.28282828 0.30464646 3.57939394 2.36371479]\n",
            " [0.32323232 0.99959596 0.02787879 3.83296487]\n",
            " [0.36363636 1.69454546 0.47636364 4.09894997]\n",
            " [0.4040404  2.38949495 0.92484849 4.3616701 ]\n",
            " [0.44444444 3.08444444 1.37333333 4.62112526]\n",
            " [0.48484848 3.77939394 1.82181818 4.87731544]\n",
            " [0.52525252 0.47434343 2.27030303 3.13024065]\n",
            " [0.56565657 1.16929293 2.71878788 3.37990089]\n",
            " [0.60606061 1.86424242 3.16727273 3.62629616]\n",
            " [0.64646465 2.55919192 3.61575758 3.86942645]\n",
            " [0.68686869 3.25414141 0.06424242 5.30929177]\n",
            " [0.72727273 3.94909091 0.51272727 5.54589212]\n",
            " [0.76767677 0.6440404  0.96121212 3.77922749]]\n"
          ]
        }
      ],
      "source": [
        "dataset = df.values[:,:]\n",
        "print(dataset[:20,:])"
      ]
    },
    {
      "cell_type": "code",
      "execution_count": null,
      "id": "760e8bf4",
      "metadata": {
        "id": "760e8bf4",
        "outputId": "3cb92ec5-6b4f-4539-c5f0-25f8ff0a0bdc"
      },
      "outputs": [
        {
          "data": {
            "text/plain": [
              "(100, 100)"
            ]
          },
          "execution_count": 27,
          "metadata": {},
          "output_type": "execute_result"
        }
      ],
      "source": [
        "X = df.values[:,2]\n",
        "Y = df.values[:,3]\n",
        "len(X), len(Y)"
      ]
    },
    {
      "cell_type": "code",
      "execution_count": null,
      "id": "6aeef7e7",
      "metadata": {
        "id": "6aeef7e7",
        "outputId": "e266466a-52e5-4480-c464-e277f8d68b72"
      },
      "outputs": [
        {
          "name": "stdout",
          "output_type": "stream",
          "text": [
            "X = [0.44       0.88848485 1.3369697  1.78545454 2.23393939]\n",
            "Y = [4.38754501 2.6796499  2.96848981 3.25406475 3.53637472]\n"
          ]
        }
      ],
      "source": [
        "print('X =', X[:5])\n",
        "print('Y =', Y[:5])"
      ]
    },
    {
      "cell_type": "code",
      "execution_count": null,
      "id": "ef0b398e",
      "metadata": {
        "id": "ef0b398e",
        "outputId": "74111189-052f-459d-fa3d-5d58e3e6c2d8"
      },
      "outputs": [
        {
          "data": {
            "text/plain": [
              "Text(0.5, 1.0, 'Training Data of X3')"
            ]
          },
          "execution_count": 29,
          "metadata": {},
          "output_type": "execute_result"
        },
        {
          "data": {
            "image/png": "[encoded data removed]",
            "text/plain": [
              "<Figure size 864x576 with 1 Axes>"
            ]
          },
          "metadata": {
            "needs_background": "light"
          },
          "output_type": "display_data"
        }
      ],
      "source": [
        "plt.scatter(X,Y, color='red', marker='+')\n",
        "plt.grid()\n",
        "plt.rcParams[\"figure.figsize\"] = [7,7]\n",
        "plt.xlabel('X_3')\n",
        "plt.ylabel('Y')\n",
        "plt.title('Training Data of X3')"
      ]
    },
    {
      "cell_type": "code",
      "execution_count": null,
      "id": "a900d1ad",
      "metadata": {
        "id": "a900d1ad",
        "outputId": "7940dd69-54a4-45ea-ff98-3483bd3d56ca"
      },
      "outputs": [
        {
          "name": "stdout",
          "output_type": "stream",
          "text": [
            "X_3 = [[0.44      ]\n",
            " [0.88848485]\n",
            " [1.3369697 ]\n",
            " [1.78545454]\n",
            " [2.23393939]]\n"
          ]
        }
      ],
      "source": [
        "# Reshape function to convert 1D array to 2D array (100x1)\n",
        "m = len(X)\n",
        "X_1 = X.reshape(m,1)\n",
        "print(\"X_3 =\", X_1[:5,:])"
      ]
    },
    {
      "cell_type": "code",
      "execution_count": null,
      "id": "fe21b3ff",
      "metadata": {
        "id": "fe21b3ff",
        "outputId": "507eb4bb-989c-4076-920c-fc1ff0a9e747"
      },
      "outputs": [
        {
          "data": {
            "text/plain": [
              "(array([[1.],\n",
              "        [1.],\n",
              "        [1.],\n",
              "        [1.],\n",
              "        [1.]]),\n",
              " 100)"
            ]
          },
          "execution_count": 31,
          "metadata": {},
          "output_type": "execute_result"
        }
      ],
      "source": [
        "# Create a single column of ones (X_0)\n",
        "m = len(X)\n",
        "X_0 = np.ones((m,1))\n",
        "X_0[:5], len(X_0)"
      ]
    },
    {
      "cell_type": "code",
      "execution_count": null,
      "id": "546be86e",
      "metadata": {
        "id": "546be86e",
        "outputId": "e0176980-16b8-4d31-beb4-ae6bc3341876"
      },
      "outputs": [
        {
          "data": {
            "text/plain": [
              "array([[1.        , 0.44      ],\n",
              "       [1.        , 0.88848485],\n",
              "       [1.        , 1.3369697 ],\n",
              "       [1.        , 1.78545454],\n",
              "       [1.        , 2.23393939]])"
            ]
          },
          "execution_count": 32,
          "metadata": {},
          "output_type": "execute_result"
        }
      ],
      "source": [
        "X = np.hstack((X_0, X_1))\n",
        "X[:5]"
      ]
    },
    {
      "cell_type": "code",
      "execution_count": null,
      "id": "695a6c30",
      "metadata": {
        "id": "695a6c30",
        "outputId": "4f441c13-2cdf-41b6-fa33-0bf4cb908be0"
      },
      "outputs": [
        {
          "data": {
            "text/plain": [
              "array([[0.],\n",
              "       [0.]])"
            ]
          },
          "execution_count": 33,
          "metadata": {},
          "output_type": "execute_result"
        }
      ],
      "source": [
        "theta = np.zeros((2,1))\n",
        "theta"
      ]
    },
    {
      "cell_type": "code",
      "execution_count": null,
      "id": "389bac71",
      "metadata": {
        "id": "389bac71"
      },
      "outputs": [],
      "source": [
        "\"\"\"\n",
        "Compute loss for linear regression for one time.\n",
        "\n",
        "Input Parameters\n",
        "X : 2D array for training example\n",
        "    m = number of training examples\n",
        "    n = number of features\n",
        "Y : 1D array of label/target values. Dimension: m\n",
        "\n",
        "theta : 2D array of fitting parameters. Dimension: n,1\n",
        "\n",
        "Output Parameters\n",
        "J : Loss\n",
        "\"\"\"\n",
        "\n",
        "def compute_loss(X, Y, theta):\n",
        "    predictions = X.dot(theta) #prediction = h\n",
        "    errors = np.subtract(predictions, Y)\n",
        "    sqrErrors = np.square(errors)\n",
        "    J = 1 / (2 * m) * np.sum(sqrErrors)\n",
        "    \n",
        "    return J"
      ]
    },
    {
      "cell_type": "code",
      "execution_count": null,
      "id": "6b0ce90e",
      "metadata": {
        "id": "6b0ce90e",
        "outputId": "d628aed4-c854-40cb-c181-521393f0d41f"
      },
      "outputs": [
        {
          "name": "stdout",
          "output_type": "stream",
          "text": [
            "The cost for given theta_0 and theta_3 = 552.4438459196241\n"
          ]
        }
      ],
      "source": [
        "# Compute the cost for theta values\n",
        "cost = compute_loss(X, Y, theta)\n",
        "print(\"The cost for given theta_0 and theta_3 =\", cost)"
      ]
    },
    {
      "cell_type": "code",
      "execution_count": null,
      "id": "eeeed475",
      "metadata": {
        "id": "eeeed475"
      },
      "outputs": [],
      "source": [
        "\"\"\"\n",
        "Compute loss for l inear regression for all iterations\n",
        "\n",
        "Input Parameters\n",
        "X: 2D array, Dimension: m x n\n",
        "    m = number of training data point\n",
        "    n = number of features\n",
        "Y: 1D array of labels/target value for each training data point. Dimension: m\n",
        "theta: 2D array of fitting parameters or weights. Dimension: (n,1)\n",
        "alpha : learning rate\n",
        "iterations: Number of iterations.\n",
        "\n",
        "Output Parameters\n",
        "theta: Final Value. 2D array of fitting parameters or weights. Dimension: n,1\n",
        "loss_history: Contains value of cost at each iteration. 1D Array. Dimension: m\n",
        "\"\"\"\n",
        "def gradient_descent(X, Y, theta, alpha, iterations):\n",
        "    loss_history = np.zeros(iterations)\n",
        "    \n",
        "    for i in range(iterations):\n",
        "        predictions = X.dot(theta) # prediction (m,1) = temp\n",
        "        errors = np.subtract(predictions, Y)\n",
        "        sum_delta = (alpha / m) * X.transpose().dot(errors);\n",
        "        theta = theta - sum_delta; # theta (n,1)\n",
        "        loss_history[i] = compute_loss(X, Y, theta)\n",
        "    return theta, loss_history"
      ]
    },
    {
      "cell_type": "code",
      "execution_count": null,
      "id": "df8cbaee",
      "metadata": {
        "id": "df8cbaee"
      },
      "outputs": [],
      "source": [
        "theta = [0., 0.]\n",
        "iterations = 1250\n",
        "alpha = 0.01"
      ]
    },
    {
      "cell_type": "code",
      "execution_count": null,
      "id": "0b4d8900",
      "metadata": {
        "id": "0b4d8900",
        "outputId": "2d70b308-1870-485e-ccf7-78c33853bb1b"
      },
      "outputs": [
        {
          "name": "stdout",
          "output_type": "stream",
          "text": [
            "Final value of theta = [ 2.71178238 -0.45734628]\n",
            "loss_history = [5.40768785 5.30397076 5.21178297 ... 3.63279409 3.63277908 3.63276413]\n"
          ]
        }
      ],
      "source": [
        "theta, loss_history = gradient_descent(X, Y, theta, alpha, iterations)\n",
        "print(\"Final value of theta =\", theta)\n",
        "print(\"loss_history =\", loss_history)"
      ]
    },
    {
      "cell_type": "code",
      "execution_count": null,
      "id": "969f99e8",
      "metadata": {
        "id": "969f99e8",
        "outputId": "eb6a8705-8523-499e-a564-375f46aae4e8"
      },
      "outputs": [
        {
          "data": {
            "text/plain": [
              "<matplotlib.legend.Legend at 0x27264e68c40>"
            ]
          },
          "execution_count": 39,
          "metadata": {},
          "output_type": "execute_result"
        },
        {
          "data": {
            "image/png": "[encoded data removed]",
            "text/plain": [
              "<Figure size 504x504 with 1 Axes>"
            ]
          },
          "metadata": {
            "needs_background": "light"
          },
          "output_type": "display_data"
        }
      ],
      "source": [
        "# Graphing linear regression with training data points\n",
        "plt.scatter(X[:,1], Y, color='red', marker='+', label= 'Training Data')\n",
        "plt.plot(X[:,1], X.dot(theta), color='green', label= 'Linear Regression')\n",
        "plt.rcParams[\"figure.figsize\"] = [12,8]\n",
        "plt.grid()\n",
        "plt.xlabel(\"X_3\")\n",
        "plt.ylabel(\"Y\")\n",
        "plt.title(\"X_3 Training with Linear Regression Fit\")\n",
        "plt.legend()"
      ]
    },
    {
      "cell_type": "code",
      "execution_count": null,
      "id": "5045d0eb",
      "metadata": {
        "id": "5045d0eb",
        "outputId": "9b94bcbe-1ac8-43c3-91ae-c1df29e99ac5"
      },
      "outputs": [
        {
          "data": {
            "text/plain": [
              "Text(0.5, 1.0, 'Convergence of gradient descent of X3')"
            ]
          },
          "execution_count": 40,
          "metadata": {},
          "output_type": "execute_result"
        },
        {
          "data": {
            "image/png": "[encoded data removed]",
            "text/plain": [
              "<Figure size 864x576 with 1 Axes>"
            ]
          },
          "metadata": {
            "needs_background": "light"
          },
          "output_type": "display_data"
        }
      ],
      "source": [
        "plt.plot(range(1, iterations + 1), loss_history, color = 'black')\n",
        "plt.rcParams[\"figure.figsize\"] = [12,8]\n",
        "plt.grid()\n",
        "plt.xlabel(\"Numbers of iterations\")\n",
        "plt.ylabel(\"Loss (J)\")\n",
        "plt.title(\"Convergence of gradient descent of X3\")"
      ]
    },
    {
      "cell_type": "code",
      "execution_count": null,
      "id": "697cb086",
      "metadata": {
        "id": "697cb086"
      },
      "outputs": [],
      "source": []
    },
    {
      "cell_type": "code",
      "execution_count": null,
      "id": "ed6cacf3",
      "metadata": {
        "id": "ed6cacf3"
      },
      "outputs": [],
      "source": []
    }
  ],
  "metadata": {
    "kernelspec": {
      "display_name": "Python 3 (ipykernel)",
      "language": "python",
      "name": "python3"
    },
    "language_info": {
      "codemirror_mode": {
        "name": "ipython",
        "version": 3
      },
      "file_extension": ".py",
      "mimetype": "text/x-python",
      "name": "python",
      "nbconvert_exporter": "python",
      "pygments_lexer": "ipython3",
      "version": "3.9.12"
    },
    "colab": {
      "provenance": []
    }
  },
  "nbformat": 4,
  "nbformat_minor": 5
}