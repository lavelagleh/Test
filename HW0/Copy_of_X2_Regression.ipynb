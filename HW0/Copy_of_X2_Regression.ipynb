{
  "cells": [
    {
      "cell_type": "code",
      "execution_count": null,
      "id": "3f25dbbc",
      "metadata": {
        "id": "3f25dbbc"
      },
      "outputs": [],
      "source": [
        "import numpy as np\n",
        "import pandas as pd\n",
        "import matplotlib.pyplot as plt"
      ]
    },
    {
      "cell_type": "code",
      "execution_count": null,
      "id": "5e678659",
      "metadata": {
        "id": "5e678659",
        "outputId": "6dbe9bc1-a758-4260-ab42-4dd27ae76724"
      },
      "outputs": [
        {
          "data": {
            "text/html": [
              "<div>\n",
              "<style scoped>\n",
              "    .dataframe tbody tr th:only-of-type {\n",
              "        vertical-align: middle;\n",
              "    }\n",
              "\n",
              "    .dataframe tbody tr th {\n",
              "        vertical-align: top;\n",
              "    }\n",
              "\n",
              "    .dataframe thead th {\n",
              "        text-align: right;\n",
              "    }\n",
              "</style>\n",
              "<table border=\"1\" class=\"dataframe\">\n",
              "  <thead>\n",
              "    <tr style=\"text-align: right;\">\n",
              "      <th></th>\n",
              "      <th>X1</th>\n",
              "      <th>X2</th>\n",
              "      <th>X3</th>\n",
              "      <th>Y</th>\n",
              "    </tr>\n",
              "  </thead>\n",
              "  <tbody>\n",
              "    <tr>\n",
              "      <th>0</th>\n",
              "      <td>0.000000</td>\n",
              "      <td>3.440000</td>\n",
              "      <td>0.440000</td>\n",
              "      <td>4.387545</td>\n",
              "    </tr>\n",
              "    <tr>\n",
              "      <th>1</th>\n",
              "      <td>0.040404</td>\n",
              "      <td>0.134949</td>\n",
              "      <td>0.888485</td>\n",
              "      <td>2.679650</td>\n",
              "    </tr>\n",
              "    <tr>\n",
              "      <th>2</th>\n",
              "      <td>0.080808</td>\n",
              "      <td>0.829899</td>\n",
              "      <td>1.336970</td>\n",
              "      <td>2.968490</td>\n",
              "    </tr>\n",
              "    <tr>\n",
              "      <th>3</th>\n",
              "      <td>0.121212</td>\n",
              "      <td>1.524848</td>\n",
              "      <td>1.785455</td>\n",
              "      <td>3.254065</td>\n",
              "    </tr>\n",
              "    <tr>\n",
              "      <th>4</th>\n",
              "      <td>0.161616</td>\n",
              "      <td>2.219798</td>\n",
              "      <td>2.233939</td>\n",
              "      <td>3.536375</td>\n",
              "    </tr>\n",
              "    <tr>\n",
              "      <th>...</th>\n",
              "      <td>...</td>\n",
              "      <td>...</td>\n",
              "      <td>...</td>\n",
              "      <td>...</td>\n",
              "    </tr>\n",
              "    <tr>\n",
              "      <th>95</th>\n",
              "      <td>3.838384</td>\n",
              "      <td>1.460202</td>\n",
              "      <td>3.046061</td>\n",
              "      <td>-4.440595</td>\n",
              "    </tr>\n",
              "    <tr>\n",
              "      <th>96</th>\n",
              "      <td>3.878788</td>\n",
              "      <td>2.155152</td>\n",
              "      <td>3.494545</td>\n",
              "      <td>-4.458663</td>\n",
              "    </tr>\n",
              "    <tr>\n",
              "      <th>97</th>\n",
              "      <td>3.919192</td>\n",
              "      <td>2.850101</td>\n",
              "      <td>3.943030</td>\n",
              "      <td>-4.479995</td>\n",
              "    </tr>\n",
              "    <tr>\n",
              "      <th>98</th>\n",
              "      <td>3.959596</td>\n",
              "      <td>3.545051</td>\n",
              "      <td>0.391515</td>\n",
              "      <td>-3.304593</td>\n",
              "    </tr>\n",
              "    <tr>\n",
              "      <th>99</th>\n",
              "      <td>4.000000</td>\n",
              "      <td>0.240000</td>\n",
              "      <td>0.840000</td>\n",
              "      <td>-5.332455</td>\n",
              "    </tr>\n",
              "  </tbody>\n",
              "</table>\n",
              "<p>100 rows × 4 columns</p>\n",
              "</div>"
            ],
            "text/plain": [
              "          X1        X2        X3         Y\n",
              "0   0.000000  3.440000  0.440000  4.387545\n",
              "1   0.040404  0.134949  0.888485  2.679650\n",
              "2   0.080808  0.829899  1.336970  2.968490\n",
              "3   0.121212  1.524848  1.785455  3.254065\n",
              "4   0.161616  2.219798  2.233939  3.536375\n",
              "..       ...       ...       ...       ...\n",
              "95  3.838384  1.460202  3.046061 -4.440595\n",
              "96  3.878788  2.155152  3.494545 -4.458663\n",
              "97  3.919192  2.850101  3.943030 -4.479995\n",
              "98  3.959596  3.545051  0.391515 -3.304593\n",
              "99  4.000000  0.240000  0.840000 -5.332455\n",
              "\n",
              "[100 rows x 4 columns]"
            ]
          },
          "execution_count": 2,
          "metadata": {},
          "output_type": "execute_result"
        }
      ],
      "source": [
        "#\n",
        "#df = pd.read_csv('C:\\\\Users\\\\Lavela T. Gleh\\\\Documents\\\\Juypter_Notebook\\\\HW0\\\\D3.csv')\n",
        "df = pd.read_csv('./D3.csv')\n",
        "df.head(100)"
      ]
    },
    {
      "cell_type": "code",
      "execution_count": null,
      "id": "5f2b9b5a",
      "metadata": {
        "id": "5f2b9b5a",
        "outputId": "374f9f9e-0486-4751-bb96-3a111900935e"
      },
      "outputs": [
        {
          "name": "stdout",
          "output_type": "stream",
          "text": [
            "[[0.         3.44       0.44       4.38754501]\n",
            " [0.04040404 0.1349495  0.88848485 2.6796499 ]\n",
            " [0.08080808 0.82989899 1.3369697  2.96848981]\n",
            " [0.12121212 1.52484848 1.78545454 3.25406475]\n",
            " [0.16161616 2.21979798 2.23393939 3.53637472]\n",
            " [0.2020202  2.91474747 2.68242424 3.81541972]\n",
            " [0.24242424 3.60969697 3.13090909 4.09119974]\n",
            " [0.28282828 0.30464646 3.57939394 2.36371479]\n",
            " [0.32323232 0.99959596 0.02787879 3.83296487]\n",
            " [0.36363636 1.69454546 0.47636364 4.09894997]\n",
            " [0.4040404  2.38949495 0.92484849 4.3616701 ]\n",
            " [0.44444444 3.08444444 1.37333333 4.62112526]\n",
            " [0.48484848 3.77939394 1.82181818 4.87731544]\n",
            " [0.52525252 0.47434343 2.27030303 3.13024065]\n",
            " [0.56565657 1.16929293 2.71878788 3.37990089]\n",
            " [0.60606061 1.86424242 3.16727273 3.62629616]\n",
            " [0.64646465 2.55919192 3.61575758 3.86942645]\n",
            " [0.68686869 3.25414141 0.06424242 5.30929177]\n",
            " [0.72727273 3.94909091 0.51272727 5.54589212]\n",
            " [0.76767677 0.6440404  0.96121212 3.77922749]]\n"
          ]
        }
      ],
      "source": [
        "dataset = df.values[:,:]\n",
        "print(dataset[:20,:])"
      ]
    },
    {
      "cell_type": "code",
      "execution_count": null,
      "id": "760e8bf4",
      "metadata": {
        "id": "760e8bf4",
        "outputId": "994b9aa2-dfb2-4487-f3d4-7038b23ce5e5"
      },
      "outputs": [
        {
          "data": {
            "text/plain": [
              "(100, 100)"
            ]
          },
          "execution_count": 4,
          "metadata": {},
          "output_type": "execute_result"
        }
      ],
      "source": [
        "X = df.values[:,1]\n",
        "Y = df.values[:,3]\n",
        "len(X), len(Y)"
      ]
    },
    {
      "cell_type": "code",
      "execution_count": null,
      "id": "6aeef7e7",
      "metadata": {
        "id": "6aeef7e7",
        "outputId": "a4c241ca-0cc8-43be-c373-64ab7914d160"
      },
      "outputs": [
        {
          "name": "stdout",
          "output_type": "stream",
          "text": [
            "X = [3.44       0.1349495  0.82989899 1.52484848 2.21979798]\n",
            "Y = [4.38754501 2.6796499  2.96848981 3.25406475 3.53637472]\n"
          ]
        }
      ],
      "source": [
        "print('X =', X[:5])\n",
        "print('Y =', Y[:5])"
      ]
    },
    {
      "cell_type": "code",
      "execution_count": null,
      "id": "ef0b398e",
      "metadata": {
        "id": "ef0b398e",
        "outputId": "2582664b-7bff-4102-b805-9165cd1356fb"
      },
      "outputs": [
        {
          "data": {
            "text/plain": [
              "Text(0.5, 1.0, 'Training Data of X2')"
            ]
          },
          "execution_count": 6,
          "metadata": {},
          "output_type": "execute_result"
        },
        {
          "data": {
            "image/png": "[encoded data removed]",
            "text/plain": [
              "<Figure size 432x288 with 1 Axes>"
            ]
          },
          "metadata": {
            "needs_background": "light"
          },
          "output_type": "display_data"
        }
      ],
      "source": [
        "plt.scatter(X,Y, color='red', marker='+')\n",
        "plt.grid()\n",
        "plt.rcParams[\"figure.figsize\"] = [7,7]\n",
        "plt.xlabel('X_2')\n",
        "plt.ylabel('Y')\n",
        "plt.title('Training Data of X2')"
      ]
    },
    {
      "cell_type": "code",
      "execution_count": null,
      "id": "a900d1ad",
      "metadata": {
        "id": "a900d1ad",
        "outputId": "ae9a688e-172f-44a9-e54a-866731378080"
      },
      "outputs": [
        {
          "name": "stdout",
          "output_type": "stream",
          "text": [
            "X_2 = [[3.44      ]\n",
            " [0.1349495 ]\n",
            " [0.82989899]\n",
            " [1.52484848]\n",
            " [2.21979798]]\n"
          ]
        }
      ],
      "source": [
        "# Reshape function to convert 1D array to 2D array (100x1)\n",
        "m = len(X)\n",
        "X_1 = X.reshape(m,1)\n",
        "print(\"X_2 =\", X_1[:5,:])"
      ]
    },
    {
      "cell_type": "code",
      "execution_count": null,
      "id": "fe21b3ff",
      "metadata": {
        "id": "fe21b3ff",
        "outputId": "4b127a29-234f-4a13-d7eb-0fc9c135315b"
      },
      "outputs": [
        {
          "data": {
            "text/plain": [
              "(array([[1.],\n",
              "        [1.],\n",
              "        [1.],\n",
              "        [1.],\n",
              "        [1.]]),\n",
              " 100)"
            ]
          },
          "execution_count": 8,
          "metadata": {},
          "output_type": "execute_result"
        }
      ],
      "source": [
        "# Create a single column of ones (X_0)\n",
        "m = len(X)\n",
        "X_0 = np.ones((m,1))\n",
        "X_0[:5], len(X_0)"
      ]
    },
    {
      "cell_type": "code",
      "execution_count": null,
      "id": "546be86e",
      "metadata": {
        "id": "546be86e",
        "outputId": "53a5de37-cdfb-46c3-f189-68d6385c3a66"
      },
      "outputs": [
        {
          "data": {
            "text/plain": [
              "array([[1.        , 3.44      ],\n",
              "       [1.        , 0.1349495 ],\n",
              "       [1.        , 0.82989899],\n",
              "       [1.        , 1.52484848],\n",
              "       [1.        , 2.21979798]])"
            ]
          },
          "execution_count": 9,
          "metadata": {},
          "output_type": "execute_result"
        }
      ],
      "source": [
        "X = np.hstack((X_0, X_1))\n",
        "X[:5]"
      ]
    },
    {
      "cell_type": "code",
      "execution_count": null,
      "id": "695a6c30",
      "metadata": {
        "id": "695a6c30",
        "outputId": "e02754a0-0330-49bb-f744-8d8e31245f2e"
      },
      "outputs": [
        {
          "data": {
            "text/plain": [
              "array([[0.],\n",
              "       [0.]])"
            ]
          },
          "execution_count": 10,
          "metadata": {},
          "output_type": "execute_result"
        }
      ],
      "source": [
        "theta = np.zeros((2,1))\n",
        "theta"
      ]
    },
    {
      "cell_type": "code",
      "execution_count": null,
      "id": "389bac71",
      "metadata": {
        "id": "389bac71"
      },
      "outputs": [],
      "source": [
        "\"\"\"\n",
        "Compute loss for linear regression for one time.\n",
        "\n",
        "Input Parameters\n",
        "X : 2D array for training example\n",
        "    m = number of training examples\n",
        "    n = number of features\n",
        "Y : 1D array of label/target values. Dimension: m\n",
        "\n",
        "theta : 2D array of fitting parameters. Dimension: n,1\n",
        "\n",
        "Output Parameters\n",
        "J : Loss\n",
        "\"\"\"\n",
        "\n",
        "def compute_loss(X, Y, theta):\n",
        "    predictions = X.dot(theta) #prediction = h\n",
        "    errors = np.subtract(predictions, Y)\n",
        "    sqrErrors = np.square(errors)\n",
        "    J = 1 / (2 * m) * np.sum(sqrErrors)\n",
        "    \n",
        "    return J"
      ]
    },
    {
      "cell_type": "code",
      "execution_count": null,
      "id": "6b0ce90e",
      "metadata": {
        "id": "6b0ce90e",
        "outputId": "7397a1af-8a8e-473a-892b-91185bec3c58"
      },
      "outputs": [
        {
          "name": "stdout",
          "output_type": "stream",
          "text": [
            "The cost for given theta_0 and theta_2 = 552.4438459196241\n"
          ]
        }
      ],
      "source": [
        "# Compute the cost for theta values\n",
        "cost = compute_loss(X, Y, theta)\n",
        "print(\"The cost for given theta_0 and theta_2 =\", cost)"
      ]
    },
    {
      "cell_type": "code",
      "execution_count": null,
      "id": "eeeed475",
      "metadata": {
        "id": "eeeed475"
      },
      "outputs": [],
      "source": [
        "\"\"\"\n",
        "Compute loss for l inear regression for all iterations\n",
        "\n",
        "Input Parameters\n",
        "X: 2D array, Dimension: m x n\n",
        "    m = number of training data point\n",
        "    n = number of features\n",
        "Y: 1D array of labels/target value for each training data point. Dimension: m\n",
        "theta: 2D array of fitting parameters or weights. Dimension: (n,1)\n",
        "alpha : learning rate\n",
        "iterations: Number of iterations.\n",
        "\n",
        "Output Parameters\n",
        "theta: Final Value. 2D array of fitting parameters or weights. Dimension: n,1\n",
        "loss_history: Contains value of cost at each iteration. 1D Array. Dimension: m\n",
        "\"\"\"\n",
        "def gradient_descent(X, Y, theta, alpha, iterations):\n",
        "    loss_history = np.zeros(iterations)\n",
        "    \n",
        "    for i in range(iterations):\n",
        "        predictions = X.dot(theta) # prediction (m,1) = temp\n",
        "        errors = np.subtract(predictions, Y) # Error (m,1) = temp\n",
        "        sum_delta = (alpha / m) * X.transpose().dot(errors); # sum_delta (n,1)\n",
        "        theta = theta - sum_delta; # theta (n,1)\n",
        "        loss_history[i] = compute_loss(X, Y, theta)\n",
        "    return theta, loss_history"
      ]
    },
    {
      "cell_type": "code",
      "execution_count": null,
      "id": "df8cbaee",
      "metadata": {
        "id": "df8cbaee"
      },
      "outputs": [],
      "source": [
        "theta = [0., 0.]\n",
        "iterations = 500\n",
        "alpha = 0.004"
      ]
    },
    {
      "cell_type": "code",
      "execution_count": null,
      "id": "0b4d8900",
      "metadata": {
        "id": "0b4d8900",
        "outputId": "c7992fd0-5b11-4b84-ab56-d0b1b5b298ea"
      },
      "outputs": [
        {
          "name": "stdout",
          "output_type": "stream",
          "text": [
            "Final value of theta = [0.44673177 0.67021365]\n",
            "loss_history = [5.43227213 5.34457428 5.26112817 5.18172756 5.10617622 5.03428746\n",
            " 4.9658836  4.90079563 4.83886269 4.77993177 4.72385723 4.67050055\n",
            " 4.61972988 4.57141979 4.52545094 4.48170977 4.44008822 4.40048347\n",
            " 4.36279772 4.32693787 4.29281537 4.26034595 4.22944942 4.2000495\n",
            " 4.17207359 4.14545262 4.12012088 4.09601583 4.07307798 4.05125071\n",
            " 4.03048016 4.01071507 3.99190667 3.97400857 3.95697661 3.94076878\n",
            " 3.92534512 3.91066758 3.89669998 3.88340788 3.87075854 3.85872076\n",
            " 3.84726489 3.83636271 3.82598736 3.81611329 3.8067162  3.79777294\n",
            " 3.78926151 3.78116096 3.77345137 3.76611378 3.75913015 3.75248331\n",
            " 3.74615692 3.74013546 3.73440412 3.72894885 3.72375625 3.71881358\n",
            " 3.71410873 3.70963017 3.70536692 3.70130853 3.69744509 3.69376713\n",
            " 3.69026565 3.68693212 3.68375837 3.68073667 3.67785964 3.67512026\n",
            " 3.67251187 3.67002812 3.66766295 3.66541063 3.66326568 3.6612229\n",
            " 3.65927733 3.65742427 3.65565922 3.65397793 3.65237633 3.65085056\n",
            " 3.64939695 3.648012   3.64669238 3.64543493 3.64423663 3.64309462\n",
            " 3.64200617 3.64096869 3.63997971 3.63903687 3.63813795 3.63728081\n",
            " 3.63646344 3.6356839  3.63494037 3.6342311  3.63355444 3.6329088\n",
            " 3.63229268 3.63170466 3.63114337 3.63060752 3.63009588 3.62960728\n",
            " 3.62914061 3.6286948  3.62826885 3.62786179 3.62747271 3.62710075\n",
            " 3.62674507 3.62640489 3.62607946 3.62576807 3.62547004 3.62518472\n",
            " 3.62491151 3.62464981 3.62439908 3.62415878 3.62392841 3.62370749\n",
            " 3.62349557 3.62329221 3.623097   3.62290955 3.62272948 3.62255645\n",
            " 3.6223901  3.62223013 3.62207622 3.62192808 3.62178544 3.62164803\n",
            " 3.62151561 3.62138793 3.62126476 3.62114589 3.62103112 3.62092025\n",
            " 3.62081308 3.62070946 3.6206092  3.62051215 3.62041815 3.62032706\n",
            " 3.62023874 3.62015306 3.62006989 3.61998912 3.61991063 3.61983431\n",
            " 3.61976006 3.61968779 3.6196174  3.6195488  3.61948191 3.61941665\n",
            " 3.61935294 3.61929072 3.6192299  3.61917042 3.61911223 3.61905527\n",
            " 3.61899947 3.61894478 3.61889116 3.61883855 3.61878691 3.61873618\n",
            " 3.61868635 3.61863735 3.61858915 3.61854172 3.61849503 3.61844903\n",
            " 3.6184037  3.61835901 3.61831493 3.61827144 3.6182285  3.6181861\n",
            " 3.61814421 3.61810281 3.61806187 3.61802138 3.61798132 3.61794168\n",
            " 3.61790242 3.61786354 3.61782503 3.61778686 3.61774902 3.61771151\n",
            " 3.6176743  3.61763738 3.61760074 3.61756438 3.61752828 3.61749243\n",
            " 3.61745682 3.61742144 3.61738629 3.61735135 3.61731662 3.61728209\n",
            " 3.61724776 3.61721361 3.61717964 3.61714584 3.61711222 3.61707875\n",
            " 3.61704545 3.61701229 3.61697928 3.61694642 3.61691369 3.6168811\n",
            " 3.61684864 3.61681631 3.61678409 3.616752   3.61672003 3.61668817\n",
            " 3.61665642 3.61662477 3.61659323 3.6165618  3.61653046 3.61649922\n",
            " 3.61646808 3.61643703 3.61640607 3.6163752  3.61634442 3.61631372\n",
            " 3.61628311 3.61625258 3.61622213 3.61619176 3.61616147 3.61613126\n",
            " 3.61610112 3.61607106 3.61604107 3.61601115 3.6159813  3.61595152\n",
            " 3.61592181 3.61589217 3.6158626  3.61583309 3.61580365 3.61577428\n",
            " 3.61574497 3.61571572 3.61568653 3.61565741 3.61562835 3.61559935\n",
            " 3.61557041 3.61554153 3.61551271 3.61548395 3.61545524 3.6154266\n",
            " 3.61539801 3.61536948 3.615341   3.61531258 3.61528422 3.61525591\n",
            " 3.61522766 3.61519946 3.61517132 3.61514323 3.6151152  3.61508722\n",
            " 3.61505929 3.61503141 3.61500359 3.61497582 3.6149481  3.61492044\n",
            " 3.61489282 3.61486526 3.61483775 3.61481029 3.61478288 3.61475552\n",
            " 3.61472821 3.61470096 3.61467375 3.61464659 3.61461948 3.61459243\n",
            " 3.61456542 3.61453846 3.61451155 3.61448469 3.61445787 3.61443111\n",
            " 3.6144044  3.61437773 3.61435111 3.61432454 3.61429802 3.61427154\n",
            " 3.61424512 3.61421874 3.6141924  3.61416612 3.61413988 3.61411369\n",
            " 3.61408755 3.61406145 3.61403541 3.6140094  3.61398345 3.61395754\n",
            " 3.61393167 3.61390586 3.61388009 3.61385436 3.61382868 3.61380305\n",
            " 3.61377746 3.61375192 3.61372643 3.61370097 3.61367557 3.61365021\n",
            " 3.6136249  3.61359963 3.6135744  3.61354922 3.61352409 3.613499\n",
            " 3.61347395 3.61344895 3.61342399 3.61339908 3.61337421 3.61334939\n",
            " 3.61332461 3.61329988 3.61327519 3.61325054 3.61322593 3.61320137\n",
            " 3.61317686 3.61315238 3.61312796 3.61310357 3.61307923 3.61305493\n",
            " 3.61303067 3.61300646 3.61298229 3.61295816 3.61293407 3.61291003\n",
            " 3.61288603 3.61286208 3.61283816 3.61281429 3.61279046 3.61276667\n",
            " 3.61274293 3.61271923 3.61269557 3.61267195 3.61264837 3.61262483\n",
            " 3.61260134 3.61257789 3.61255448 3.61253111 3.61250778 3.6124845\n",
            " 3.61246125 3.61243805 3.61241489 3.61239177 3.61236869 3.61234565\n",
            " 3.61232265 3.61229969 3.61227677 3.6122539  3.61223106 3.61220827\n",
            " 3.61218551 3.6121628  3.61214012 3.61211749 3.61209489 3.61207234\n",
            " 3.61204982 3.61202735 3.61200492 3.61198252 3.61196017 3.61193785\n",
            " 3.61191558 3.61189334 3.61187114 3.61184898 3.61182687 3.61180479\n",
            " 3.61178275 3.61176075 3.61173878 3.61171686 3.61169498 3.61167313\n",
            " 3.61165133 3.61162956 3.61160783 3.61158614 3.61156449 3.61154287\n",
            " 3.6115213  3.61149976 3.61147826 3.6114568  3.61143537 3.61141399\n",
            " 3.61139264 3.61137133 3.61135006 3.61132883 3.61130763 3.61128647\n",
            " 3.61126535 3.61124426 3.61122322 3.61120221 3.61118124 3.6111603\n",
            " 3.6111394  3.61111854 3.61109772 3.61107693 3.61105618 3.61103547\n",
            " 3.61101479 3.61099415 3.61097355 3.61095298 3.61093245 3.61091196\n",
            " 3.6108915  3.61087108 3.61085069 3.61083034 3.61081003 3.61078975\n",
            " 3.61076951 3.6107493  3.61072913 3.610709   3.6106889  3.61066884\n",
            " 3.61064881 3.61062882 3.61060886 3.61058894 3.61056906 3.61054921\n",
            " 3.61052939 3.61050961 3.61048987 3.61047016 3.61045048 3.61043084\n",
            " 3.61041124 3.61039167 3.61037213 3.61035263 3.61033316 3.61031373\n",
            " 3.61029433 3.61027497 3.61025564 3.61023634 3.61021708 3.61019786\n",
            " 3.61017866 3.61015951 3.61014038 3.61012129 3.61010223 3.61008321\n",
            " 3.61006422 3.61004527]\n"
          ]
        }
      ],
      "source": [
        "theta, loss_history = gradient_descent(X, Y, theta, alpha, iterations)\n",
        "print(\"Final value of theta =\", theta)\n",
        "print(\"loss_history =\", loss_history)"
      ]
    },
    {
      "cell_type": "code",
      "execution_count": null,
      "id": "969f99e8",
      "metadata": {
        "id": "969f99e8",
        "outputId": "fae9bcee-e1e1-4db5-f85b-7151d501173f"
      },
      "outputs": [
        {
          "data": {
            "text/plain": [
              "<matplotlib.legend.Legend at 0x1e3c5487b80>"
            ]
          },
          "execution_count": 16,
          "metadata": {},
          "output_type": "execute_result"
        },
        {
          "data": {
            "image/png": "[encoded data removed]",
            "text/plain": [
              "<Figure size 504x504 with 1 Axes>"
            ]
          },
          "metadata": {
            "needs_background": "light"
          },
          "output_type": "display_data"
        }
      ],
      "source": [
        "# Graphing linear regression with training data points\n",
        "plt.scatter(X[:,1], Y, color='red', marker='+', label= 'Training Data')\n",
        "plt.plot(X[:,1], X.dot(theta), color='green', label= 'Linear Regression')\n",
        "plt.rcParams[\"figure.figsize\"] = [12,8]\n",
        "plt.grid()\n",
        "plt.xlabel(\"X_2\")\n",
        "plt.ylabel(\"Y\")\n",
        "plt.title(\"X_2 Training with Linear Regression Fit\")\n",
        "plt.legend()"
      ]
    },
    {
      "cell_type": "code",
      "execution_count": null,
      "id": "5045d0eb",
      "metadata": {
        "id": "5045d0eb",
        "outputId": "ed41a158-2e78-4e44-ccc5-a67b52a5e4eb"
      },
      "outputs": [
        {
          "data": {
            "text/plain": [
              "Text(0.5, 1.0, 'Convergence of gradient descent of X2')"
            ]
          },
          "execution_count": 17,
          "metadata": {},
          "output_type": "execute_result"
        },
        {
          "data": {
            "image/png": "[encoded data removed]",
            "text/plain": [
              "<Figure size 864x576 with 1 Axes>"
            ]
          },
          "metadata": {
            "needs_background": "light"
          },
          "output_type": "display_data"
        }
      ],
      "source": [
        "plt.plot(range(1, iterations + 1), loss_history, color = 'black')\n",
        "plt.rcParams[\"figure.figsize\"] = [12,8]\n",
        "plt.grid()\n",
        "plt.xlabel(\"Numbers of iterations\")\n",
        "plt.ylabel(\"Loss (J)\")\n",
        "plt.title(\"Convergence of gradient descent of X2\")"
      ]
    },
    {
      "cell_type": "code",
      "execution_count": null,
      "id": "697cb086",
      "metadata": {
        "id": "697cb086"
      },
      "outputs": [],
      "source": []
    },
    {
      "cell_type": "code",
      "execution_count": null,
      "id": "ed6cacf3",
      "metadata": {
        "id": "ed6cacf3"
      },
      "outputs": [],
      "source": []
    }
  ],
  "metadata": {
    "kernelspec": {
      "display_name": "Python 3 (ipykernel)",
      "language": "python",
      "name": "python3"
    },
    "language_info": {
      "codemirror_mode": {
        "name": "ipython",
        "version": 3
      },
      "file_extension": ".py",
      "mimetype": "text/x-python",
      "name": "python",
      "nbconvert_exporter": "python",
      "pygments_lexer": "ipython3",
      "version": "3.9.12"
    },
    "colab": {
      "provenance": []
    }
  },
  "nbformat": 4,
  "nbformat_minor": 5
}