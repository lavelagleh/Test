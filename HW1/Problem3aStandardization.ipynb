{
  "cells": [
    {
      "cell_type": "code",
      "execution_count": null,
      "id": "b7f1042f",
      "metadata": {
        "id": "b7f1042f"
      },
      "outputs": [],
      "source": [
        "import numpy as np\n",
        "import pandas as pd\n",
        "import matplotlib.pyplot as plt\n",
        "import seaborn as sns"
      ]
    },
    {
      "cell_type": "code",
      "execution_count": null,
      "id": "d3c30622",
      "metadata": {
        "id": "d3c30622",
        "outputId": "25d7d232-2845-40f9-be11-dab5ae22ae62"
      },
      "outputs": [
        {
          "data": {
            "text/html": [
              "<div>\n",
              "<style scoped>\n",
              "    .dataframe tbody tr th:only-of-type {\n",
              "        vertical-align: middle;\n",
              "    }\n",
              "\n",
              "    .dataframe tbody tr th {\n",
              "        vertical-align: top;\n",
              "    }\n",
              "\n",
              "    .dataframe thead th {\n",
              "        text-align: right;\n",
              "    }\n",
              "</style>\n",
              "<table border=\"1\" class=\"dataframe\">\n",
              "  <thead>\n",
              "    <tr style=\"text-align: right;\">\n",
              "      <th></th>\n",
              "      <th>price</th>\n",
              "      <th>area</th>\n",
              "      <th>bedrooms</th>\n",
              "      <th>bathrooms</th>\n",
              "      <th>stories</th>\n",
              "      <th>mainroad</th>\n",
              "      <th>guestroom</th>\n",
              "      <th>basement</th>\n",
              "      <th>hotwaterheating</th>\n",
              "      <th>airconditioning</th>\n",
              "      <th>parking</th>\n",
              "      <th>prefarea</th>\n",
              "      <th>furnishingstatus</th>\n",
              "    </tr>\n",
              "  </thead>\n",
              "  <tbody>\n",
              "    <tr>\n",
              "      <th>0</th>\n",
              "      <td>13300000</td>\n",
              "      <td>7420</td>\n",
              "      <td>4</td>\n",
              "      <td>2</td>\n",
              "      <td>3</td>\n",
              "      <td>yes</td>\n",
              "      <td>no</td>\n",
              "      <td>no</td>\n",
              "      <td>no</td>\n",
              "      <td>yes</td>\n",
              "      <td>2</td>\n",
              "      <td>yes</td>\n",
              "      <td>furnished</td>\n",
              "    </tr>\n",
              "    <tr>\n",
              "      <th>1</th>\n",
              "      <td>12250000</td>\n",
              "      <td>8960</td>\n",
              "      <td>4</td>\n",
              "      <td>4</td>\n",
              "      <td>4</td>\n",
              "      <td>yes</td>\n",
              "      <td>no</td>\n",
              "      <td>no</td>\n",
              "      <td>no</td>\n",
              "      <td>yes</td>\n",
              "      <td>3</td>\n",
              "      <td>no</td>\n",
              "      <td>furnished</td>\n",
              "    </tr>\n",
              "    <tr>\n",
              "      <th>2</th>\n",
              "      <td>12250000</td>\n",
              "      <td>9960</td>\n",
              "      <td>3</td>\n",
              "      <td>2</td>\n",
              "      <td>2</td>\n",
              "      <td>yes</td>\n",
              "      <td>no</td>\n",
              "      <td>yes</td>\n",
              "      <td>no</td>\n",
              "      <td>no</td>\n",
              "      <td>2</td>\n",
              "      <td>yes</td>\n",
              "      <td>semi-furnished</td>\n",
              "    </tr>\n",
              "    <tr>\n",
              "      <th>3</th>\n",
              "      <td>12215000</td>\n",
              "      <td>7500</td>\n",
              "      <td>4</td>\n",
              "      <td>2</td>\n",
              "      <td>2</td>\n",
              "      <td>yes</td>\n",
              "      <td>no</td>\n",
              "      <td>yes</td>\n",
              "      <td>no</td>\n",
              "      <td>yes</td>\n",
              "      <td>3</td>\n",
              "      <td>yes</td>\n",
              "      <td>furnished</td>\n",
              "    </tr>\n",
              "    <tr>\n",
              "      <th>4</th>\n",
              "      <td>11410000</td>\n",
              "      <td>7420</td>\n",
              "      <td>4</td>\n",
              "      <td>1</td>\n",
              "      <td>2</td>\n",
              "      <td>yes</td>\n",
              "      <td>yes</td>\n",
              "      <td>yes</td>\n",
              "      <td>no</td>\n",
              "      <td>yes</td>\n",
              "      <td>2</td>\n",
              "      <td>no</td>\n",
              "      <td>furnished</td>\n",
              "    </tr>\n",
              "  </tbody>\n",
              "</table>\n",
              "</div>"
            ],
            "text/plain": [
              "      price  area  bedrooms  bathrooms  stories mainroad guestroom basement  \\\n",
              "0  13300000  7420         4          2        3      yes        no       no   \n",
              "1  12250000  8960         4          4        4      yes        no       no   \n",
              "2  12250000  9960         3          2        2      yes        no      yes   \n",
              "3  12215000  7500         4          2        2      yes        no      yes   \n",
              "4  11410000  7420         4          1        2      yes       yes      yes   \n",
              "\n",
              "  hotwaterheating airconditioning  parking prefarea furnishingstatus  \n",
              "0              no             yes        2      yes        furnished  \n",
              "1              no             yes        3       no        furnished  \n",
              "2              no              no        2      yes   semi-furnished  \n",
              "3              no             yes        3      yes        furnished  \n",
              "4              no             yes        2       no        furnished  "
            ]
          },
          "execution_count": 2,
          "metadata": {},
          "output_type": "execute_result"
        }
      ],
      "source": [
        "housing = pd.DataFrame(pd.read_csv('./Housing.csv'))\n",
        "housing.head()"
      ]
    },
    {
      "cell_type": "code",
      "execution_count": null,
      "id": "b77ddc39",
      "metadata": {
        "id": "b77ddc39",
        "outputId": "33975528-441a-4084-c864-0cbfb7adad8b"
      },
      "outputs": [
        {
          "data": {
            "text/plain": [
              "(436, 13)"
            ]
          },
          "execution_count": 3,
          "metadata": {},
          "output_type": "execute_result"
        }
      ],
      "source": [
        "# Splitting the Data into Training and Testing Sets\n",
        "from sklearn.model_selection import train_test_split\n",
        "\n",
        "# Random seed to randomize the dataset.\n",
        "np.random.seed(0)\n",
        "df_train, df_test = train_test_split(housing, train_size = 0.8, test_size = 0.2)\n",
        "df_train.shape"
      ]
    },
    {
      "cell_type": "code",
      "execution_count": null,
      "id": "e09f71a1",
      "metadata": {
        "id": "e09f71a1",
        "outputId": "2a410ab9-28c1-4e97-bf67-80a7cfd23dcb"
      },
      "outputs": [
        {
          "data": {
            "text/plain": [
              "(109, 13)"
            ]
          },
          "execution_count": 4,
          "metadata": {},
          "output_type": "execute_result"
        }
      ],
      "source": [
        "df_test.shape"
      ]
    },
    {
      "cell_type": "code",
      "execution_count": null,
      "id": "49f83ad4",
      "metadata": {
        "id": "49f83ad4",
        "outputId": "d9cf2adc-24f0-4d24-bb94-f4df7321fdb2"
      },
      "outputs": [
        {
          "data": {
            "text/html": [
              "<div>\n",
              "<style scoped>\n",
              "    .dataframe tbody tr th:only-of-type {\n",
              "        vertical-align: middle;\n",
              "    }\n",
              "\n",
              "    .dataframe tbody tr th {\n",
              "        vertical-align: top;\n",
              "    }\n",
              "\n",
              "    .dataframe thead th {\n",
              "        text-align: right;\n",
              "    }\n",
              "</style>\n",
              "<table border=\"1\" class=\"dataframe\">\n",
              "  <thead>\n",
              "    <tr style=\"text-align: right;\">\n",
              "      <th></th>\n",
              "      <th>area</th>\n",
              "      <th>bedrooms</th>\n",
              "      <th>bathrooms</th>\n",
              "      <th>stories</th>\n",
              "      <th>parking</th>\n",
              "      <th>price</th>\n",
              "    </tr>\n",
              "  </thead>\n",
              "  <tbody>\n",
              "    <tr>\n",
              "      <th>542</th>\n",
              "      <td>3620</td>\n",
              "      <td>2</td>\n",
              "      <td>1</td>\n",
              "      <td>1</td>\n",
              "      <td>0</td>\n",
              "      <td>1750000</td>\n",
              "    </tr>\n",
              "    <tr>\n",
              "      <th>496</th>\n",
              "      <td>4000</td>\n",
              "      <td>2</td>\n",
              "      <td>1</td>\n",
              "      <td>1</td>\n",
              "      <td>0</td>\n",
              "      <td>2695000</td>\n",
              "    </tr>\n",
              "    <tr>\n",
              "      <th>484</th>\n",
              "      <td>3040</td>\n",
              "      <td>2</td>\n",
              "      <td>1</td>\n",
              "      <td>1</td>\n",
              "      <td>0</td>\n",
              "      <td>2870000</td>\n",
              "    </tr>\n",
              "    <tr>\n",
              "      <th>507</th>\n",
              "      <td>3600</td>\n",
              "      <td>2</td>\n",
              "      <td>1</td>\n",
              "      <td>1</td>\n",
              "      <td>0</td>\n",
              "      <td>2590000</td>\n",
              "    </tr>\n",
              "    <tr>\n",
              "      <th>252</th>\n",
              "      <td>9860</td>\n",
              "      <td>3</td>\n",
              "      <td>1</td>\n",
              "      <td>1</td>\n",
              "      <td>0</td>\n",
              "      <td>4515000</td>\n",
              "    </tr>\n",
              "  </tbody>\n",
              "</table>\n",
              "</div>"
            ],
            "text/plain": [
              "     area  bedrooms  bathrooms  stories  parking    price\n",
              "542  3620         2          1        1        0  1750000\n",
              "496  4000         2          1        1        0  2695000\n",
              "484  3040         2          1        1        0  2870000\n",
              "507  3600         2          1        1        0  2590000\n",
              "252  9860         3          1        1        0  4515000"
            ]
          },
          "execution_count": 5,
          "metadata": {},
          "output_type": "execute_result"
        }
      ],
      "source": [
        "num_vars = ['area', 'bedrooms', 'bathrooms', 'stories', 'parking', 'price']\n",
        "df_threeAtrain = df_train[num_vars]\n",
        "df_threeAtest = df_test[num_vars]\n",
        "df_threeAtrain.head()"
      ]
    },
    {
      "cell_type": "code",
      "execution_count": null,
      "id": "223a4139",
      "metadata": {
        "id": "223a4139",
        "outputId": "f19f75eb-5381-4ff8-a18e-06a492d5608e"
      },
      "outputs": [
        {
          "data": {
            "text/html": [
              "<div>\n",
              "<style scoped>\n",
              "    .dataframe tbody tr th:only-of-type {\n",
              "        vertical-align: middle;\n",
              "    }\n",
              "\n",
              "    .dataframe tbody tr th {\n",
              "        vertical-align: top;\n",
              "    }\n",
              "\n",
              "    .dataframe thead th {\n",
              "        text-align: right;\n",
              "    }\n",
              "</style>\n",
              "<table border=\"1\" class=\"dataframe\">\n",
              "  <thead>\n",
              "    <tr style=\"text-align: right;\">\n",
              "      <th></th>\n",
              "      <th>area</th>\n",
              "      <th>bedrooms</th>\n",
              "      <th>bathrooms</th>\n",
              "      <th>stories</th>\n",
              "      <th>parking</th>\n",
              "      <th>price</th>\n",
              "    </tr>\n",
              "  </thead>\n",
              "  <tbody>\n",
              "    <tr>\n",
              "      <th>542</th>\n",
              "      <td>-0.716772</td>\n",
              "      <td>-1.294376</td>\n",
              "      <td>-0.573307</td>\n",
              "      <td>-0.933142</td>\n",
              "      <td>-0.819149</td>\n",
              "      <td>-1.586001</td>\n",
              "    </tr>\n",
              "    <tr>\n",
              "      <th>496</th>\n",
              "      <td>-0.538936</td>\n",
              "      <td>-1.294376</td>\n",
              "      <td>-0.573307</td>\n",
              "      <td>-0.933142</td>\n",
              "      <td>-0.819149</td>\n",
              "      <td>-1.090971</td>\n",
              "    </tr>\n",
              "    <tr>\n",
              "      <th>484</th>\n",
              "      <td>-0.988206</td>\n",
              "      <td>-1.294376</td>\n",
              "      <td>-0.573307</td>\n",
              "      <td>-0.933142</td>\n",
              "      <td>-0.819149</td>\n",
              "      <td>-0.999299</td>\n",
              "    </tr>\n",
              "    <tr>\n",
              "      <th>507</th>\n",
              "      <td>-0.726132</td>\n",
              "      <td>-1.294376</td>\n",
              "      <td>-0.573307</td>\n",
              "      <td>-0.933142</td>\n",
              "      <td>-0.819149</td>\n",
              "      <td>-1.145974</td>\n",
              "    </tr>\n",
              "    <tr>\n",
              "      <th>252</th>\n",
              "      <td>2.203478</td>\n",
              "      <td>0.052516</td>\n",
              "      <td>-0.573307</td>\n",
              "      <td>-0.933142</td>\n",
              "      <td>-0.819149</td>\n",
              "      <td>-0.137579</td>\n",
              "    </tr>\n",
              "  </tbody>\n",
              "</table>\n",
              "</div>"
            ],
            "text/plain": [
              "         area  bedrooms  bathrooms   stories   parking     price\n",
              "542 -0.716772 -1.294376  -0.573307 -0.933142 -0.819149 -1.586001\n",
              "496 -0.538936 -1.294376  -0.573307 -0.933142 -0.819149 -1.090971\n",
              "484 -0.988206 -1.294376  -0.573307 -0.933142 -0.819149 -0.999299\n",
              "507 -0.726132 -1.294376  -0.573307 -0.933142 -0.819149 -1.145974\n",
              "252  2.203478  0.052516  -0.573307 -0.933142 -0.819149 -0.137579"
            ]
          },
          "execution_count": 6,
          "metadata": {},
          "output_type": "execute_result"
        }
      ],
      "source": [
        "# Many columns contains small integer values excluding areas. Needs to rescale the variables.\n",
        "# Advised to use starndarization or normalization, so the coefficients is comparable. \n",
        "\n",
        "# Two ways of rescaling:\n",
        "# 1.) Min-Max Scaling\n",
        "# 2.) Standardization (For this code.)\n",
        "\n",
        "import warnings\n",
        "warnings.filterwarnings('ignore')\n",
        "\n",
        "from sklearn.preprocessing import MinMaxScaler, StandardScaler\n",
        "scaler = StandardScaler()\n",
        "df_threeAtrain[num_vars] = scaler.fit_transform(df_threeAtrain[num_vars])\n",
        "df_threeAtrain.head()"
      ]
    },
    {
      "cell_type": "code",
      "execution_count": null,
      "id": "243469fe",
      "metadata": {
        "id": "243469fe",
        "outputId": "8d1387fc-4716-4cbb-fba7-f890c852143e"
      },
      "outputs": [
        {
          "name": "stdout",
          "output_type": "stream",
          "text": [
            "[[-0.71677205 -1.29437561 -0.57330726 -0.93314164 -0.81914879 -1.5860012 ]\n",
            " [-0.53893631 -1.29437561 -0.57330726 -0.93314164 -0.81914879 -1.09097091]\n",
            " [-0.98820554 -1.29437561 -0.57330726 -0.93314164 -0.81914879 -0.99929863]\n",
            " [-0.72613182 -1.29437561 -0.57330726 -0.93314164 -0.81914879 -1.14597428]\n",
            " [ 2.20347795  0.05251643 -0.57330726 -0.93314164 -0.81914879 -0.13757923]\n",
            " [-0.55391195  0.05251643 -0.57330726  0.21291401 -0.81914879 -0.1925826 ]\n",
            " [-0.61381451  0.05251643 -0.57330726  0.21291401  0.32555914 -0.10091032]\n",
            " [ 2.17539862  1.39940847  1.4755613   0.21291401  1.47026706  0.24744433]\n",
            " [-0.70741227 -1.29437561 -0.57330726 -0.93314164 -0.81914879 -0.63260953]\n",
            " [-0.76357092 -1.29437561  1.4755613  -0.93314164 -0.81914879 -0.59594061]\n",
            " [ 3.76656047  0.05251643 -0.57330726  0.21291401  1.47026706  2.63092353]\n",
            " [-1.14732172 -1.29437561 -0.57330726 -0.93314164 -0.81914879 -0.96262972]\n",
            " [-0.39853968  4.09319255  1.4755613   0.21291401 -0.81914879  0.68380437]\n",
            " [-0.30494192 -1.29437561 -0.57330726 -0.93314164 -0.81914879 -0.79761962]\n",
            " [-0.07328747  1.39940847  1.4755613  -0.93314164 -0.81914879  0.06043289]\n",
            " [-0.97463386 -1.29437561 -0.57330726 -0.93314164  0.32555914 -0.85262299]\n",
            " [-0.37420426  1.39940847 -0.57330726  0.21291401  0.32555914 -0.94429527]\n",
            " [ 1.74484894  0.05251643  1.4755613   0.21291401  0.32555914  1.12749819]\n",
            " [ 3.64675535  0.05251643 -0.57330726 -0.93314164 -0.81914879 -0.66927844]\n",
            " [ 0.93990824  0.05251643 -0.57330726 -0.93314164  1.47026706  0.57746453]]\n"
          ]
        }
      ],
      "source": [
        "dataset_train = df_threeAtrain.values[:,:]\n",
        "print(dataset_train[:20,:])"
      ]
    },
    {
      "cell_type": "code",
      "execution_count": null,
      "id": "e3ed44d8",
      "metadata": {
        "id": "e3ed44d8",
        "outputId": "9127f4fb-177d-48ae-fcdf-b11b846a8444"
      },
      "outputs": [
        {
          "data": {
            "text/plain": [
              "(436, 436)"
            ]
          },
          "execution_count": 8,
          "metadata": {},
          "output_type": "execute_result"
        }
      ],
      "source": [
        "X_train = df_threeAtrain.values[:,0:5]\n",
        "Y_train = df_threeAtrain.values[:,5]\n",
        "len(X_train), len(Y_train)"
      ]
    },
    {
      "cell_type": "code",
      "execution_count": null,
      "id": "12fd838f",
      "metadata": {
        "id": "12fd838f",
        "outputId": "38d38a8b-935c-479a-96ff-7fe5394dc1f8"
      },
      "outputs": [
        {
          "name": "stdout",
          "output_type": "stream",
          "text": [
            "X = [[-0.71677205 -1.29437561 -0.57330726 -0.93314164 -0.81914879]\n",
            " [-0.53893631 -1.29437561 -0.57330726 -0.93314164 -0.81914879]\n",
            " [-0.98820554 -1.29437561 -0.57330726 -0.93314164 -0.81914879]\n",
            " [-0.72613182 -1.29437561 -0.57330726 -0.93314164 -0.81914879]\n",
            " [ 2.20347795  0.05251643 -0.57330726 -0.93314164 -0.81914879]]\n",
            "Y = [-1.5860012  -1.09097091 -0.99929863 -1.14597428 -0.13757923]\n"
          ]
        }
      ],
      "source": [
        "print('X =', X_train[:5])\n",
        "print('Y =', Y_train[:5])"
      ]
    },
    {
      "cell_type": "code",
      "execution_count": null,
      "id": "440f7a34",
      "metadata": {
        "id": "440f7a34",
        "outputId": "a8f36528-f5a3-4791-a258-3532bb927fd9"
      },
      "outputs": [
        {
          "name": "stdout",
          "output_type": "stream",
          "text": [
            "X_1 = [[-0.71677205 -1.29437561 -0.57330726 -0.93314164 -0.81914879]\n",
            " [-0.53893631 -1.29437561 -0.57330726 -0.93314164 -0.81914879]\n",
            " [-0.98820554 -1.29437561 -0.57330726 -0.93314164 -0.81914879]\n",
            " [-0.72613182 -1.29437561 -0.57330726 -0.93314164 -0.81914879]\n",
            " [ 2.20347795  0.05251643 -0.57330726 -0.93314164 -0.81914879]]\n"
          ]
        }
      ],
      "source": [
        "# Convert to 2D array (381x5)\n",
        "m = len(X_train)\n",
        "X_1 = X_train.reshape(m,5)\n",
        "print(\"X_1 =\", X_1[:5,:])"
      ]
    },
    {
      "cell_type": "code",
      "execution_count": null,
      "id": "a646bc65",
      "metadata": {
        "id": "a646bc65",
        "outputId": "212a9aab-74c8-4e11-cdab-117747ee948d"
      },
      "outputs": [
        {
          "data": {
            "text/plain": [
              "(array([[1.],\n",
              "        [1.],\n",
              "        [1.],\n",
              "        [1.],\n",
              "        [1.]]),\n",
              " 436)"
            ]
          },
          "execution_count": 11,
          "metadata": {},
          "output_type": "execute_result"
        }
      ],
      "source": [
        "m = len(X_train)\n",
        "X_0 = np.ones((m,1))\n",
        "X_0[:5], len(X_0)"
      ]
    },
    {
      "cell_type": "code",
      "execution_count": null,
      "id": "293b1c84",
      "metadata": {
        "id": "293b1c84",
        "outputId": "68119387-cc02-436b-e057-68558f2d6882"
      },
      "outputs": [
        {
          "data": {
            "text/plain": [
              "array([[ 1.        , -0.71677205, -1.29437561, -0.57330726, -0.93314164,\n",
              "        -0.81914879],\n",
              "       [ 1.        , -0.53893631, -1.29437561, -0.57330726, -0.93314164,\n",
              "        -0.81914879],\n",
              "       [ 1.        , -0.98820554, -1.29437561, -0.57330726, -0.93314164,\n",
              "        -0.81914879],\n",
              "       [ 1.        , -0.72613182, -1.29437561, -0.57330726, -0.93314164,\n",
              "        -0.81914879],\n",
              "       [ 1.        ,  2.20347795,  0.05251643, -0.57330726, -0.93314164,\n",
              "        -0.81914879]])"
            ]
          },
          "execution_count": 12,
          "metadata": {},
          "output_type": "execute_result"
        }
      ],
      "source": [
        "X_train = np.hstack((X_0, X_1))\n",
        "X_train[:5]"
      ]
    },
    {
      "cell_type": "code",
      "execution_count": null,
      "id": "4eb071bf",
      "metadata": {
        "id": "4eb071bf",
        "outputId": "6b243e18-11cd-4f69-b617-d8ab9bc68126"
      },
      "outputs": [
        {
          "data": {
            "text/plain": [
              "array([[0.],\n",
              "       [0.],\n",
              "       [0.],\n",
              "       [0.],\n",
              "       [0.],\n",
              "       [0.]])"
            ]
          },
          "execution_count": 13,
          "metadata": {},
          "output_type": "execute_result"
        }
      ],
      "source": [
        "theta = np.zeros((6,1))\n",
        "#lambda_value = 10\n",
        "theta"
      ]
    },
    {
      "cell_type": "code",
      "execution_count": null,
      "id": "821eeb1e",
      "metadata": {
        "id": "821eeb1e"
      },
      "outputs": [],
      "source": [
        "\"\"\"\n",
        "Compute loss for linear regression for one time.\n",
        "\n",
        "Input Parameters\n",
        "X : 2D array for training example\n",
        "    m = number of training examples\n",
        "    n = number of features\n",
        "Y : 1D array of label/target values. Dimension: m\n",
        "lambda_value: Regularization parameter. \n",
        "theta : 2D array of fitting parameters. Dimension: n,1\n",
        "\n",
        "Output Parameters\n",
        "J : Loss\n",
        "\"\"\"\n",
        "\n",
        "def compute_loss(X, Y, theta, lambda_value):\n",
        "    predictions = X.dot(theta) #prediction = h\n",
        "    errors = np.subtract(predictions, Y)\n",
        "    sqrErrors = np.square(errors)\n",
        "    regularization = lambda_value * np.sum(np.square(theta))\n",
        "    J = (1 / (2 * m)) * (np.sum(sqrErrors) + regularization)\n",
        "    return J"
      ]
    },
    {
      "cell_type": "code",
      "execution_count": null,
      "id": "03a29d3b",
      "metadata": {
        "id": "03a29d3b",
        "outputId": "f6ad74f4-fd1a-4efb-c4b6-9bcdb053f159"
      },
      "outputs": [
        {
          "name": "stdout",
          "output_type": "stream",
          "text": [
            "Cost loss for all given theta = 218.00000000000006\n"
          ]
        }
      ],
      "source": [
        "lambda_value = 10\n",
        "cost = compute_loss(X_train, Y_train, theta, lambda_value)\n",
        "print(\"Cost loss for all given theta =\", cost)"
      ]
    },
    {
      "cell_type": "code",
      "execution_count": null,
      "id": "c8f01e97",
      "metadata": {
        "id": "c8f01e97"
      },
      "outputs": [],
      "source": [
        "\"\"\"\n",
        "Compute loss for l inear regression for all iterations\n",
        "\n",
        "Input Parameters\n",
        "X: 2D array, Dimension: m x n\n",
        "    m = number of training data point\n",
        "    n = number of features\n",
        "Y: 1D array of labels/target value for each training data point. Dimension: m\n",
        "theta: 2D array of fitting parameters or weights. Dimension: (n,1)\n",
        "alpha : learning rate\n",
        "iterations: Number of iterations.\n",
        "lambda_value: Regularization parameter. \n",
        "\n",
        "Output Parameters\n",
        "theta: Final Value. 2D array of fitting parameters or weights. Dimension: n,1\n",
        "loss_history: Contains value of cost at each iteration. 1D Array. Dimension: m\n",
        "\"\"\"\n",
        "\n",
        "def gradient_descent(X, Y, theta, alpha, iterations, lambda_value):\n",
        "    loss_history = np.zeros(iterations)\n",
        "    \n",
        "    for i in range(iterations):\n",
        "        predictions = X.dot(theta) # prediction (m,1) = temp\n",
        "        errors = np.subtract(predictions, Y)\n",
        "        # Use np.multiply() to multiple scalar with the array, theta. \n",
        "        sum_delta = (alpha / m) * X.transpose().dot(errors) + np.multiply(theta,((lambda_value * alpha) / m)); \n",
        "        theta = theta - sum_delta #- regularization; # theta (n,1)\n",
        "        loss_history[i] = compute_loss(X, Y, theta, lambda_value)\n",
        "    return theta, loss_history"
      ]
    },
    {
      "cell_type": "code",
      "execution_count": null,
      "id": "9b699cad",
      "metadata": {
        "id": "9b699cad"
      },
      "outputs": [],
      "source": [
        "theta = [0., 0., 0., 0., 0., 0.]\n",
        "lambda_value = 10\n",
        "iterations = 1500\n",
        "alpha = 0.003"
      ]
    },
    {
      "cell_type": "code",
      "execution_count": null,
      "id": "bf1f2eae",
      "metadata": {
        "id": "bf1f2eae",
        "outputId": "81f4d9ed-3873-488e-f12e-72a28b1895b2"
      },
      "outputs": [
        {
          "name": "stdout",
          "output_type": "stream",
          "text": [
            "Final value of theta = [2.50556126e-16 3.74927030e-01 1.00969227e-01 2.94974466e-01\n",
            " 2.31261970e-01 1.63921955e-01]\n",
            "loss_history = [0.49701369 0.49406115 0.49114199 ... 0.2269271  0.2269269  0.2269267 ]\n"
          ]
        }
      ],
      "source": [
        "theta, loss_history = gradient_descent(X_train, Y_train, theta, alpha, iterations, lambda_value)\n",
        "print(\"Final value of theta =\", theta)\n",
        "print(\"loss_history =\", loss_history)"
      ]
    },
    {
      "cell_type": "code",
      "execution_count": null,
      "id": "cb25223d",
      "metadata": {
        "id": "cb25223d",
        "outputId": "d3af50b9-de5b-4a0e-df0d-6bfbf39d77cb"
      },
      "outputs": [
        {
          "data": {
            "text/html": [
              "<div>\n",
              "<style scoped>\n",
              "    .dataframe tbody tr th:only-of-type {\n",
              "        vertical-align: middle;\n",
              "    }\n",
              "\n",
              "    .dataframe tbody tr th {\n",
              "        vertical-align: top;\n",
              "    }\n",
              "\n",
              "    .dataframe thead th {\n",
              "        text-align: right;\n",
              "    }\n",
              "</style>\n",
              "<table border=\"1\" class=\"dataframe\">\n",
              "  <thead>\n",
              "    <tr style=\"text-align: right;\">\n",
              "      <th></th>\n",
              "      <th>area</th>\n",
              "      <th>bedrooms</th>\n",
              "      <th>bathrooms</th>\n",
              "      <th>stories</th>\n",
              "      <th>parking</th>\n",
              "      <th>price</th>\n",
              "    </tr>\n",
              "  </thead>\n",
              "  <tbody>\n",
              "    <tr>\n",
              "      <th>239</th>\n",
              "      <td>4000</td>\n",
              "      <td>3</td>\n",
              "      <td>1</td>\n",
              "      <td>2</td>\n",
              "      <td>1</td>\n",
              "      <td>4585000</td>\n",
              "    </tr>\n",
              "    <tr>\n",
              "      <th>113</th>\n",
              "      <td>9620</td>\n",
              "      <td>3</td>\n",
              "      <td>1</td>\n",
              "      <td>1</td>\n",
              "      <td>2</td>\n",
              "      <td>6083000</td>\n",
              "    </tr>\n",
              "    <tr>\n",
              "      <th>325</th>\n",
              "      <td>3460</td>\n",
              "      <td>4</td>\n",
              "      <td>1</td>\n",
              "      <td>2</td>\n",
              "      <td>0</td>\n",
              "      <td>4007500</td>\n",
              "    </tr>\n",
              "    <tr>\n",
              "      <th>66</th>\n",
              "      <td>13200</td>\n",
              "      <td>2</td>\n",
              "      <td>1</td>\n",
              "      <td>1</td>\n",
              "      <td>1</td>\n",
              "      <td>6930000</td>\n",
              "    </tr>\n",
              "    <tr>\n",
              "      <th>479</th>\n",
              "      <td>3660</td>\n",
              "      <td>4</td>\n",
              "      <td>1</td>\n",
              "      <td>2</td>\n",
              "      <td>0</td>\n",
              "      <td>2940000</td>\n",
              "    </tr>\n",
              "  </tbody>\n",
              "</table>\n",
              "</div>"
            ],
            "text/plain": [
              "      area  bedrooms  bathrooms  stories  parking    price\n",
              "239   4000         3          1        2        1  4585000\n",
              "113   9620         3          1        1        2  6083000\n",
              "325   3460         4          1        2        0  4007500\n",
              "66   13200         2          1        1        1  6930000\n",
              "479   3660         4          1        2        0  2940000"
            ]
          },
          "execution_count": 19,
          "metadata": {},
          "output_type": "execute_result"
        }
      ],
      "source": [
        "df_threeAtest.head()"
      ]
    },
    {
      "cell_type": "code",
      "execution_count": null,
      "id": "4671e2d7",
      "metadata": {
        "id": "4671e2d7",
        "outputId": "3eabba49-56b7-460a-b3ff-44761fc4cab1"
      },
      "outputs": [
        {
          "data": {
            "text/html": [
              "<div>\n",
              "<style scoped>\n",
              "    .dataframe tbody tr th:only-of-type {\n",
              "        vertical-align: middle;\n",
              "    }\n",
              "\n",
              "    .dataframe tbody tr th {\n",
              "        vertical-align: top;\n",
              "    }\n",
              "\n",
              "    .dataframe thead th {\n",
              "        text-align: right;\n",
              "    }\n",
              "</style>\n",
              "<table border=\"1\" class=\"dataframe\">\n",
              "  <thead>\n",
              "    <tr style=\"text-align: right;\">\n",
              "      <th></th>\n",
              "      <th>area</th>\n",
              "      <th>bedrooms</th>\n",
              "      <th>bathrooms</th>\n",
              "      <th>stories</th>\n",
              "      <th>parking</th>\n",
              "      <th>price</th>\n",
              "    </tr>\n",
              "  </thead>\n",
              "  <tbody>\n",
              "    <tr>\n",
              "      <th>239</th>\n",
              "      <td>-0.500735</td>\n",
              "      <td>0.025607</td>\n",
              "      <td>-0.563545</td>\n",
              "      <td>0.272416</td>\n",
              "      <td>0.492144</td>\n",
              "      <td>-0.081358</td>\n",
              "    </tr>\n",
              "    <tr>\n",
              "      <th>113</th>\n",
              "      <td>1.954229</td>\n",
              "      <td>0.025607</td>\n",
              "      <td>-0.563545</td>\n",
              "      <td>-0.915317</td>\n",
              "      <td>1.739673</td>\n",
              "      <td>0.801114</td>\n",
              "    </tr>\n",
              "    <tr>\n",
              "      <th>325</th>\n",
              "      <td>-0.736621</td>\n",
              "      <td>1.421209</td>\n",
              "      <td>-0.563545</td>\n",
              "      <td>0.272416</td>\n",
              "      <td>-0.755384</td>\n",
              "      <td>-0.421563</td>\n",
              "    </tr>\n",
              "    <tr>\n",
              "      <th>66</th>\n",
              "      <td>3.518067</td>\n",
              "      <td>-1.369995</td>\n",
              "      <td>-0.563545</td>\n",
              "      <td>-0.915317</td>\n",
              "      <td>0.492144</td>\n",
              "      <td>1.300082</td>\n",
              "    </tr>\n",
              "    <tr>\n",
              "      <th>479</th>\n",
              "      <td>-0.649256</td>\n",
              "      <td>1.421209</td>\n",
              "      <td>-0.563545</td>\n",
              "      <td>0.272416</td>\n",
              "      <td>-0.755384</td>\n",
              "      <td>-1.050428</td>\n",
              "    </tr>\n",
              "  </tbody>\n",
              "</table>\n",
              "</div>"
            ],
            "text/plain": [
              "         area  bedrooms  bathrooms   stories   parking     price\n",
              "239 -0.500735  0.025607  -0.563545  0.272416  0.492144 -0.081358\n",
              "113  1.954229  0.025607  -0.563545 -0.915317  1.739673  0.801114\n",
              "325 -0.736621  1.421209  -0.563545  0.272416 -0.755384 -0.421563\n",
              "66   3.518067 -1.369995  -0.563545 -0.915317  0.492144  1.300082\n",
              "479 -0.649256  1.421209  -0.563545  0.272416 -0.755384 -1.050428"
            ]
          },
          "execution_count": 20,
          "metadata": {},
          "output_type": "execute_result"
        }
      ],
      "source": [
        "# Many columns contains small integer values excluding areas. Needs to rescale the variables.\n",
        "# Advised to use starndarization or normalization, so the coefficients is comparable. \n",
        "\n",
        "# Two ways of rescaling:\n",
        "# 1.) Min-Max Scaling\n",
        "# 2.) Standardization (For this code.)\n",
        "\n",
        "import warnings\n",
        "warnings.filterwarnings('ignore')\n",
        "\n",
        "from sklearn.preprocessing import MinMaxScaler, StandardScaler\n",
        "scaler = StandardScaler()\n",
        "df_threeAtest[num_vars] = scaler.fit_transform(df_threeAtest[num_vars])\n",
        "df_threeAtest.head()"
      ]
    },
    {
      "cell_type": "code",
      "execution_count": null,
      "id": "c61883c8",
      "metadata": {
        "id": "c61883c8",
        "outputId": "86dc425a-03fe-406a-99ec-ab16542b39a7"
      },
      "outputs": [
        {
          "name": "stdout",
          "output_type": "stream",
          "text": [
            "[[-0.50073521  0.02560738 -0.56354451  0.27241586  0.49214421 -0.08135801]\n",
            " [ 1.95422869  0.02560738 -0.56354451 -0.91531729  1.73967255  0.80111439]\n",
            " [-0.73662142  1.42120937 -0.56354451  0.27241586 -0.75538413 -0.42156349]\n",
            " [ 3.5180669  -1.36999462 -0.56354451 -0.91531729  0.49214421  1.30008243]\n",
            " [-0.64925616  1.42120937 -0.56354451  0.27241586 -0.75538413 -1.05042817]\n",
            " [ 0.52580664  0.02560738  1.2431129   1.46014902 -0.75538413  0.86709364]\n",
            " [-0.56625916  0.02560738 -0.56354451 -0.91531729  1.73967255 -0.69991343]\n",
            " [-0.72788489  0.02560738 -0.56354451  0.27241586  0.49214421 -1.05042817]\n",
            " [-0.71390645 -1.36999462 -0.56354451 -0.91531729  0.49214421 -0.72053194]\n",
            " [ 1.68339637  1.42120937  1.2431129   2.64788217  1.73967255  1.91863786]\n",
            " [ 0.37291742  1.42120937  1.2431129   2.64788217 -0.75538413  1.19698986]\n",
            " [-0.51820826  0.02560738 -0.56354451  0.27241586 -0.75538413 -0.43187275]\n",
            " [-0.74098968  0.02560738 -0.56354451  0.27241586 -0.75538413 -0.92671708]\n",
            " [ 0.399127    0.02560738 -0.56354451 -0.91531729 -0.75538413 -0.84424303]\n",
            " [ 0.36636503  0.02560738 -0.56354451 -0.91531729 -0.75538413 -0.34939869]\n",
            " [-1.18655253  0.02560738 -0.56354451 -0.91531729 -0.75538413 -1.21537628]\n",
            " [-0.10759152 -1.36999462 -0.56354451  0.27241586 -0.75538413 -0.18445058]\n",
            " [ 0.38165395  0.02560738 -0.56354451 -0.91531729 -0.75538413 -0.59682086]\n",
            " [-0.89387889  0.02560738 -0.56354451  0.27241586 -0.75538413 -0.803006  ]\n",
            " [-0.28232205 -1.36999462 -0.56354451 -0.91531729  1.73967255 -0.26692463]]\n"
          ]
        }
      ],
      "source": [
        "dataset_test = df_threeAtest.values[:,:]\n",
        "print(dataset_test[:20,:])"
      ]
    },
    {
      "cell_type": "code",
      "execution_count": null,
      "id": "0635b30c",
      "metadata": {
        "id": "0635b30c",
        "outputId": "d4faa734-4d2a-4228-e6d5-b61ad9afe22c"
      },
      "outputs": [
        {
          "data": {
            "text/plain": [
              "(109, 109)"
            ]
          },
          "execution_count": 22,
          "metadata": {},
          "output_type": "execute_result"
        }
      ],
      "source": [
        "X_test = df_threeAtest.values[:,0:5]\n",
        "Y_test = df_threeAtest.values[:,5]\n",
        "len(X_test), len(Y_test)"
      ]
    },
    {
      "cell_type": "code",
      "execution_count": null,
      "id": "705d3b42",
      "metadata": {
        "id": "705d3b42",
        "outputId": "7ca49a7d-bc3d-4dd1-e22a-3f851d8d29cd"
      },
      "outputs": [
        {
          "name": "stdout",
          "output_type": "stream",
          "text": [
            "X = [[-0.50073521  0.02560738 -0.56354451  0.27241586  0.49214421]\n",
            " [ 1.95422869  0.02560738 -0.56354451 -0.91531729  1.73967255]\n",
            " [-0.73662142  1.42120937 -0.56354451  0.27241586 -0.75538413]\n",
            " [ 3.5180669  -1.36999462 -0.56354451 -0.91531729  0.49214421]\n",
            " [-0.64925616  1.42120937 -0.56354451  0.27241586 -0.75538413]]\n",
            "Y = [-0.08135801  0.80111439 -0.42156349  1.30008243 -1.05042817]\n"
          ]
        }
      ],
      "source": [
        "print('X =', X_test[:5])\n",
        "print('Y =', Y_test[:5])"
      ]
    },
    {
      "cell_type": "code",
      "execution_count": null,
      "id": "970a3401",
      "metadata": {
        "id": "970a3401",
        "outputId": "b3e8d0ae-91b8-4cdc-9047-b2a776f318c6"
      },
      "outputs": [
        {
          "name": "stdout",
          "output_type": "stream",
          "text": [
            "X_1 = [[-0.50073521  0.02560738 -0.56354451  0.27241586  0.49214421]\n",
            " [ 1.95422869  0.02560738 -0.56354451 -0.91531729  1.73967255]\n",
            " [-0.73662142  1.42120937 -0.56354451  0.27241586 -0.75538413]\n",
            " [ 3.5180669  -1.36999462 -0.56354451 -0.91531729  0.49214421]\n",
            " [-0.64925616  1.42120937 -0.56354451  0.27241586 -0.75538413]]\n"
          ]
        }
      ],
      "source": [
        "# Convert to 2D array (164x5)\n",
        "m = len(X_test)\n",
        "X_1 = X_test.reshape(m,5)\n",
        "print(\"X_1 =\", X_1[:5,:])"
      ]
    },
    {
      "cell_type": "code",
      "execution_count": null,
      "id": "7476db88",
      "metadata": {
        "id": "7476db88",
        "outputId": "7342c464-cc2b-44d8-dad1-ee9ae7fdefd1"
      },
      "outputs": [
        {
          "data": {
            "text/plain": [
              "(array([[1.],\n",
              "        [1.],\n",
              "        [1.],\n",
              "        [1.],\n",
              "        [1.]]),\n",
              " 109)"
            ]
          },
          "execution_count": 25,
          "metadata": {},
          "output_type": "execute_result"
        }
      ],
      "source": [
        "# Create theta zero.\n",
        "m = len(X_test)\n",
        "X_0 = np.ones((m,1))\n",
        "X_0[:5], len(X_0)"
      ]
    },
    {
      "cell_type": "code",
      "execution_count": null,
      "id": "a100a2cf",
      "metadata": {
        "id": "a100a2cf",
        "outputId": "fe48b7e0-1b5c-44bf-f4ed-077f33e2609d"
      },
      "outputs": [
        {
          "data": {
            "text/plain": [
              "array([[ 1.        , -0.50073521,  0.02560738, -0.56354451,  0.27241586,\n",
              "         0.49214421],\n",
              "       [ 1.        ,  1.95422869,  0.02560738, -0.56354451, -0.91531729,\n",
              "         1.73967255],\n",
              "       [ 1.        , -0.73662142,  1.42120937, -0.56354451,  0.27241586,\n",
              "        -0.75538413],\n",
              "       [ 1.        ,  3.5180669 , -1.36999462, -0.56354451, -0.91531729,\n",
              "         0.49214421],\n",
              "       [ 1.        , -0.64925616,  1.42120937, -0.56354451,  0.27241586,\n",
              "        -0.75538413]])"
            ]
          },
          "execution_count": 26,
          "metadata": {},
          "output_type": "execute_result"
        }
      ],
      "source": [
        "X_test = np.hstack((X_0, X_1))\n",
        "X_test[:5]"
      ]
    },
    {
      "cell_type": "code",
      "execution_count": null,
      "id": "3462f074",
      "metadata": {
        "id": "3462f074",
        "outputId": "ec778d8e-46b0-4dcb-d717-397a7f894c1a"
      },
      "outputs": [
        {
          "data": {
            "text/plain": [
              "array([[0.],\n",
              "       [0.],\n",
              "       [0.],\n",
              "       [0.],\n",
              "       [0.],\n",
              "       [0.]])"
            ]
          },
          "execution_count": 27,
          "metadata": {},
          "output_type": "execute_result"
        }
      ],
      "source": [
        "theta_test = np.zeros((6,1))\n",
        "theta_test"
      ]
    },
    {
      "cell_type": "code",
      "execution_count": null,
      "id": "46d2962a",
      "metadata": {
        "id": "46d2962a"
      },
      "outputs": [],
      "source": [
        "\"\"\"\n",
        "Compute loss for linear regression for one time.\n",
        "\n",
        "Input Parameters\n",
        "X : 2D array for training example\n",
        "    m = number of training examples\n",
        "    n = number of features\n",
        "Y : 1D array of label/target values. Dimension: m\n",
        "\n",
        "theta : 2D array of fitting parameters. Dimension: n,1\n",
        "\n",
        "Output Parameters\n",
        "J : Loss\n",
        "\"\"\"\n",
        "\n",
        "def compute_loss_noreg(X, Y, theta):\n",
        "    predictions = X.dot(theta) #prediction = h\n",
        "    errors = np.subtract(predictions, Y)\n",
        "    sqrErrors = np.square(errors)\n",
        "    J = 1 / (2 * m) * np.sum(sqrErrors)\n",
        "    return J"
      ]
    },
    {
      "cell_type": "code",
      "execution_count": null,
      "id": "b27e49ea",
      "metadata": {
        "id": "b27e49ea",
        "outputId": "c41eaf3f-78e0-4cab-977a-18f20c68acc1"
      },
      "outputs": [
        {
          "name": "stdout",
          "output_type": "stream",
          "text": [
            "Cost loss for all given theta = 54.49999999999999\n"
          ]
        }
      ],
      "source": [
        "cost_test = compute_loss_noreg(X_test, Y_test, theta_test)\n",
        "print(\"Cost loss for all given theta =\", cost_test)"
      ]
    },
    {
      "cell_type": "code",
      "execution_count": null,
      "id": "c4ff4fe4",
      "metadata": {
        "id": "c4ff4fe4"
      },
      "outputs": [],
      "source": [
        "\"\"\"\n",
        "Compute loss for l inear regression for all iterations\n",
        "\n",
        "Input Parameters\n",
        "X: 2D array, Dimension: m x n\n",
        "    m = number of training data point\n",
        "    n = number of features\n",
        "Y: 1D array of labels/target value for each training data point. Dimension: m\n",
        "theta: 2D array of fitting parameters or weights. Dimension: (n,1)\n",
        "alpha : learning rate\n",
        "iterations: Number of iterations.\n",
        "\n",
        "Output Parameters\n",
        "theta: Final Value. 2D array of fitting parameters or weights. Dimension: n,1\n",
        "loss_history: Contains value of cost at each iteration. 1D Array. Dimension: m\n",
        "\"\"\"\n",
        "\n",
        "def gradient_descent_noreg(X, Y, theta, alpha, iterations):\n",
        "    loss_history = np.zeros(iterations)\n",
        "    \n",
        "    for i in range(iterations):\n",
        "        predictions = X.dot(theta) # prediction (m,1) = temp\n",
        "        errors = np.subtract(predictions, Y)\n",
        "        sum_delta = (alpha / m) * X.transpose().dot(errors);\n",
        "        theta = theta - sum_delta; # theta (n,1)\n",
        "        loss_history[i] = compute_loss_noreg(X, Y, theta)\n",
        "    return theta, loss_history"
      ]
    },
    {
      "cell_type": "code",
      "execution_count": null,
      "id": "c5f4f7a4",
      "metadata": {
        "id": "c5f4f7a4"
      },
      "outputs": [],
      "source": [
        "theta_test = [0., 0., 0., 0., 0., 0.]\n",
        "iterations = 1500\n",
        "alpha = 0.003"
      ]
    },
    {
      "cell_type": "code",
      "execution_count": null,
      "id": "d8ef82f8",
      "metadata": {
        "id": "d8ef82f8",
        "outputId": "03d42994-5b84-4622-80e7-feabb90adcdc"
      },
      "outputs": [
        {
          "name": "stdout",
          "output_type": "stream",
          "text": [
            "Final value of theta = [ 9.28431643e-17  3.58547244e-01 -3.04213335e-02  3.28020165e-01\n",
            "  3.06752025e-01  2.34115221e-01]\n",
            "loss_history = [0.49663315 0.49330422 0.49001277 ... 0.18520046 0.18520007 0.18519967]\n"
          ]
        }
      ],
      "source": [
        "theta_test, loss_history_test = gradient_descent_noreg(X_test, Y_test, theta_test, alpha, iterations)\n",
        "print(\"Final value of theta =\", theta_test)\n",
        "print(\"loss_history =\", loss_history_test)"
      ]
    },
    {
      "cell_type": "code",
      "execution_count": null,
      "id": "0ca2f1ee",
      "metadata": {
        "id": "0ca2f1ee",
        "outputId": "d5e169c2-3d5b-4ac4-fad4-ce4ef3a37b8f"
      },
      "outputs": [
        {
          "data": {
            "text/plain": [
              "Text(0.5, 1.0, 'Convergence of gradient descent')"
            ]
          },
          "execution_count": 34,
          "metadata": {},
          "output_type": "execute_result"
        },
        {
          "data": {
            "image/png": "[encoded data removed]",
            "text/plain": [
              "<Figure size 864x576 with 1 Axes>"
            ]
          },
          "metadata": {
            "needs_background": "light"
          },
          "output_type": "display_data"
        }
      ],
      "source": [
        "plt.plot(range(1, iterations + 1), loss_history, color = 'black')\n",
        "plt.plot(range(1, iterations + 1), loss_history_test, color = 'blue')\n",
        "plt.rcParams[\"figure.figsize\"] = [12,8]\n",
        "plt.grid()\n",
        "plt.legend(['Training Sets', 'Validation Sets'])\n",
        "plt.xlabel(\"Numbers of iterations\")\n",
        "plt.ylabel(\"Loss (J)\")\n",
        "plt.title(\"Convergence of gradient descent\")"
      ]
    },
    {
      "cell_type": "code",
      "execution_count": null,
      "id": "12342df7",
      "metadata": {
        "id": "12342df7"
      },
      "outputs": [],
      "source": []
    }
  ],
  "metadata": {
    "kernelspec": {
      "display_name": "Python 3 (ipykernel)",
      "language": "python",
      "name": "python3"
    },
    "language_info": {
      "codemirror_mode": {
        "name": "ipython",
        "version": 3
      },
      "file_extension": ".py",
      "mimetype": "text/x-python",
      "name": "python",
      "nbconvert_exporter": "python",
      "pygments_lexer": "ipython3",
      "version": "3.9.12"
    },
    "colab": {
      "provenance": []
    }
  },
  "nbformat": 4,
  "nbformat_minor": 5
}