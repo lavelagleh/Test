{
  "cells": [
    {
      "cell_type": "code",
      "execution_count": null,
      "id": "b7f1042f",
      "metadata": {
        "id": "b7f1042f"
      },
      "outputs": [],
      "source": [
        "import numpy as np\n",
        "import pandas as pd\n",
        "import matplotlib.pyplot as plt\n",
        "import seaborn as sns"
      ]
    },
    {
      "cell_type": "code",
      "execution_count": null,
      "id": "d3c30622",
      "metadata": {
        "id": "d3c30622",
        "outputId": "f837defb-d4a0-4f2e-b1e3-a3cc22b9787f"
      },
      "outputs": [
        {
          "data": {
            "text/html": [
              "<div>\n",
              "<style scoped>\n",
              "    .dataframe tbody tr th:only-of-type {\n",
              "        vertical-align: middle;\n",
              "    }\n",
              "\n",
              "    .dataframe tbody tr th {\n",
              "        vertical-align: top;\n",
              "    }\n",
              "\n",
              "    .dataframe thead th {\n",
              "        text-align: right;\n",
              "    }\n",
              "</style>\n",
              "<table border=\"1\" class=\"dataframe\">\n",
              "  <thead>\n",
              "    <tr style=\"text-align: right;\">\n",
              "      <th></th>\n",
              "      <th>price</th>\n",
              "      <th>area</th>\n",
              "      <th>bedrooms</th>\n",
              "      <th>bathrooms</th>\n",
              "      <th>stories</th>\n",
              "      <th>mainroad</th>\n",
              "      <th>guestroom</th>\n",
              "      <th>basement</th>\n",
              "      <th>hotwaterheating</th>\n",
              "      <th>airconditioning</th>\n",
              "      <th>parking</th>\n",
              "      <th>prefarea</th>\n",
              "      <th>furnishingstatus</th>\n",
              "    </tr>\n",
              "  </thead>\n",
              "  <tbody>\n",
              "    <tr>\n",
              "      <th>0</th>\n",
              "      <td>13300000</td>\n",
              "      <td>7420</td>\n",
              "      <td>4</td>\n",
              "      <td>2</td>\n",
              "      <td>3</td>\n",
              "      <td>yes</td>\n",
              "      <td>no</td>\n",
              "      <td>no</td>\n",
              "      <td>no</td>\n",
              "      <td>yes</td>\n",
              "      <td>2</td>\n",
              "      <td>yes</td>\n",
              "      <td>furnished</td>\n",
              "    </tr>\n",
              "    <tr>\n",
              "      <th>1</th>\n",
              "      <td>12250000</td>\n",
              "      <td>8960</td>\n",
              "      <td>4</td>\n",
              "      <td>4</td>\n",
              "      <td>4</td>\n",
              "      <td>yes</td>\n",
              "      <td>no</td>\n",
              "      <td>no</td>\n",
              "      <td>no</td>\n",
              "      <td>yes</td>\n",
              "      <td>3</td>\n",
              "      <td>no</td>\n",
              "      <td>furnished</td>\n",
              "    </tr>\n",
              "    <tr>\n",
              "      <th>2</th>\n",
              "      <td>12250000</td>\n",
              "      <td>9960</td>\n",
              "      <td>3</td>\n",
              "      <td>2</td>\n",
              "      <td>2</td>\n",
              "      <td>yes</td>\n",
              "      <td>no</td>\n",
              "      <td>yes</td>\n",
              "      <td>no</td>\n",
              "      <td>no</td>\n",
              "      <td>2</td>\n",
              "      <td>yes</td>\n",
              "      <td>semi-furnished</td>\n",
              "    </tr>\n",
              "    <tr>\n",
              "      <th>3</th>\n",
              "      <td>12215000</td>\n",
              "      <td>7500</td>\n",
              "      <td>4</td>\n",
              "      <td>2</td>\n",
              "      <td>2</td>\n",
              "      <td>yes</td>\n",
              "      <td>no</td>\n",
              "      <td>yes</td>\n",
              "      <td>no</td>\n",
              "      <td>yes</td>\n",
              "      <td>3</td>\n",
              "      <td>yes</td>\n",
              "      <td>furnished</td>\n",
              "    </tr>\n",
              "    <tr>\n",
              "      <th>4</th>\n",
              "      <td>11410000</td>\n",
              "      <td>7420</td>\n",
              "      <td>4</td>\n",
              "      <td>1</td>\n",
              "      <td>2</td>\n",
              "      <td>yes</td>\n",
              "      <td>yes</td>\n",
              "      <td>yes</td>\n",
              "      <td>no</td>\n",
              "      <td>yes</td>\n",
              "      <td>2</td>\n",
              "      <td>no</td>\n",
              "      <td>furnished</td>\n",
              "    </tr>\n",
              "  </tbody>\n",
              "</table>\n",
              "</div>"
            ],
            "text/plain": [
              "      price  area  bedrooms  bathrooms  stories mainroad guestroom basement  \\\n",
              "0  13300000  7420         4          2        3      yes        no       no   \n",
              "1  12250000  8960         4          4        4      yes        no       no   \n",
              "2  12250000  9960         3          2        2      yes        no      yes   \n",
              "3  12215000  7500         4          2        2      yes        no      yes   \n",
              "4  11410000  7420         4          1        2      yes       yes      yes   \n",
              "\n",
              "  hotwaterheating airconditioning  parking prefarea furnishingstatus  \n",
              "0              no             yes        2      yes        furnished  \n",
              "1              no             yes        3       no        furnished  \n",
              "2              no              no        2      yes   semi-furnished  \n",
              "3              no             yes        3      yes        furnished  \n",
              "4              no             yes        2       no        furnished  "
            ]
          },
          "execution_count": 2,
          "metadata": {},
          "output_type": "execute_result"
        }
      ],
      "source": [
        "housing = pd.DataFrame(pd.read_csv('./Housing.csv'))\n",
        "housing.head()"
      ]
    },
    {
      "cell_type": "code",
      "execution_count": null,
      "id": "40acfe20",
      "metadata": {
        "id": "40acfe20",
        "outputId": "2badcd66-ffca-4a11-d8df-89594800d4f0"
      },
      "outputs": [
        {
          "data": {
            "text/html": [
              "<div>\n",
              "<style scoped>\n",
              "    .dataframe tbody tr th:only-of-type {\n",
              "        vertical-align: middle;\n",
              "    }\n",
              "\n",
              "    .dataframe tbody tr th {\n",
              "        vertical-align: top;\n",
              "    }\n",
              "\n",
              "    .dataframe thead th {\n",
              "        text-align: right;\n",
              "    }\n",
              "</style>\n",
              "<table border=\"1\" class=\"dataframe\">\n",
              "  <thead>\n",
              "    <tr style=\"text-align: right;\">\n",
              "      <th></th>\n",
              "      <th>price</th>\n",
              "      <th>area</th>\n",
              "      <th>bedrooms</th>\n",
              "      <th>bathrooms</th>\n",
              "      <th>stories</th>\n",
              "      <th>mainroad</th>\n",
              "      <th>guestroom</th>\n",
              "      <th>basement</th>\n",
              "      <th>hotwaterheating</th>\n",
              "      <th>airconditioning</th>\n",
              "      <th>parking</th>\n",
              "      <th>prefarea</th>\n",
              "      <th>furnishingstatus</th>\n",
              "    </tr>\n",
              "  </thead>\n",
              "  <tbody>\n",
              "    <tr>\n",
              "      <th>0</th>\n",
              "      <td>13300000</td>\n",
              "      <td>7420</td>\n",
              "      <td>4</td>\n",
              "      <td>2</td>\n",
              "      <td>3</td>\n",
              "      <td>1</td>\n",
              "      <td>0</td>\n",
              "      <td>0</td>\n",
              "      <td>0</td>\n",
              "      <td>1</td>\n",
              "      <td>2</td>\n",
              "      <td>1</td>\n",
              "      <td>furnished</td>\n",
              "    </tr>\n",
              "    <tr>\n",
              "      <th>1</th>\n",
              "      <td>12250000</td>\n",
              "      <td>8960</td>\n",
              "      <td>4</td>\n",
              "      <td>4</td>\n",
              "      <td>4</td>\n",
              "      <td>1</td>\n",
              "      <td>0</td>\n",
              "      <td>0</td>\n",
              "      <td>0</td>\n",
              "      <td>1</td>\n",
              "      <td>3</td>\n",
              "      <td>0</td>\n",
              "      <td>furnished</td>\n",
              "    </tr>\n",
              "    <tr>\n",
              "      <th>2</th>\n",
              "      <td>12250000</td>\n",
              "      <td>9960</td>\n",
              "      <td>3</td>\n",
              "      <td>2</td>\n",
              "      <td>2</td>\n",
              "      <td>1</td>\n",
              "      <td>0</td>\n",
              "      <td>1</td>\n",
              "      <td>0</td>\n",
              "      <td>0</td>\n",
              "      <td>2</td>\n",
              "      <td>1</td>\n",
              "      <td>semi-furnished</td>\n",
              "    </tr>\n",
              "    <tr>\n",
              "      <th>3</th>\n",
              "      <td>12215000</td>\n",
              "      <td>7500</td>\n",
              "      <td>4</td>\n",
              "      <td>2</td>\n",
              "      <td>2</td>\n",
              "      <td>1</td>\n",
              "      <td>0</td>\n",
              "      <td>1</td>\n",
              "      <td>0</td>\n",
              "      <td>1</td>\n",
              "      <td>3</td>\n",
              "      <td>1</td>\n",
              "      <td>furnished</td>\n",
              "    </tr>\n",
              "    <tr>\n",
              "      <th>4</th>\n",
              "      <td>11410000</td>\n",
              "      <td>7420</td>\n",
              "      <td>4</td>\n",
              "      <td>1</td>\n",
              "      <td>2</td>\n",
              "      <td>1</td>\n",
              "      <td>1</td>\n",
              "      <td>1</td>\n",
              "      <td>0</td>\n",
              "      <td>1</td>\n",
              "      <td>2</td>\n",
              "      <td>0</td>\n",
              "      <td>furnished</td>\n",
              "    </tr>\n",
              "  </tbody>\n",
              "</table>\n",
              "</div>"
            ],
            "text/plain": [
              "      price  area  bedrooms  bathrooms  stories  mainroad  guestroom  \\\n",
              "0  13300000  7420         4          2        3         1          0   \n",
              "1  12250000  8960         4          4        4         1          0   \n",
              "2  12250000  9960         3          2        2         1          0   \n",
              "3  12215000  7500         4          2        2         1          0   \n",
              "4  11410000  7420         4          1        2         1          1   \n",
              "\n",
              "   basement  hotwaterheating  airconditioning  parking  prefarea  \\\n",
              "0         0                0                1        2         1   \n",
              "1         0                0                1        3         0   \n",
              "2         1                0                0        2         1   \n",
              "3         1                0                1        3         1   \n",
              "4         1                0                1        2         0   \n",
              "\n",
              "  furnishingstatus  \n",
              "0        furnished  \n",
              "1        furnished  \n",
              "2   semi-furnished  \n",
              "3        furnished  \n",
              "4        furnished  "
            ]
          },
          "execution_count": 3,
          "metadata": {},
          "output_type": "execute_result"
        }
      ],
      "source": [
        "# Any dataset that has columns with values as 'Yes' or 'No', strings' values cannot be used.\n",
        "# However, we can convert them to numerical values as binary.\n",
        "\n",
        "varlist = ['mainroad', 'guestroom', 'basement', 'hotwaterheating', 'airconditioning', 'prefarea']\n",
        "\n",
        "def binary_map(x):\n",
        "    return x.map({'yes': 1, 'no': 0})\n",
        "\n",
        "housing[varlist] = housing[varlist].apply(binary_map)\n",
        "\n",
        "housing.head()"
      ]
    },
    {
      "cell_type": "code",
      "execution_count": null,
      "id": "b77ddc39",
      "metadata": {
        "id": "b77ddc39",
        "outputId": "e501ff60-3af4-4495-bee5-936f0a73d32c"
      },
      "outputs": [
        {
          "data": {
            "text/plain": [
              "(436, 13)"
            ]
          },
          "execution_count": 4,
          "metadata": {},
          "output_type": "execute_result"
        }
      ],
      "source": [
        "# Splitting the Data into Training and Testing Sets\n",
        "from sklearn.model_selection import train_test_split\n",
        "\n",
        "# Random seed to randomize the dataset.\n",
        "np.random.seed(0)\n",
        "df_train, df_test = train_test_split(housing, train_size = 0.8, test_size = 0.2)\n",
        "df_train.shape"
      ]
    },
    {
      "cell_type": "code",
      "execution_count": null,
      "id": "e09f71a1",
      "metadata": {
        "id": "e09f71a1",
        "outputId": "2176f1c0-8077-444b-f709-8a168794a728"
      },
      "outputs": [
        {
          "data": {
            "text/plain": [
              "(109, 13)"
            ]
          },
          "execution_count": 5,
          "metadata": {},
          "output_type": "execute_result"
        }
      ],
      "source": [
        "df_test.shape"
      ]
    },
    {
      "cell_type": "code",
      "execution_count": null,
      "id": "49f83ad4",
      "metadata": {
        "id": "49f83ad4",
        "outputId": "d4452409-3f24-4c26-cac0-a94044f664f3"
      },
      "outputs": [
        {
          "data": {
            "text/html": [
              "<div>\n",
              "<style scoped>\n",
              "    .dataframe tbody tr th:only-of-type {\n",
              "        vertical-align: middle;\n",
              "    }\n",
              "\n",
              "    .dataframe tbody tr th {\n",
              "        vertical-align: top;\n",
              "    }\n",
              "\n",
              "    .dataframe thead th {\n",
              "        text-align: right;\n",
              "    }\n",
              "</style>\n",
              "<table border=\"1\" class=\"dataframe\">\n",
              "  <thead>\n",
              "    <tr style=\"text-align: right;\">\n",
              "      <th></th>\n",
              "      <th>area</th>\n",
              "      <th>bedrooms</th>\n",
              "      <th>bathrooms</th>\n",
              "      <th>stories</th>\n",
              "      <th>mainroad</th>\n",
              "      <th>guestroom</th>\n",
              "      <th>basement</th>\n",
              "      <th>hotwaterheating</th>\n",
              "      <th>airconditioning</th>\n",
              "      <th>parking</th>\n",
              "      <th>prefarea</th>\n",
              "      <th>price</th>\n",
              "    </tr>\n",
              "  </thead>\n",
              "  <tbody>\n",
              "    <tr>\n",
              "      <th>542</th>\n",
              "      <td>3620</td>\n",
              "      <td>2</td>\n",
              "      <td>1</td>\n",
              "      <td>1</td>\n",
              "      <td>1</td>\n",
              "      <td>0</td>\n",
              "      <td>0</td>\n",
              "      <td>0</td>\n",
              "      <td>0</td>\n",
              "      <td>0</td>\n",
              "      <td>0</td>\n",
              "      <td>1750000</td>\n",
              "    </tr>\n",
              "    <tr>\n",
              "      <th>496</th>\n",
              "      <td>4000</td>\n",
              "      <td>2</td>\n",
              "      <td>1</td>\n",
              "      <td>1</td>\n",
              "      <td>1</td>\n",
              "      <td>0</td>\n",
              "      <td>0</td>\n",
              "      <td>0</td>\n",
              "      <td>0</td>\n",
              "      <td>0</td>\n",
              "      <td>0</td>\n",
              "      <td>2695000</td>\n",
              "    </tr>\n",
              "    <tr>\n",
              "      <th>484</th>\n",
              "      <td>3040</td>\n",
              "      <td>2</td>\n",
              "      <td>1</td>\n",
              "      <td>1</td>\n",
              "      <td>0</td>\n",
              "      <td>0</td>\n",
              "      <td>0</td>\n",
              "      <td>0</td>\n",
              "      <td>0</td>\n",
              "      <td>0</td>\n",
              "      <td>0</td>\n",
              "      <td>2870000</td>\n",
              "    </tr>\n",
              "    <tr>\n",
              "      <th>507</th>\n",
              "      <td>3600</td>\n",
              "      <td>2</td>\n",
              "      <td>1</td>\n",
              "      <td>1</td>\n",
              "      <td>1</td>\n",
              "      <td>0</td>\n",
              "      <td>0</td>\n",
              "      <td>0</td>\n",
              "      <td>0</td>\n",
              "      <td>0</td>\n",
              "      <td>0</td>\n",
              "      <td>2590000</td>\n",
              "    </tr>\n",
              "    <tr>\n",
              "      <th>252</th>\n",
              "      <td>9860</td>\n",
              "      <td>3</td>\n",
              "      <td>1</td>\n",
              "      <td>1</td>\n",
              "      <td>1</td>\n",
              "      <td>0</td>\n",
              "      <td>0</td>\n",
              "      <td>0</td>\n",
              "      <td>0</td>\n",
              "      <td>0</td>\n",
              "      <td>0</td>\n",
              "      <td>4515000</td>\n",
              "    </tr>\n",
              "  </tbody>\n",
              "</table>\n",
              "</div>"
            ],
            "text/plain": [
              "     area  bedrooms  bathrooms  stories  mainroad  guestroom  basement  \\\n",
              "542  3620         2          1        1         1          0         0   \n",
              "496  4000         2          1        1         1          0         0   \n",
              "484  3040         2          1        1         0          0         0   \n",
              "507  3600         2          1        1         1          0         0   \n",
              "252  9860         3          1        1         1          0         0   \n",
              "\n",
              "     hotwaterheating  airconditioning  parking  prefarea    price  \n",
              "542                0                0        0         0  1750000  \n",
              "496                0                0        0         0  2695000  \n",
              "484                0                0        0         0  2870000  \n",
              "507                0                0        0         0  2590000  \n",
              "252                0                0        0         0  4515000  "
            ]
          },
          "execution_count": 6,
          "metadata": {},
          "output_type": "execute_result"
        }
      ],
      "source": [
        "num_vars = ['area', 'bedrooms', 'bathrooms', 'stories', 'mainroad', 'guestroom', 'basement', 'hotwaterheating', 'airconditioning', 'parking', 'prefarea', 'price']\n",
        "df_threeBtrain = df_train[num_vars]\n",
        "df_threeBtest = df_test[num_vars]\n",
        "df_threeBtrain.head()"
      ]
    },
    {
      "cell_type": "code",
      "execution_count": null,
      "id": "223a4139",
      "metadata": {
        "id": "223a4139",
        "outputId": "19b38b03-bd41-452a-b9df-ec9c938b0a36"
      },
      "outputs": [
        {
          "data": {
            "text/html": [
              "<div>\n",
              "<style scoped>\n",
              "    .dataframe tbody tr th:only-of-type {\n",
              "        vertical-align: middle;\n",
              "    }\n",
              "\n",
              "    .dataframe tbody tr th {\n",
              "        vertical-align: top;\n",
              "    }\n",
              "\n",
              "    .dataframe thead th {\n",
              "        text-align: right;\n",
              "    }\n",
              "</style>\n",
              "<table border=\"1\" class=\"dataframe\">\n",
              "  <thead>\n",
              "    <tr style=\"text-align: right;\">\n",
              "      <th></th>\n",
              "      <th>area</th>\n",
              "      <th>bedrooms</th>\n",
              "      <th>bathrooms</th>\n",
              "      <th>stories</th>\n",
              "      <th>mainroad</th>\n",
              "      <th>guestroom</th>\n",
              "      <th>basement</th>\n",
              "      <th>hotwaterheating</th>\n",
              "      <th>airconditioning</th>\n",
              "      <th>parking</th>\n",
              "      <th>prefarea</th>\n",
              "      <th>price</th>\n",
              "    </tr>\n",
              "  </thead>\n",
              "  <tbody>\n",
              "    <tr>\n",
              "      <th>542</th>\n",
              "      <td>-0.716772</td>\n",
              "      <td>-1.294376</td>\n",
              "      <td>-0.573307</td>\n",
              "      <td>-0.933142</td>\n",
              "      <td>0.395599</td>\n",
              "      <td>-0.463125</td>\n",
              "      <td>-0.698609</td>\n",
              "      <td>-0.201427</td>\n",
              "      <td>-0.691351</td>\n",
              "      <td>-0.819149</td>\n",
              "      <td>-0.570288</td>\n",
              "      <td>-1.586001</td>\n",
              "    </tr>\n",
              "    <tr>\n",
              "      <th>496</th>\n",
              "      <td>-0.538936</td>\n",
              "      <td>-1.294376</td>\n",
              "      <td>-0.573307</td>\n",
              "      <td>-0.933142</td>\n",
              "      <td>0.395599</td>\n",
              "      <td>-0.463125</td>\n",
              "      <td>-0.698609</td>\n",
              "      <td>-0.201427</td>\n",
              "      <td>-0.691351</td>\n",
              "      <td>-0.819149</td>\n",
              "      <td>-0.570288</td>\n",
              "      <td>-1.090971</td>\n",
              "    </tr>\n",
              "    <tr>\n",
              "      <th>484</th>\n",
              "      <td>-0.988206</td>\n",
              "      <td>-1.294376</td>\n",
              "      <td>-0.573307</td>\n",
              "      <td>-0.933142</td>\n",
              "      <td>-2.527811</td>\n",
              "      <td>-0.463125</td>\n",
              "      <td>-0.698609</td>\n",
              "      <td>-0.201427</td>\n",
              "      <td>-0.691351</td>\n",
              "      <td>-0.819149</td>\n",
              "      <td>-0.570288</td>\n",
              "      <td>-0.999299</td>\n",
              "    </tr>\n",
              "    <tr>\n",
              "      <th>507</th>\n",
              "      <td>-0.726132</td>\n",
              "      <td>-1.294376</td>\n",
              "      <td>-0.573307</td>\n",
              "      <td>-0.933142</td>\n",
              "      <td>0.395599</td>\n",
              "      <td>-0.463125</td>\n",
              "      <td>-0.698609</td>\n",
              "      <td>-0.201427</td>\n",
              "      <td>-0.691351</td>\n",
              "      <td>-0.819149</td>\n",
              "      <td>-0.570288</td>\n",
              "      <td>-1.145974</td>\n",
              "    </tr>\n",
              "    <tr>\n",
              "      <th>252</th>\n",
              "      <td>2.203478</td>\n",
              "      <td>0.052516</td>\n",
              "      <td>-0.573307</td>\n",
              "      <td>-0.933142</td>\n",
              "      <td>0.395599</td>\n",
              "      <td>-0.463125</td>\n",
              "      <td>-0.698609</td>\n",
              "      <td>-0.201427</td>\n",
              "      <td>-0.691351</td>\n",
              "      <td>-0.819149</td>\n",
              "      <td>-0.570288</td>\n",
              "      <td>-0.137579</td>\n",
              "    </tr>\n",
              "  </tbody>\n",
              "</table>\n",
              "</div>"
            ],
            "text/plain": [
              "         area  bedrooms  bathrooms   stories  mainroad  guestroom  basement  \\\n",
              "542 -0.716772 -1.294376  -0.573307 -0.933142  0.395599  -0.463125 -0.698609   \n",
              "496 -0.538936 -1.294376  -0.573307 -0.933142  0.395599  -0.463125 -0.698609   \n",
              "484 -0.988206 -1.294376  -0.573307 -0.933142 -2.527811  -0.463125 -0.698609   \n",
              "507 -0.726132 -1.294376  -0.573307 -0.933142  0.395599  -0.463125 -0.698609   \n",
              "252  2.203478  0.052516  -0.573307 -0.933142  0.395599  -0.463125 -0.698609   \n",
              "\n",
              "     hotwaterheating  airconditioning   parking  prefarea     price  \n",
              "542        -0.201427        -0.691351 -0.819149 -0.570288 -1.586001  \n",
              "496        -0.201427        -0.691351 -0.819149 -0.570288 -1.090971  \n",
              "484        -0.201427        -0.691351 -0.819149 -0.570288 -0.999299  \n",
              "507        -0.201427        -0.691351 -0.819149 -0.570288 -1.145974  \n",
              "252        -0.201427        -0.691351 -0.819149 -0.570288 -0.137579  "
            ]
          },
          "execution_count": 7,
          "metadata": {},
          "output_type": "execute_result"
        }
      ],
      "source": [
        "# Many columns contains small integer values excluding areas. Needs to rescale the variables.\n",
        "# Advised to use starndarization or normalization, so the coefficients is comparable. \n",
        "\n",
        "# Two ways of rescaling:\n",
        "# 1.) Min-Max Scaling\n",
        "# 2.) Standardization (For this code.)\n",
        "\n",
        "import warnings\n",
        "warnings.filterwarnings('ignore')\n",
        "\n",
        "from sklearn.preprocessing import MinMaxScaler, StandardScaler\n",
        "scaler = StandardScaler()\n",
        "df_threeBtrain[num_vars] = scaler.fit_transform(df_threeBtrain[num_vars])\n",
        "df_threeBtrain.head()"
      ]
    },
    {
      "cell_type": "code",
      "execution_count": null,
      "id": "243469fe",
      "metadata": {
        "id": "243469fe",
        "outputId": "ea32c076-6240-4cb9-ab4c-6cf4c5ed165f"
      },
      "outputs": [
        {
          "name": "stdout",
          "output_type": "stream",
          "text": [
            "[[-0.71677205 -1.29437561 -0.57330726 -0.93314164  0.39559913 -0.46312491\n",
            "  -0.69860905 -0.20142689 -0.69135093 -0.81914879 -0.57028761 -1.5860012 ]\n",
            " [-0.53893631 -1.29437561 -0.57330726 -0.93314164  0.39559913 -0.46312491\n",
            "  -0.69860905 -0.20142689 -0.69135093 -0.81914879 -0.57028761 -1.09097091]\n",
            " [-0.98820554 -1.29437561 -0.57330726 -0.93314164 -2.52781141 -0.46312491\n",
            "  -0.69860905 -0.20142689 -0.69135093 -0.81914879 -0.57028761 -0.99929863]\n",
            " [-0.72613182 -1.29437561 -0.57330726 -0.93314164  0.39559913 -0.46312491\n",
            "  -0.69860905 -0.20142689 -0.69135093 -0.81914879 -0.57028761 -1.14597428]\n",
            " [ 2.20347795  0.05251643 -0.57330726 -0.93314164  0.39559913 -0.46312491\n",
            "  -0.69860905 -0.20142689 -0.69135093 -0.81914879 -0.57028761 -0.13757923]\n",
            " [-0.55391195  0.05251643 -0.57330726  0.21291401 -2.52781141 -0.46312491\n",
            "  -0.69860905 -0.20142689 -0.69135093 -0.81914879 -0.57028761 -0.1925826 ]\n",
            " [-0.61381451  0.05251643 -0.57330726  0.21291401  0.39559913 -0.46312491\n",
            "  -0.69860905 -0.20142689 -0.69135093  0.32555914  1.75350117 -0.10091032]\n",
            " [ 2.17539862  1.39940847  1.4755613   0.21291401  0.39559913  2.1592447\n",
            "  -0.69860905 -0.20142689 -0.69135093  1.47026706 -0.57028761  0.24744433]\n",
            " [-0.70741227 -1.29437561 -0.57330726 -0.93314164  0.39559913 -0.46312491\n",
            "  -0.69860905 -0.20142689 -0.69135093 -0.81914879 -0.57028761 -0.63260953]\n",
            " [-0.76357092 -1.29437561  1.4755613  -0.93314164  0.39559913 -0.46312491\n",
            "   1.43141575 -0.20142689 -0.69135093 -0.81914879 -0.57028761 -0.59594061]\n",
            " [ 3.76656047  0.05251643 -0.57330726  0.21291401  0.39559913 -0.46312491\n",
            "   1.43141575 -0.20142689  1.44644342  1.47026706  1.75350117  2.63092353]\n",
            " [-1.14732172 -1.29437561 -0.57330726 -0.93314164 -2.52781141 -0.46312491\n",
            "  -0.69860905 -0.20142689 -0.69135093 -0.81914879 -0.57028761 -0.96262972]\n",
            " [-0.39853968  4.09319255  1.4755613   0.21291401  0.39559913 -0.46312491\n",
            "  -0.69860905 -0.20142689 -0.69135093 -0.81914879 -0.57028761  0.68380437]\n",
            " [-0.30494192 -1.29437561 -0.57330726 -0.93314164 -2.52781141 -0.46312491\n",
            "  -0.69860905 -0.20142689 -0.69135093 -0.81914879 -0.57028761 -0.79761962]\n",
            " [-0.07328747  1.39940847  1.4755613  -0.93314164  0.39559913 -0.46312491\n",
            "   1.43141575 -0.20142689 -0.69135093 -0.81914879 -0.57028761  0.06043289]\n",
            " [-0.97463386 -1.29437561 -0.57330726 -0.93314164  0.39559913 -0.46312491\n",
            "  -0.69860905 -0.20142689 -0.69135093  0.32555914 -0.57028761 -0.85262299]\n",
            " [-0.37420426  1.39940847 -0.57330726  0.21291401 -2.52781141 -0.46312491\n",
            "  -0.69860905 -0.20142689 -0.69135093  0.32555914 -0.57028761 -0.94429527]\n",
            " [ 1.74484894  0.05251643  1.4755613   0.21291401  0.39559913 -0.46312491\n",
            "   1.43141575 -0.20142689  1.44644342  0.32555914 -0.57028761  1.12749819]\n",
            " [ 3.64675535  0.05251643 -0.57330726 -0.93314164  0.39559913 -0.46312491\n",
            "  -0.69860905 -0.20142689 -0.69135093 -0.81914879 -0.57028761 -0.66927844]\n",
            " [ 0.93990824  0.05251643 -0.57330726 -0.93314164  0.39559913 -0.46312491\n",
            "   1.43141575 -0.20142689 -0.69135093  1.47026706  1.75350117  0.57746453]]\n"
          ]
        }
      ],
      "source": [
        "dataset_train = df_threeBtrain.values[:,:]\n",
        "print(dataset_train[:20,:])"
      ]
    },
    {
      "cell_type": "code",
      "execution_count": null,
      "id": "e3ed44d8",
      "metadata": {
        "id": "e3ed44d8",
        "outputId": "9ed01a67-f159-40e3-9a4c-f4e274d20daf"
      },
      "outputs": [
        {
          "data": {
            "text/plain": [
              "(436, 436)"
            ]
          },
          "execution_count": 9,
          "metadata": {},
          "output_type": "execute_result"
        }
      ],
      "source": [
        "X_train = df_threeBtrain.values[:,0:11]\n",
        "Y_train = df_threeBtrain.values[:,11]\n",
        "len(X_train), len(Y_train)"
      ]
    },
    {
      "cell_type": "code",
      "execution_count": null,
      "id": "12fd838f",
      "metadata": {
        "id": "12fd838f",
        "outputId": "5449fb96-243d-4aa5-ad41-75d648518387"
      },
      "outputs": [
        {
          "name": "stdout",
          "output_type": "stream",
          "text": [
            "X = [[-0.71677205 -1.29437561 -0.57330726 -0.93314164  0.39559913 -0.46312491\n",
            "  -0.69860905 -0.20142689 -0.69135093 -0.81914879 -0.57028761]\n",
            " [-0.53893631 -1.29437561 -0.57330726 -0.93314164  0.39559913 -0.46312491\n",
            "  -0.69860905 -0.20142689 -0.69135093 -0.81914879 -0.57028761]\n",
            " [-0.98820554 -1.29437561 -0.57330726 -0.93314164 -2.52781141 -0.46312491\n",
            "  -0.69860905 -0.20142689 -0.69135093 -0.81914879 -0.57028761]\n",
            " [-0.72613182 -1.29437561 -0.57330726 -0.93314164  0.39559913 -0.46312491\n",
            "  -0.69860905 -0.20142689 -0.69135093 -0.81914879 -0.57028761]\n",
            " [ 2.20347795  0.05251643 -0.57330726 -0.93314164  0.39559913 -0.46312491\n",
            "  -0.69860905 -0.20142689 -0.69135093 -0.81914879 -0.57028761]]\n",
            "Y = [-1.5860012  -1.09097091 -0.99929863 -1.14597428 -0.13757923]\n"
          ]
        }
      ],
      "source": [
        "print('X =', X_train[:5])\n",
        "print('Y =', Y_train[:5])"
      ]
    },
    {
      "cell_type": "code",
      "execution_count": null,
      "id": "440f7a34",
      "metadata": {
        "id": "440f7a34",
        "outputId": "3c0b92f5-8ae1-46ea-bbef-63aec10fe37d"
      },
      "outputs": [
        {
          "name": "stdout",
          "output_type": "stream",
          "text": [
            "X_1 = [[-0.71677205 -1.29437561 -0.57330726 -0.93314164  0.39559913 -0.46312491\n",
            "  -0.69860905 -0.20142689 -0.69135093 -0.81914879 -0.57028761]\n",
            " [-0.53893631 -1.29437561 -0.57330726 -0.93314164  0.39559913 -0.46312491\n",
            "  -0.69860905 -0.20142689 -0.69135093 -0.81914879 -0.57028761]\n",
            " [-0.98820554 -1.29437561 -0.57330726 -0.93314164 -2.52781141 -0.46312491\n",
            "  -0.69860905 -0.20142689 -0.69135093 -0.81914879 -0.57028761]\n",
            " [-0.72613182 -1.29437561 -0.57330726 -0.93314164  0.39559913 -0.46312491\n",
            "  -0.69860905 -0.20142689 -0.69135093 -0.81914879 -0.57028761]\n",
            " [ 2.20347795  0.05251643 -0.57330726 -0.93314164  0.39559913 -0.46312491\n",
            "  -0.69860905 -0.20142689 -0.69135093 -0.81914879 -0.57028761]]\n"
          ]
        }
      ],
      "source": [
        "# Convert to 2D array (381x11)\n",
        "m = len(X_train)\n",
        "X_1 = X_train.reshape(m,11)\n",
        "print(\"X_1 =\", X_1[:5,:])"
      ]
    },
    {
      "cell_type": "code",
      "execution_count": null,
      "id": "a646bc65",
      "metadata": {
        "id": "a646bc65",
        "outputId": "b360a61c-9a27-4e67-ef44-17a678db496c"
      },
      "outputs": [
        {
          "data": {
            "text/plain": [
              "(array([[1.],\n",
              "        [1.],\n",
              "        [1.],\n",
              "        [1.],\n",
              "        [1.]]),\n",
              " 436)"
            ]
          },
          "execution_count": 12,
          "metadata": {},
          "output_type": "execute_result"
        }
      ],
      "source": [
        "m = len(X_train)\n",
        "X_0 = np.ones((m,1))\n",
        "X_0[:5], len(X_0)"
      ]
    },
    {
      "cell_type": "code",
      "execution_count": null,
      "id": "293b1c84",
      "metadata": {
        "id": "293b1c84",
        "outputId": "52b5cd0e-1377-45ee-dd10-d1a9a4258b13"
      },
      "outputs": [
        {
          "data": {
            "text/plain": [
              "array([[ 1.        , -0.71677205, -1.29437561, -0.57330726, -0.93314164,\n",
              "         0.39559913, -0.46312491, -0.69860905, -0.20142689, -0.69135093,\n",
              "        -0.81914879, -0.57028761],\n",
              "       [ 1.        , -0.53893631, -1.29437561, -0.57330726, -0.93314164,\n",
              "         0.39559913, -0.46312491, -0.69860905, -0.20142689, -0.69135093,\n",
              "        -0.81914879, -0.57028761],\n",
              "       [ 1.        , -0.98820554, -1.29437561, -0.57330726, -0.93314164,\n",
              "        -2.52781141, -0.46312491, -0.69860905, -0.20142689, -0.69135093,\n",
              "        -0.81914879, -0.57028761],\n",
              "       [ 1.        , -0.72613182, -1.29437561, -0.57330726, -0.93314164,\n",
              "         0.39559913, -0.46312491, -0.69860905, -0.20142689, -0.69135093,\n",
              "        -0.81914879, -0.57028761],\n",
              "       [ 1.        ,  2.20347795,  0.05251643, -0.57330726, -0.93314164,\n",
              "         0.39559913, -0.46312491, -0.69860905, -0.20142689, -0.69135093,\n",
              "        -0.81914879, -0.57028761]])"
            ]
          },
          "execution_count": 13,
          "metadata": {},
          "output_type": "execute_result"
        }
      ],
      "source": [
        "X_train = np.hstack((X_0, X_1))\n",
        "X_train[:5]"
      ]
    },
    {
      "cell_type": "code",
      "execution_count": null,
      "id": "4eb071bf",
      "metadata": {
        "id": "4eb071bf",
        "outputId": "b56c7fca-ea75-4740-e045-fc1a6fd5e521"
      },
      "outputs": [
        {
          "data": {
            "text/plain": [
              "array([[0.],\n",
              "       [0.],\n",
              "       [0.],\n",
              "       [0.],\n",
              "       [0.],\n",
              "       [0.],\n",
              "       [0.],\n",
              "       [0.],\n",
              "       [0.],\n",
              "       [0.],\n",
              "       [0.],\n",
              "       [0.]])"
            ]
          },
          "execution_count": 14,
          "metadata": {},
          "output_type": "execute_result"
        }
      ],
      "source": [
        "theta = np.zeros((12,1))\n",
        "theta"
      ]
    },
    {
      "cell_type": "code",
      "execution_count": null,
      "id": "821eeb1e",
      "metadata": {
        "id": "821eeb1e"
      },
      "outputs": [],
      "source": [
        "\"\"\"\n",
        "Compute loss for linear regression for one time.\n",
        "\n",
        "Input Parameters\n",
        "X : 2D array for training example\n",
        "    m = number of training examples\n",
        "    n = number of features\n",
        "Y : 1D array of label/target values. Dimension: m\n",
        "lambda_value: Regularization parameter. \n",
        "theta : 2D array of fitting parameters. Dimension: n,1\n",
        "\n",
        "Output Parameters\n",
        "J : Loss\n",
        "\"\"\"\n",
        "\n",
        "def compute_loss(X, Y, theta, lambda_value):\n",
        "    predictions = X.dot(theta) #prediction = h\n",
        "    errors = np.subtract(predictions, Y)\n",
        "    sqrErrors = np.square(errors)\n",
        "    regularization = lambda_value * np.sum(np.square(theta))\n",
        "    J = (1 / (2 * m)) * (np.sum(sqrErrors) + regularization)\n",
        "    return J"
      ]
    },
    {
      "cell_type": "code",
      "execution_count": null,
      "id": "03a29d3b",
      "metadata": {
        "id": "03a29d3b",
        "outputId": "d4983032-14ad-4f1f-99e0-221f41942f23"
      },
      "outputs": [
        {
          "name": "stdout",
          "output_type": "stream",
          "text": [
            "Cost loss for all given theta = 218.00000000000006\n"
          ]
        }
      ],
      "source": [
        "lambda_value = 10\n",
        "cost = compute_loss(X_train, Y_train, theta, lambda_value)\n",
        "print(\"Cost loss for all given theta =\", cost)"
      ]
    },
    {
      "cell_type": "code",
      "execution_count": null,
      "id": "c8f01e97",
      "metadata": {
        "id": "c8f01e97"
      },
      "outputs": [],
      "source": [
        "\"\"\"\n",
        "Compute loss for l inear regression for all iterations\n",
        "\n",
        "Input Parameters\n",
        "X: 2D array, Dimension: m x n\n",
        "    m = number of training data point\n",
        "    n = number of features\n",
        "Y: 1D array of labels/target value for each training data point. Dimension: m\n",
        "theta: 2D array of fitting parameters or weights. Dimension: (n,1)\n",
        "alpha : learning rate\n",
        "iterations: Number of iterations.\n",
        "lambda_value: Regularization parameter. \n",
        "\n",
        "Output Parameters\n",
        "theta: Final Value. 2D array of fitting parameters or weights. Dimension: n,1\n",
        "loss_history: Contains value of cost at each iteration. 1D Array. Dimension: m\n",
        "\"\"\"\n",
        "\n",
        "def gradient_descent(X, Y, theta, alpha, iterations, lambda_value):\n",
        "    loss_history = np.zeros(iterations)\n",
        "    \n",
        "    for i in range(iterations):\n",
        "        predictions = X.dot(theta) # prediction (m,1) = temp\n",
        "        errors = np.subtract(predictions, Y)\n",
        "        # Use np.multiply() to multiple scalar with the array, theta. \n",
        "        sum_delta = (alpha / m) * X.transpose().dot(errors) + np.multiply(theta,((lambda_value * alpha) / m)); \n",
        "        theta = theta - sum_delta; # theta (n,1)\n",
        "        loss_history[i] = compute_loss(X, Y, theta, lambda_value)\n",
        "    return theta, loss_history"
      ]
    },
    {
      "cell_type": "code",
      "execution_count": null,
      "id": "9b699cad",
      "metadata": {
        "id": "9b699cad"
      },
      "outputs": [],
      "source": [
        "theta = [0., 0., 0., 0., 0., 0., 0., 0., 0., 0., 0., 0.]\n",
        "lambda_value = 10\n",
        "iterations = 1500\n",
        "alpha = 0.003"
      ]
    },
    {
      "cell_type": "code",
      "execution_count": null,
      "id": "bf1f2eae",
      "metadata": {
        "id": "bf1f2eae",
        "outputId": "83a1c6f4-45d5-448a-de49-65a1744099e7"
      },
      "outputs": [
        {
          "name": "stdout",
          "output_type": "stream",
          "text": [
            "Final value of theta = [2.49792717e-16 2.75398081e-01 6.97110015e-02 2.53270759e-01\n",
            " 1.91044636e-01 8.90255698e-02 9.09053947e-02 8.15391905e-02\n",
            " 1.19692914e-01 2.15774657e-01 1.16542754e-01 1.59823523e-01]\n",
            "loss_history = [0.49533858 0.49074438 0.48621641 ... 0.16782166 0.16782146 0.16782125]\n"
          ]
        }
      ],
      "source": [
        "theta, loss_history = gradient_descent(X_train, Y_train, theta, alpha, iterations, lambda_value)\n",
        "print(\"Final value of theta =\", theta)\n",
        "print(\"loss_history =\", loss_history)"
      ]
    },
    {
      "cell_type": "code",
      "execution_count": null,
      "id": "cb25223d",
      "metadata": {
        "id": "cb25223d",
        "outputId": "c945ad31-1a83-4a16-9c59-5204fb20c098"
      },
      "outputs": [
        {
          "data": {
            "text/html": [
              "<div>\n",
              "<style scoped>\n",
              "    .dataframe tbody tr th:only-of-type {\n",
              "        vertical-align: middle;\n",
              "    }\n",
              "\n",
              "    .dataframe tbody tr th {\n",
              "        vertical-align: top;\n",
              "    }\n",
              "\n",
              "    .dataframe thead th {\n",
              "        text-align: right;\n",
              "    }\n",
              "</style>\n",
              "<table border=\"1\" class=\"dataframe\">\n",
              "  <thead>\n",
              "    <tr style=\"text-align: right;\">\n",
              "      <th></th>\n",
              "      <th>area</th>\n",
              "      <th>bedrooms</th>\n",
              "      <th>bathrooms</th>\n",
              "      <th>stories</th>\n",
              "      <th>mainroad</th>\n",
              "      <th>guestroom</th>\n",
              "      <th>basement</th>\n",
              "      <th>hotwaterheating</th>\n",
              "      <th>airconditioning</th>\n",
              "      <th>parking</th>\n",
              "      <th>prefarea</th>\n",
              "      <th>price</th>\n",
              "    </tr>\n",
              "  </thead>\n",
              "  <tbody>\n",
              "    <tr>\n",
              "      <th>239</th>\n",
              "      <td>4000</td>\n",
              "      <td>3</td>\n",
              "      <td>1</td>\n",
              "      <td>2</td>\n",
              "      <td>1</td>\n",
              "      <td>0</td>\n",
              "      <td>0</td>\n",
              "      <td>0</td>\n",
              "      <td>0</td>\n",
              "      <td>1</td>\n",
              "      <td>0</td>\n",
              "      <td>4585000</td>\n",
              "    </tr>\n",
              "    <tr>\n",
              "      <th>113</th>\n",
              "      <td>9620</td>\n",
              "      <td>3</td>\n",
              "      <td>1</td>\n",
              "      <td>1</td>\n",
              "      <td>1</td>\n",
              "      <td>0</td>\n",
              "      <td>1</td>\n",
              "      <td>0</td>\n",
              "      <td>0</td>\n",
              "      <td>2</td>\n",
              "      <td>1</td>\n",
              "      <td>6083000</td>\n",
              "    </tr>\n",
              "    <tr>\n",
              "      <th>325</th>\n",
              "      <td>3460</td>\n",
              "      <td>4</td>\n",
              "      <td>1</td>\n",
              "      <td>2</td>\n",
              "      <td>1</td>\n",
              "      <td>0</td>\n",
              "      <td>0</td>\n",
              "      <td>0</td>\n",
              "      <td>1</td>\n",
              "      <td>0</td>\n",
              "      <td>0</td>\n",
              "      <td>4007500</td>\n",
              "    </tr>\n",
              "    <tr>\n",
              "      <th>66</th>\n",
              "      <td>13200</td>\n",
              "      <td>2</td>\n",
              "      <td>1</td>\n",
              "      <td>1</td>\n",
              "      <td>1</td>\n",
              "      <td>0</td>\n",
              "      <td>1</td>\n",
              "      <td>1</td>\n",
              "      <td>0</td>\n",
              "      <td>1</td>\n",
              "      <td>0</td>\n",
              "      <td>6930000</td>\n",
              "    </tr>\n",
              "    <tr>\n",
              "      <th>479</th>\n",
              "      <td>3660</td>\n",
              "      <td>4</td>\n",
              "      <td>1</td>\n",
              "      <td>2</td>\n",
              "      <td>0</td>\n",
              "      <td>0</td>\n",
              "      <td>0</td>\n",
              "      <td>0</td>\n",
              "      <td>0</td>\n",
              "      <td>0</td>\n",
              "      <td>0</td>\n",
              "      <td>2940000</td>\n",
              "    </tr>\n",
              "  </tbody>\n",
              "</table>\n",
              "</div>"
            ],
            "text/plain": [
              "      area  bedrooms  bathrooms  stories  mainroad  guestroom  basement  \\\n",
              "239   4000         3          1        2         1          0         0   \n",
              "113   9620         3          1        1         1          0         1   \n",
              "325   3460         4          1        2         1          0         0   \n",
              "66   13200         2          1        1         1          0         1   \n",
              "479   3660         4          1        2         0          0         0   \n",
              "\n",
              "     hotwaterheating  airconditioning  parking  prefarea    price  \n",
              "239                0                0        1         0  4585000  \n",
              "113                0                0        2         1  6083000  \n",
              "325                0                1        0         0  4007500  \n",
              "66                 1                0        1         0  6930000  \n",
              "479                0                0        0         0  2940000  "
            ]
          },
          "execution_count": 20,
          "metadata": {},
          "output_type": "execute_result"
        }
      ],
      "source": [
        "df_threeBtest.head()"
      ]
    },
    {
      "cell_type": "code",
      "execution_count": null,
      "id": "4671e2d7",
      "metadata": {
        "id": "4671e2d7",
        "outputId": "a7fb2180-a115-4353-a146-632b9378fe09"
      },
      "outputs": [
        {
          "data": {
            "text/html": [
              "<div>\n",
              "<style scoped>\n",
              "    .dataframe tbody tr th:only-of-type {\n",
              "        vertical-align: middle;\n",
              "    }\n",
              "\n",
              "    .dataframe tbody tr th {\n",
              "        vertical-align: top;\n",
              "    }\n",
              "\n",
              "    .dataframe thead th {\n",
              "        text-align: right;\n",
              "    }\n",
              "</style>\n",
              "<table border=\"1\" class=\"dataframe\">\n",
              "  <thead>\n",
              "    <tr style=\"text-align: right;\">\n",
              "      <th></th>\n",
              "      <th>area</th>\n",
              "      <th>bedrooms</th>\n",
              "      <th>bathrooms</th>\n",
              "      <th>stories</th>\n",
              "      <th>mainroad</th>\n",
              "      <th>guestroom</th>\n",
              "      <th>basement</th>\n",
              "      <th>hotwaterheating</th>\n",
              "      <th>airconditioning</th>\n",
              "      <th>parking</th>\n",
              "      <th>prefarea</th>\n",
              "      <th>price</th>\n",
              "    </tr>\n",
              "  </thead>\n",
              "  <tbody>\n",
              "    <tr>\n",
              "      <th>239</th>\n",
              "      <td>-0.500735</td>\n",
              "      <td>0.025607</td>\n",
              "      <td>-0.563545</td>\n",
              "      <td>0.272416</td>\n",
              "      <td>0.444750</td>\n",
              "      <td>-0.474045</td>\n",
              "      <td>-0.887066</td>\n",
              "      <td>-0.281439</td>\n",
              "      <td>-0.630425</td>\n",
              "      <td>0.492144</td>\n",
              "      <td>-0.488504</td>\n",
              "      <td>-0.081358</td>\n",
              "    </tr>\n",
              "    <tr>\n",
              "      <th>113</th>\n",
              "      <td>1.954229</td>\n",
              "      <td>0.025607</td>\n",
              "      <td>-0.563545</td>\n",
              "      <td>-0.915317</td>\n",
              "      <td>0.444750</td>\n",
              "      <td>-0.474045</td>\n",
              "      <td>1.127312</td>\n",
              "      <td>-0.281439</td>\n",
              "      <td>-0.630425</td>\n",
              "      <td>1.739673</td>\n",
              "      <td>2.047065</td>\n",
              "      <td>0.801114</td>\n",
              "    </tr>\n",
              "    <tr>\n",
              "      <th>325</th>\n",
              "      <td>-0.736621</td>\n",
              "      <td>1.421209</td>\n",
              "      <td>-0.563545</td>\n",
              "      <td>0.272416</td>\n",
              "      <td>0.444750</td>\n",
              "      <td>-0.474045</td>\n",
              "      <td>-0.887066</td>\n",
              "      <td>-0.281439</td>\n",
              "      <td>1.586231</td>\n",
              "      <td>-0.755384</td>\n",
              "      <td>-0.488504</td>\n",
              "      <td>-0.421563</td>\n",
              "    </tr>\n",
              "    <tr>\n",
              "      <th>66</th>\n",
              "      <td>3.518067</td>\n",
              "      <td>-1.369995</td>\n",
              "      <td>-0.563545</td>\n",
              "      <td>-0.915317</td>\n",
              "      <td>0.444750</td>\n",
              "      <td>-0.474045</td>\n",
              "      <td>1.127312</td>\n",
              "      <td>3.553168</td>\n",
              "      <td>-0.630425</td>\n",
              "      <td>0.492144</td>\n",
              "      <td>-0.488504</td>\n",
              "      <td>1.300082</td>\n",
              "    </tr>\n",
              "    <tr>\n",
              "      <th>479</th>\n",
              "      <td>-0.649256</td>\n",
              "      <td>1.421209</td>\n",
              "      <td>-0.563545</td>\n",
              "      <td>0.272416</td>\n",
              "      <td>-2.248456</td>\n",
              "      <td>-0.474045</td>\n",
              "      <td>-0.887066</td>\n",
              "      <td>-0.281439</td>\n",
              "      <td>-0.630425</td>\n",
              "      <td>-0.755384</td>\n",
              "      <td>-0.488504</td>\n",
              "      <td>-1.050428</td>\n",
              "    </tr>\n",
              "  </tbody>\n",
              "</table>\n",
              "</div>"
            ],
            "text/plain": [
              "         area  bedrooms  bathrooms   stories  mainroad  guestroom  basement  \\\n",
              "239 -0.500735  0.025607  -0.563545  0.272416  0.444750  -0.474045 -0.887066   \n",
              "113  1.954229  0.025607  -0.563545 -0.915317  0.444750  -0.474045  1.127312   \n",
              "325 -0.736621  1.421209  -0.563545  0.272416  0.444750  -0.474045 -0.887066   \n",
              "66   3.518067 -1.369995  -0.563545 -0.915317  0.444750  -0.474045  1.127312   \n",
              "479 -0.649256  1.421209  -0.563545  0.272416 -2.248456  -0.474045 -0.887066   \n",
              "\n",
              "     hotwaterheating  airconditioning   parking  prefarea     price  \n",
              "239        -0.281439        -0.630425  0.492144 -0.488504 -0.081358  \n",
              "113        -0.281439        -0.630425  1.739673  2.047065  0.801114  \n",
              "325        -0.281439         1.586231 -0.755384 -0.488504 -0.421563  \n",
              "66          3.553168        -0.630425  0.492144 -0.488504  1.300082  \n",
              "479        -0.281439        -0.630425 -0.755384 -0.488504 -1.050428  "
            ]
          },
          "execution_count": 21,
          "metadata": {},
          "output_type": "execute_result"
        }
      ],
      "source": [
        "# Many columns contains small integer values excluding areas. Needs to rescale the variables.\n",
        "# Advised to use starndarization or normalization, so the coefficients is comparable. \n",
        "\n",
        "# Two ways of rescaling:\n",
        "# 1.) Min-Max Scaling\n",
        "# 2.) Standardization (For this code.)\n",
        "\n",
        "import warnings\n",
        "warnings.filterwarnings('ignore')\n",
        "\n",
        "from sklearn.preprocessing import MinMaxScaler, StandardScaler\n",
        "scaler = StandardScaler()\n",
        "df_threeBtest[num_vars] = scaler.fit_transform(df_threeBtest[num_vars])\n",
        "df_threeBtest.head()"
      ]
    },
    {
      "cell_type": "code",
      "execution_count": null,
      "id": "c61883c8",
      "metadata": {
        "id": "c61883c8",
        "outputId": "7252fcd8-cb8a-4b1d-d6f2-a8290fb987c5"
      },
      "outputs": [
        {
          "name": "stdout",
          "output_type": "stream",
          "text": [
            "[[-0.50073521  0.02560738 -0.56354451  0.27241586  0.44474959 -0.47404546\n",
            "  -0.88706553 -0.28143902 -0.63042517  0.49214421 -0.48850421 -0.08135801]\n",
            " [ 1.95422869  0.02560738 -0.56354451 -0.91531729  0.44474959 -0.47404546\n",
            "   1.12731244 -0.28143902 -0.63042517  1.73967255  2.04706526  0.80111439]\n",
            " [-0.73662142  1.42120937 -0.56354451  0.27241586  0.44474959 -0.47404546\n",
            "  -0.88706553 -0.28143902  1.58623108 -0.75538413 -0.48850421 -0.42156349]\n",
            " [ 3.5180669  -1.36999462 -0.56354451 -0.91531729  0.44474959 -0.47404546\n",
            "   1.12731244  3.5531676  -0.63042517  0.49214421 -0.48850421  1.30008243]\n",
            " [-0.64925616  1.42120937 -0.56354451  0.27241586 -2.24845626 -0.47404546\n",
            "  -0.88706553 -0.28143902 -0.63042517 -0.75538413 -0.48850421 -1.05042817]\n",
            " [ 0.52580664  0.02560738  1.2431129   1.46014902  0.44474959  2.10950231\n",
            "  -0.88706553 -0.28143902  1.58623108 -0.75538413 -0.48850421  0.86709364]\n",
            " [-0.56625916  0.02560738 -0.56354451 -0.91531729  0.44474959 -0.47404546\n",
            "  -0.88706553 -0.28143902 -0.63042517  1.73967255 -0.48850421 -0.69991343]\n",
            " [-0.72788489  0.02560738 -0.56354451  0.27241586 -2.24845626 -0.47404546\n",
            "  -0.88706553 -0.28143902 -0.63042517  0.49214421 -0.48850421 -1.05042817]\n",
            " [-0.71390645 -1.36999462 -0.56354451 -0.91531729  0.44474959 -0.47404546\n",
            "  -0.88706553 -0.28143902 -0.63042517  0.49214421  2.04706526 -0.72053194]\n",
            " [ 1.68339637  1.42120937  1.2431129   2.64788217  0.44474959 -0.47404546\n",
            "  -0.88706553 -0.28143902  1.58623108  1.73967255 -0.48850421  1.91863786]\n",
            " [ 0.37291742  1.42120937  1.2431129   2.64788217  0.44474959 -0.47404546\n",
            "  -0.88706553 -0.28143902  1.58623108 -0.75538413 -0.48850421  1.19698986]\n",
            " [-0.51820826  0.02560738 -0.56354451  0.27241586  0.44474959 -0.47404546\n",
            "  -0.88706553 -0.28143902 -0.63042517 -0.75538413 -0.48850421 -0.43187275]\n",
            " [-0.74098968  0.02560738 -0.56354451  0.27241586  0.44474959 -0.47404546\n",
            "   1.12731244 -0.28143902 -0.63042517 -0.75538413 -0.48850421 -0.92671708]\n",
            " [ 0.399127    0.02560738 -0.56354451 -0.91531729  0.44474959  2.10950231\n",
            "   1.12731244 -0.28143902 -0.63042517 -0.75538413 -0.48850421 -0.84424303]\n",
            " [ 0.36636503  0.02560738 -0.56354451 -0.91531729  0.44474959 -0.47404546\n",
            "   1.12731244 -0.28143902 -0.63042517 -0.75538413 -0.48850421 -0.34939869]\n",
            " [-1.18655253  0.02560738 -0.56354451 -0.91531729 -2.24845626 -0.47404546\n",
            "  -0.88706553 -0.28143902 -0.63042517 -0.75538413 -0.48850421 -1.21537628]\n",
            " [-0.10759152 -1.36999462 -0.56354451  0.27241586  0.44474959 -0.47404546\n",
            "   1.12731244 -0.28143902 -0.63042517 -0.75538413 -0.48850421 -0.18445058]\n",
            " [ 0.38165395  0.02560738 -0.56354451 -0.91531729  0.44474959 -0.47404546\n",
            "  -0.88706553 -0.28143902 -0.63042517 -0.75538413 -0.48850421 -0.59682086]\n",
            " [-0.89387889  0.02560738 -0.56354451  0.27241586 -2.24845626 -0.47404546\n",
            "   1.12731244 -0.28143902 -0.63042517 -0.75538413 -0.48850421 -0.803006  ]\n",
            " [-0.28232205 -1.36999462 -0.56354451 -0.91531729  0.44474959 -0.47404546\n",
            "  -0.88706553 -0.28143902  1.58623108  1.73967255 -0.48850421 -0.26692463]]\n"
          ]
        }
      ],
      "source": [
        "dataset_test = df_threeBtest.values[:,:]\n",
        "print(dataset_test[:20,:])"
      ]
    },
    {
      "cell_type": "code",
      "execution_count": null,
      "id": "0635b30c",
      "metadata": {
        "id": "0635b30c",
        "outputId": "01f65af6-722d-424a-f415-2b2cb3910142"
      },
      "outputs": [
        {
          "data": {
            "text/plain": [
              "(109, 109)"
            ]
          },
          "execution_count": 23,
          "metadata": {},
          "output_type": "execute_result"
        }
      ],
      "source": [
        "X_test = df_threeBtest.values[:,0:11]\n",
        "Y_test = df_threeBtest.values[:,11]\n",
        "len(X_test), len(Y_test)"
      ]
    },
    {
      "cell_type": "code",
      "execution_count": null,
      "id": "705d3b42",
      "metadata": {
        "id": "705d3b42",
        "outputId": "a4985dc6-c11b-409a-8e47-6bf38acfdf15"
      },
      "outputs": [
        {
          "name": "stdout",
          "output_type": "stream",
          "text": [
            "X = [[-0.50073521  0.02560738 -0.56354451  0.27241586  0.44474959 -0.47404546\n",
            "  -0.88706553 -0.28143902 -0.63042517  0.49214421 -0.48850421]\n",
            " [ 1.95422869  0.02560738 -0.56354451 -0.91531729  0.44474959 -0.47404546\n",
            "   1.12731244 -0.28143902 -0.63042517  1.73967255  2.04706526]\n",
            " [-0.73662142  1.42120937 -0.56354451  0.27241586  0.44474959 -0.47404546\n",
            "  -0.88706553 -0.28143902  1.58623108 -0.75538413 -0.48850421]\n",
            " [ 3.5180669  -1.36999462 -0.56354451 -0.91531729  0.44474959 -0.47404546\n",
            "   1.12731244  3.5531676  -0.63042517  0.49214421 -0.48850421]\n",
            " [-0.64925616  1.42120937 -0.56354451  0.27241586 -2.24845626 -0.47404546\n",
            "  -0.88706553 -0.28143902 -0.63042517 -0.75538413 -0.48850421]]\n",
            "Y = [-0.08135801  0.80111439 -0.42156349  1.30008243 -1.05042817]\n"
          ]
        }
      ],
      "source": [
        "print('X =', X_test[:5])\n",
        "print('Y =', Y_test[:5])"
      ]
    },
    {
      "cell_type": "code",
      "execution_count": null,
      "id": "970a3401",
      "metadata": {
        "id": "970a3401",
        "outputId": "2f7f04c8-478b-40f8-a711-c2f66e1e35c6"
      },
      "outputs": [
        {
          "name": "stdout",
          "output_type": "stream",
          "text": [
            "X_1 = [[-0.50073521  0.02560738 -0.56354451  0.27241586  0.44474959 -0.47404546\n",
            "  -0.88706553 -0.28143902 -0.63042517  0.49214421 -0.48850421]\n",
            " [ 1.95422869  0.02560738 -0.56354451 -0.91531729  0.44474959 -0.47404546\n",
            "   1.12731244 -0.28143902 -0.63042517  1.73967255  2.04706526]\n",
            " [-0.73662142  1.42120937 -0.56354451  0.27241586  0.44474959 -0.47404546\n",
            "  -0.88706553 -0.28143902  1.58623108 -0.75538413 -0.48850421]\n",
            " [ 3.5180669  -1.36999462 -0.56354451 -0.91531729  0.44474959 -0.47404546\n",
            "   1.12731244  3.5531676  -0.63042517  0.49214421 -0.48850421]\n",
            " [-0.64925616  1.42120937 -0.56354451  0.27241586 -2.24845626 -0.47404546\n",
            "  -0.88706553 -0.28143902 -0.63042517 -0.75538413 -0.48850421]]\n"
          ]
        }
      ],
      "source": [
        "# Convert to 2D array (164x11)\n",
        "m = len(X_test)\n",
        "X_1 = X_test.reshape(m,11)\n",
        "print(\"X_1 =\", X_1[:5,:])"
      ]
    },
    {
      "cell_type": "code",
      "execution_count": null,
      "id": "7476db88",
      "metadata": {
        "id": "7476db88",
        "outputId": "e029be0c-6a26-4116-a27f-784f24a7bc0a"
      },
      "outputs": [
        {
          "data": {
            "text/plain": [
              "(array([[1.],\n",
              "        [1.],\n",
              "        [1.],\n",
              "        [1.],\n",
              "        [1.]]),\n",
              " 109)"
            ]
          },
          "execution_count": 26,
          "metadata": {},
          "output_type": "execute_result"
        }
      ],
      "source": [
        "# Create theta zero.\n",
        "m = len(X_test)\n",
        "X_0 = np.ones((m,1))\n",
        "X_0[:5], len(X_0)"
      ]
    },
    {
      "cell_type": "code",
      "execution_count": null,
      "id": "a100a2cf",
      "metadata": {
        "id": "a100a2cf",
        "outputId": "6c73b53b-087e-4c1c-9ffb-1b4fca3cd538"
      },
      "outputs": [
        {
          "data": {
            "text/plain": [
              "array([[ 1.        , -0.50073521,  0.02560738, -0.56354451,  0.27241586,\n",
              "         0.44474959, -0.47404546, -0.88706553, -0.28143902, -0.63042517,\n",
              "         0.49214421, -0.48850421],\n",
              "       [ 1.        ,  1.95422869,  0.02560738, -0.56354451, -0.91531729,\n",
              "         0.44474959, -0.47404546,  1.12731244, -0.28143902, -0.63042517,\n",
              "         1.73967255,  2.04706526],\n",
              "       [ 1.        , -0.73662142,  1.42120937, -0.56354451,  0.27241586,\n",
              "         0.44474959, -0.47404546, -0.88706553, -0.28143902,  1.58623108,\n",
              "        -0.75538413, -0.48850421],\n",
              "       [ 1.        ,  3.5180669 , -1.36999462, -0.56354451, -0.91531729,\n",
              "         0.44474959, -0.47404546,  1.12731244,  3.5531676 , -0.63042517,\n",
              "         0.49214421, -0.48850421],\n",
              "       [ 1.        , -0.64925616,  1.42120937, -0.56354451,  0.27241586,\n",
              "        -2.24845626, -0.47404546, -0.88706553, -0.28143902, -0.63042517,\n",
              "        -0.75538413, -0.48850421]])"
            ]
          },
          "execution_count": 27,
          "metadata": {},
          "output_type": "execute_result"
        }
      ],
      "source": [
        "X_test = np.hstack((X_0, X_1))\n",
        "X_test[:5]"
      ]
    },
    {
      "cell_type": "code",
      "execution_count": null,
      "id": "3462f074",
      "metadata": {
        "id": "3462f074",
        "outputId": "c1cb83e4-a8a4-47a6-dff4-446ccc5aab7b"
      },
      "outputs": [
        {
          "data": {
            "text/plain": [
              "array([[0.],\n",
              "       [0.],\n",
              "       [0.],\n",
              "       [0.],\n",
              "       [0.],\n",
              "       [0.],\n",
              "       [0.],\n",
              "       [0.],\n",
              "       [0.],\n",
              "       [0.],\n",
              "       [0.],\n",
              "       [0.]])"
            ]
          },
          "execution_count": 28,
          "metadata": {},
          "output_type": "execute_result"
        }
      ],
      "source": [
        "theta_test = np.zeros((12,1))\n",
        "theta_test"
      ]
    },
    {
      "cell_type": "code",
      "execution_count": null,
      "id": "8f532660",
      "metadata": {
        "id": "8f532660"
      },
      "outputs": [],
      "source": [
        "\"\"\"\n",
        "Compute loss for linear regression for one time.\n",
        "\n",
        "Input Parameters\n",
        "X : 2D array for training example\n",
        "    m = number of training examples\n",
        "    n = number of features\n",
        "Y : 1D array of label/target values. Dimension: m\n",
        "\n",
        "theta : 2D array of fitting parameters. Dimension: n,1\n",
        "\n",
        "Output Parameters\n",
        "J : Loss\n",
        "\"\"\"\n",
        "\n",
        "def compute_loss_noreg(X, Y, theta):\n",
        "    predictions = X.dot(theta) #prediction = h\n",
        "    errors = np.subtract(predictions, Y)\n",
        "    sqrErrors = np.square(errors)\n",
        "    J = 1 / (2 * m) * np.sum(sqrErrors)\n",
        "    return J"
      ]
    },
    {
      "cell_type": "code",
      "execution_count": null,
      "id": "b27e49ea",
      "metadata": {
        "id": "b27e49ea",
        "outputId": "c7ad955f-616c-4955-a0af-87756f09e63d"
      },
      "outputs": [
        {
          "name": "stdout",
          "output_type": "stream",
          "text": [
            "Cost loss for all given theta = 54.49999999999999\n"
          ]
        }
      ],
      "source": [
        "cost_test = compute_loss_noreg(X_test, Y_test, theta_test)\n",
        "print(\"Cost loss for all given theta =\", cost_test)"
      ]
    },
    {
      "cell_type": "code",
      "execution_count": null,
      "id": "0a08fb38",
      "metadata": {
        "id": "0a08fb38"
      },
      "outputs": [],
      "source": [
        "\"\"\"\n",
        "Compute loss for l inear regression for all iterations\n",
        "\n",
        "Input Parameters\n",
        "X: 2D array, Dimension: m x n\n",
        "    m = number of training data point\n",
        "    n = number of features\n",
        "Y: 1D array of labels/target value for each training data point. Dimension: m\n",
        "theta: 2D array of fitting parameters or weights. Dimension: (n,1)\n",
        "alpha : learning rate\n",
        "iterations: Number of iterations.\n",
        "\n",
        "Output Parameters\n",
        "theta: Final Value. 2D array of fitting parameters or weights. Dimension: n,1\n",
        "loss_history: Contains value of cost at each iteration. 1D Array. Dimension: m\n",
        "\"\"\"\n",
        "\n",
        "def gradient_descent_noreg(X, Y, theta, alpha, iterations):\n",
        "    loss_history = np.zeros(iterations)\n",
        "    \n",
        "    for i in range(iterations):\n",
        "        predictions = X.dot(theta) # prediction (m,1) = temp\n",
        "        errors = np.subtract(predictions, Y)\n",
        "        sum_delta = (alpha / m) * X.transpose().dot(errors);\n",
        "        theta = theta - sum_delta; # theta (n,1)\n",
        "        loss_history[i] = compute_loss_noreg(X, Y, theta)\n",
        "    return theta, loss_history"
      ]
    },
    {
      "cell_type": "code",
      "execution_count": null,
      "id": "c5f4f7a4",
      "metadata": {
        "id": "c5f4f7a4"
      },
      "outputs": [],
      "source": [
        "theta_test = [0., 0., 0., 0., 0., 0., 0., 0., 0., 0., 0., 0.]\n",
        "iterations = 1500\n",
        "alpha = 0.003"
      ]
    },
    {
      "cell_type": "code",
      "execution_count": null,
      "id": "d8ef82f8",
      "metadata": {
        "id": "d8ef82f8",
        "outputId": "229520ba-8bf8-4708-ce18-7872d630162d"
      },
      "outputs": [
        {
          "name": "stdout",
          "output_type": "stream",
          "text": [
            "Final value of theta = [ 1.27995474e-16  2.70877429e-01  1.98422728e-02  3.05759749e-01\n",
            "  2.31850131e-01  1.28966576e-01 -4.03787210e-02  1.66329173e-01\n",
            "  4.35598057e-02  2.61782180e-01  2.34913087e-01  5.10329844e-02]\n",
            "loss_history = [0.49538399 0.49082909 0.48633448 ... 0.13320429 0.13320306 0.13320183]\n"
          ]
        }
      ],
      "source": [
        "theta_test, loss_history_test = gradient_descent_noreg(X_test, Y_test, theta_test, alpha, iterations)\n",
        "print(\"Final value of theta =\", theta_test)\n",
        "print(\"loss_history =\", loss_history_test)"
      ]
    },
    {
      "cell_type": "code",
      "execution_count": null,
      "id": "0ca2f1ee",
      "metadata": {
        "id": "0ca2f1ee",
        "outputId": "c3399890-918c-4727-c143-391bdafbe031"
      },
      "outputs": [
        {
          "data": {
            "text/plain": [
              "Text(0.5, 1.0, 'Convergence of gradient descent')"
            ]
          },
          "execution_count": 35,
          "metadata": {},
          "output_type": "execute_result"
        },
        {
          "data": {
            "image/png": "[encoded data removed]",
            "text/plain": [
              "<Figure size 864x576 with 1 Axes>"
            ]
          },
          "metadata": {
            "needs_background": "light"
          },
          "output_type": "display_data"
        }
      ],
      "source": [
        "plt.plot(range(1, iterations + 1), loss_history, color = 'black')\n",
        "plt.plot(range(1, iterations + 1), loss_history_test, color = 'blue')\n",
        "plt.rcParams[\"figure.figsize\"] = [12,8]\n",
        "plt.grid()\n",
        "plt.legend(['Training Sets', 'Validation Sets'])\n",
        "plt.xlabel(\"Numbers of iterations\")\n",
        "plt.ylabel(\"Loss (J)\")\n",
        "plt.title(\"Convergence of gradient descent\")"
      ]
    },
    {
      "cell_type": "code",
      "execution_count": null,
      "id": "12342df7",
      "metadata": {
        "id": "12342df7"
      },
      "outputs": [],
      "source": []
    }
  ],
  "metadata": {
    "kernelspec": {
      "display_name": "Python 3 (ipykernel)",
      "language": "python",
      "name": "python3"
    },
    "language_info": {
      "codemirror_mode": {
        "name": "ipython",
        "version": 3
      },
      "file_extension": ".py",
      "mimetype": "text/x-python",
      "name": "python",
      "nbconvert_exporter": "python",
      "pygments_lexer": "ipython3",
      "version": "3.9.12"
    },
    "colab": {
      "provenance": []
    }
  },
  "nbformat": 4,
  "nbformat_minor": 5
}