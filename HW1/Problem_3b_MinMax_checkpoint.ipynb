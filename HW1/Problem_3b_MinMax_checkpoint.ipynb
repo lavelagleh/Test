{
  "cells": [
    {
      "cell_type": "code",
      "execution_count": null,
      "id": "b7f1042f",
      "metadata": {
        "id": "b7f1042f"
      },
      "outputs": [],
      "source": [
        "import numpy as np\n",
        "import pandas as pd\n",
        "import matplotlib.pyplot as plt\n",
        "import seaborn as sns"
      ]
    },
    {
      "cell_type": "code",
      "execution_count": null,
      "id": "d3c30622",
      "metadata": {
        "id": "d3c30622",
        "outputId": "94a3d161-f0f4-4042-d271-8ec728c85511"
      },
      "outputs": [
        {
          "data": {
            "text/html": [
              "<div>\n",
              "<style scoped>\n",
              "    .dataframe tbody tr th:only-of-type {\n",
              "        vertical-align: middle;\n",
              "    }\n",
              "\n",
              "    .dataframe tbody tr th {\n",
              "        vertical-align: top;\n",
              "    }\n",
              "\n",
              "    .dataframe thead th {\n",
              "        text-align: right;\n",
              "    }\n",
              "</style>\n",
              "<table border=\"1\" class=\"dataframe\">\n",
              "  <thead>\n",
              "    <tr style=\"text-align: right;\">\n",
              "      <th></th>\n",
              "      <th>price</th>\n",
              "      <th>area</th>\n",
              "      <th>bedrooms</th>\n",
              "      <th>bathrooms</th>\n",
              "      <th>stories</th>\n",
              "      <th>mainroad</th>\n",
              "      <th>guestroom</th>\n",
              "      <th>basement</th>\n",
              "      <th>hotwaterheating</th>\n",
              "      <th>airconditioning</th>\n",
              "      <th>parking</th>\n",
              "      <th>prefarea</th>\n",
              "      <th>furnishingstatus</th>\n",
              "    </tr>\n",
              "  </thead>\n",
              "  <tbody>\n",
              "    <tr>\n",
              "      <th>0</th>\n",
              "      <td>13300000</td>\n",
              "      <td>7420</td>\n",
              "      <td>4</td>\n",
              "      <td>2</td>\n",
              "      <td>3</td>\n",
              "      <td>yes</td>\n",
              "      <td>no</td>\n",
              "      <td>no</td>\n",
              "      <td>no</td>\n",
              "      <td>yes</td>\n",
              "      <td>2</td>\n",
              "      <td>yes</td>\n",
              "      <td>furnished</td>\n",
              "    </tr>\n",
              "    <tr>\n",
              "      <th>1</th>\n",
              "      <td>12250000</td>\n",
              "      <td>8960</td>\n",
              "      <td>4</td>\n",
              "      <td>4</td>\n",
              "      <td>4</td>\n",
              "      <td>yes</td>\n",
              "      <td>no</td>\n",
              "      <td>no</td>\n",
              "      <td>no</td>\n",
              "      <td>yes</td>\n",
              "      <td>3</td>\n",
              "      <td>no</td>\n",
              "      <td>furnished</td>\n",
              "    </tr>\n",
              "    <tr>\n",
              "      <th>2</th>\n",
              "      <td>12250000</td>\n",
              "      <td>9960</td>\n",
              "      <td>3</td>\n",
              "      <td>2</td>\n",
              "      <td>2</td>\n",
              "      <td>yes</td>\n",
              "      <td>no</td>\n",
              "      <td>yes</td>\n",
              "      <td>no</td>\n",
              "      <td>no</td>\n",
              "      <td>2</td>\n",
              "      <td>yes</td>\n",
              "      <td>semi-furnished</td>\n",
              "    </tr>\n",
              "    <tr>\n",
              "      <th>3</th>\n",
              "      <td>12215000</td>\n",
              "      <td>7500</td>\n",
              "      <td>4</td>\n",
              "      <td>2</td>\n",
              "      <td>2</td>\n",
              "      <td>yes</td>\n",
              "      <td>no</td>\n",
              "      <td>yes</td>\n",
              "      <td>no</td>\n",
              "      <td>yes</td>\n",
              "      <td>3</td>\n",
              "      <td>yes</td>\n",
              "      <td>furnished</td>\n",
              "    </tr>\n",
              "    <tr>\n",
              "      <th>4</th>\n",
              "      <td>11410000</td>\n",
              "      <td>7420</td>\n",
              "      <td>4</td>\n",
              "      <td>1</td>\n",
              "      <td>2</td>\n",
              "      <td>yes</td>\n",
              "      <td>yes</td>\n",
              "      <td>yes</td>\n",
              "      <td>no</td>\n",
              "      <td>yes</td>\n",
              "      <td>2</td>\n",
              "      <td>no</td>\n",
              "      <td>furnished</td>\n",
              "    </tr>\n",
              "  </tbody>\n",
              "</table>\n",
              "</div>"
            ],
            "text/plain": [
              "      price  area  bedrooms  bathrooms  stories mainroad guestroom basement  \\\n",
              "0  13300000  7420         4          2        3      yes        no       no   \n",
              "1  12250000  8960         4          4        4      yes        no       no   \n",
              "2  12250000  9960         3          2        2      yes        no      yes   \n",
              "3  12215000  7500         4          2        2      yes        no      yes   \n",
              "4  11410000  7420         4          1        2      yes       yes      yes   \n",
              "\n",
              "  hotwaterheating airconditioning  parking prefarea furnishingstatus  \n",
              "0              no             yes        2      yes        furnished  \n",
              "1              no             yes        3       no        furnished  \n",
              "2              no              no        2      yes   semi-furnished  \n",
              "3              no             yes        3      yes        furnished  \n",
              "4              no             yes        2       no        furnished  "
            ]
          },
          "execution_count": 2,
          "metadata": {},
          "output_type": "execute_result"
        }
      ],
      "source": [
        "housing = pd.DataFrame(pd.read_csv('./Housing.csv'))\n",
        "housing.head()"
      ]
    },
    {
      "cell_type": "code",
      "execution_count": null,
      "id": "40acfe20",
      "metadata": {
        "id": "40acfe20",
        "outputId": "d1721cfd-6223-4858-b6f2-2e2f416d90d2"
      },
      "outputs": [
        {
          "data": {
            "text/html": [
              "<div>\n",
              "<style scoped>\n",
              "    .dataframe tbody tr th:only-of-type {\n",
              "        vertical-align: middle;\n",
              "    }\n",
              "\n",
              "    .dataframe tbody tr th {\n",
              "        vertical-align: top;\n",
              "    }\n",
              "\n",
              "    .dataframe thead th {\n",
              "        text-align: right;\n",
              "    }\n",
              "</style>\n",
              "<table border=\"1\" class=\"dataframe\">\n",
              "  <thead>\n",
              "    <tr style=\"text-align: right;\">\n",
              "      <th></th>\n",
              "      <th>price</th>\n",
              "      <th>area</th>\n",
              "      <th>bedrooms</th>\n",
              "      <th>bathrooms</th>\n",
              "      <th>stories</th>\n",
              "      <th>mainroad</th>\n",
              "      <th>guestroom</th>\n",
              "      <th>basement</th>\n",
              "      <th>hotwaterheating</th>\n",
              "      <th>airconditioning</th>\n",
              "      <th>parking</th>\n",
              "      <th>prefarea</th>\n",
              "      <th>furnishingstatus</th>\n",
              "    </tr>\n",
              "  </thead>\n",
              "  <tbody>\n",
              "    <tr>\n",
              "      <th>0</th>\n",
              "      <td>13300000</td>\n",
              "      <td>7420</td>\n",
              "      <td>4</td>\n",
              "      <td>2</td>\n",
              "      <td>3</td>\n",
              "      <td>1</td>\n",
              "      <td>0</td>\n",
              "      <td>0</td>\n",
              "      <td>0</td>\n",
              "      <td>1</td>\n",
              "      <td>2</td>\n",
              "      <td>1</td>\n",
              "      <td>furnished</td>\n",
              "    </tr>\n",
              "    <tr>\n",
              "      <th>1</th>\n",
              "      <td>12250000</td>\n",
              "      <td>8960</td>\n",
              "      <td>4</td>\n",
              "      <td>4</td>\n",
              "      <td>4</td>\n",
              "      <td>1</td>\n",
              "      <td>0</td>\n",
              "      <td>0</td>\n",
              "      <td>0</td>\n",
              "      <td>1</td>\n",
              "      <td>3</td>\n",
              "      <td>0</td>\n",
              "      <td>furnished</td>\n",
              "    </tr>\n",
              "    <tr>\n",
              "      <th>2</th>\n",
              "      <td>12250000</td>\n",
              "      <td>9960</td>\n",
              "      <td>3</td>\n",
              "      <td>2</td>\n",
              "      <td>2</td>\n",
              "      <td>1</td>\n",
              "      <td>0</td>\n",
              "      <td>1</td>\n",
              "      <td>0</td>\n",
              "      <td>0</td>\n",
              "      <td>2</td>\n",
              "      <td>1</td>\n",
              "      <td>semi-furnished</td>\n",
              "    </tr>\n",
              "    <tr>\n",
              "      <th>3</th>\n",
              "      <td>12215000</td>\n",
              "      <td>7500</td>\n",
              "      <td>4</td>\n",
              "      <td>2</td>\n",
              "      <td>2</td>\n",
              "      <td>1</td>\n",
              "      <td>0</td>\n",
              "      <td>1</td>\n",
              "      <td>0</td>\n",
              "      <td>1</td>\n",
              "      <td>3</td>\n",
              "      <td>1</td>\n",
              "      <td>furnished</td>\n",
              "    </tr>\n",
              "    <tr>\n",
              "      <th>4</th>\n",
              "      <td>11410000</td>\n",
              "      <td>7420</td>\n",
              "      <td>4</td>\n",
              "      <td>1</td>\n",
              "      <td>2</td>\n",
              "      <td>1</td>\n",
              "      <td>1</td>\n",
              "      <td>1</td>\n",
              "      <td>0</td>\n",
              "      <td>1</td>\n",
              "      <td>2</td>\n",
              "      <td>0</td>\n",
              "      <td>furnished</td>\n",
              "    </tr>\n",
              "  </tbody>\n",
              "</table>\n",
              "</div>"
            ],
            "text/plain": [
              "      price  area  bedrooms  bathrooms  stories  mainroad  guestroom  \\\n",
              "0  13300000  7420         4          2        3         1          0   \n",
              "1  12250000  8960         4          4        4         1          0   \n",
              "2  12250000  9960         3          2        2         1          0   \n",
              "3  12215000  7500         4          2        2         1          0   \n",
              "4  11410000  7420         4          1        2         1          1   \n",
              "\n",
              "   basement  hotwaterheating  airconditioning  parking  prefarea  \\\n",
              "0         0                0                1        2         1   \n",
              "1         0                0                1        3         0   \n",
              "2         1                0                0        2         1   \n",
              "3         1                0                1        3         1   \n",
              "4         1                0                1        2         0   \n",
              "\n",
              "  furnishingstatus  \n",
              "0        furnished  \n",
              "1        furnished  \n",
              "2   semi-furnished  \n",
              "3        furnished  \n",
              "4        furnished  "
            ]
          },
          "execution_count": 3,
          "metadata": {},
          "output_type": "execute_result"
        }
      ],
      "source": [
        "# Any dataset that has columns with values as 'Yes' or 'No', strings' values cannot be used.\n",
        "# However, we can convert them to numerical values as binary.\n",
        "\n",
        "varlist = ['mainroad', 'guestroom', 'basement', 'hotwaterheating', 'airconditioning', 'prefarea']\n",
        "\n",
        "def binary_map(x):\n",
        "    return x.map({'yes': 1, 'no': 0})\n",
        "\n",
        "housing[varlist] = housing[varlist].apply(binary_map)\n",
        "\n",
        "housing.head()"
      ]
    },
    {
      "cell_type": "code",
      "execution_count": null,
      "id": "b77ddc39",
      "metadata": {
        "id": "b77ddc39",
        "outputId": "ed92a85f-1802-4e9b-8ab6-9e61f3c4753d"
      },
      "outputs": [
        {
          "data": {
            "text/plain": [
              "(436, 13)"
            ]
          },
          "execution_count": 4,
          "metadata": {},
          "output_type": "execute_result"
        }
      ],
      "source": [
        "# Splitting the Data into Training and Testing Sets\n",
        "from sklearn.model_selection import train_test_split\n",
        "\n",
        "# Random seed to randomize the dataset.\n",
        "np.random.seed(0)\n",
        "df_train, df_test = train_test_split(housing, train_size = 0.8, test_size = 0.2)\n",
        "df_train.shape"
      ]
    },
    {
      "cell_type": "code",
      "execution_count": null,
      "id": "e09f71a1",
      "metadata": {
        "id": "e09f71a1",
        "outputId": "c26e8e8e-f2c9-4114-d452-d07abe501346"
      },
      "outputs": [
        {
          "data": {
            "text/plain": [
              "(109, 13)"
            ]
          },
          "execution_count": 5,
          "metadata": {},
          "output_type": "execute_result"
        }
      ],
      "source": [
        "df_test.shape"
      ]
    },
    {
      "cell_type": "code",
      "execution_count": null,
      "id": "49f83ad4",
      "metadata": {
        "id": "49f83ad4",
        "outputId": "db0c6c23-10fc-4a9d-9e0e-3b657072289c"
      },
      "outputs": [
        {
          "data": {
            "text/html": [
              "<div>\n",
              "<style scoped>\n",
              "    .dataframe tbody tr th:only-of-type {\n",
              "        vertical-align: middle;\n",
              "    }\n",
              "\n",
              "    .dataframe tbody tr th {\n",
              "        vertical-align: top;\n",
              "    }\n",
              "\n",
              "    .dataframe thead th {\n",
              "        text-align: right;\n",
              "    }\n",
              "</style>\n",
              "<table border=\"1\" class=\"dataframe\">\n",
              "  <thead>\n",
              "    <tr style=\"text-align: right;\">\n",
              "      <th></th>\n",
              "      <th>area</th>\n",
              "      <th>bedrooms</th>\n",
              "      <th>bathrooms</th>\n",
              "      <th>stories</th>\n",
              "      <th>mainroad</th>\n",
              "      <th>guestroom</th>\n",
              "      <th>basement</th>\n",
              "      <th>hotwaterheating</th>\n",
              "      <th>airconditioning</th>\n",
              "      <th>parking</th>\n",
              "      <th>prefarea</th>\n",
              "      <th>price</th>\n",
              "    </tr>\n",
              "  </thead>\n",
              "  <tbody>\n",
              "    <tr>\n",
              "      <th>542</th>\n",
              "      <td>3620</td>\n",
              "      <td>2</td>\n",
              "      <td>1</td>\n",
              "      <td>1</td>\n",
              "      <td>1</td>\n",
              "      <td>0</td>\n",
              "      <td>0</td>\n",
              "      <td>0</td>\n",
              "      <td>0</td>\n",
              "      <td>0</td>\n",
              "      <td>0</td>\n",
              "      <td>1750000</td>\n",
              "    </tr>\n",
              "    <tr>\n",
              "      <th>496</th>\n",
              "      <td>4000</td>\n",
              "      <td>2</td>\n",
              "      <td>1</td>\n",
              "      <td>1</td>\n",
              "      <td>1</td>\n",
              "      <td>0</td>\n",
              "      <td>0</td>\n",
              "      <td>0</td>\n",
              "      <td>0</td>\n",
              "      <td>0</td>\n",
              "      <td>0</td>\n",
              "      <td>2695000</td>\n",
              "    </tr>\n",
              "    <tr>\n",
              "      <th>484</th>\n",
              "      <td>3040</td>\n",
              "      <td>2</td>\n",
              "      <td>1</td>\n",
              "      <td>1</td>\n",
              "      <td>0</td>\n",
              "      <td>0</td>\n",
              "      <td>0</td>\n",
              "      <td>0</td>\n",
              "      <td>0</td>\n",
              "      <td>0</td>\n",
              "      <td>0</td>\n",
              "      <td>2870000</td>\n",
              "    </tr>\n",
              "    <tr>\n",
              "      <th>507</th>\n",
              "      <td>3600</td>\n",
              "      <td>2</td>\n",
              "      <td>1</td>\n",
              "      <td>1</td>\n",
              "      <td>1</td>\n",
              "      <td>0</td>\n",
              "      <td>0</td>\n",
              "      <td>0</td>\n",
              "      <td>0</td>\n",
              "      <td>0</td>\n",
              "      <td>0</td>\n",
              "      <td>2590000</td>\n",
              "    </tr>\n",
              "    <tr>\n",
              "      <th>252</th>\n",
              "      <td>9860</td>\n",
              "      <td>3</td>\n",
              "      <td>1</td>\n",
              "      <td>1</td>\n",
              "      <td>1</td>\n",
              "      <td>0</td>\n",
              "      <td>0</td>\n",
              "      <td>0</td>\n",
              "      <td>0</td>\n",
              "      <td>0</td>\n",
              "      <td>0</td>\n",
              "      <td>4515000</td>\n",
              "    </tr>\n",
              "  </tbody>\n",
              "</table>\n",
              "</div>"
            ],
            "text/plain": [
              "     area  bedrooms  bathrooms  stories  mainroad  guestroom  basement  \\\n",
              "542  3620         2          1        1         1          0         0   \n",
              "496  4000         2          1        1         1          0         0   \n",
              "484  3040         2          1        1         0          0         0   \n",
              "507  3600         2          1        1         1          0         0   \n",
              "252  9860         3          1        1         1          0         0   \n",
              "\n",
              "     hotwaterheating  airconditioning  parking  prefarea    price  \n",
              "542                0                0        0         0  1750000  \n",
              "496                0                0        0         0  2695000  \n",
              "484                0                0        0         0  2870000  \n",
              "507                0                0        0         0  2590000  \n",
              "252                0                0        0         0  4515000  "
            ]
          },
          "execution_count": 6,
          "metadata": {},
          "output_type": "execute_result"
        }
      ],
      "source": [
        "num_vars = ['area', 'bedrooms', 'bathrooms', 'stories', 'mainroad', 'guestroom', 'basement', 'hotwaterheating', 'airconditioning', 'parking', 'prefarea', 'price']\n",
        "df_threeBtrain = df_train[num_vars]\n",
        "df_threeBtest = df_test[num_vars]\n",
        "df_threeBtrain.head()"
      ]
    },
    {
      "cell_type": "code",
      "execution_count": null,
      "id": "223a4139",
      "metadata": {
        "id": "223a4139",
        "outputId": "468a11f4-e526-4888-f7db-32788dbd64c6"
      },
      "outputs": [
        {
          "data": {
            "text/html": [
              "<div>\n",
              "<style scoped>\n",
              "    .dataframe tbody tr th:only-of-type {\n",
              "        vertical-align: middle;\n",
              "    }\n",
              "\n",
              "    .dataframe tbody tr th {\n",
              "        vertical-align: top;\n",
              "    }\n",
              "\n",
              "    .dataframe thead th {\n",
              "        text-align: right;\n",
              "    }\n",
              "</style>\n",
              "<table border=\"1\" class=\"dataframe\">\n",
              "  <thead>\n",
              "    <tr style=\"text-align: right;\">\n",
              "      <th></th>\n",
              "      <th>area</th>\n",
              "      <th>bedrooms</th>\n",
              "      <th>bathrooms</th>\n",
              "      <th>stories</th>\n",
              "      <th>mainroad</th>\n",
              "      <th>guestroom</th>\n",
              "      <th>basement</th>\n",
              "      <th>hotwaterheating</th>\n",
              "      <th>airconditioning</th>\n",
              "      <th>parking</th>\n",
              "      <th>prefarea</th>\n",
              "      <th>price</th>\n",
              "    </tr>\n",
              "  </thead>\n",
              "  <tbody>\n",
              "    <tr>\n",
              "      <th>542</th>\n",
              "      <td>0.124199</td>\n",
              "      <td>0.2</td>\n",
              "      <td>0.0</td>\n",
              "      <td>0.0</td>\n",
              "      <td>1.0</td>\n",
              "      <td>0.0</td>\n",
              "      <td>0.0</td>\n",
              "      <td>0.0</td>\n",
              "      <td>0.0</td>\n",
              "      <td>0.0</td>\n",
              "      <td>0.0</td>\n",
              "      <td>0.000000</td>\n",
              "    </tr>\n",
              "    <tr>\n",
              "      <th>496</th>\n",
              "      <td>0.150654</td>\n",
              "      <td>0.2</td>\n",
              "      <td>0.0</td>\n",
              "      <td>0.0</td>\n",
              "      <td>1.0</td>\n",
              "      <td>0.0</td>\n",
              "      <td>0.0</td>\n",
              "      <td>0.0</td>\n",
              "      <td>0.0</td>\n",
              "      <td>0.0</td>\n",
              "      <td>0.0</td>\n",
              "      <td>0.081818</td>\n",
              "    </tr>\n",
              "    <tr>\n",
              "      <th>484</th>\n",
              "      <td>0.083821</td>\n",
              "      <td>0.2</td>\n",
              "      <td>0.0</td>\n",
              "      <td>0.0</td>\n",
              "      <td>0.0</td>\n",
              "      <td>0.0</td>\n",
              "      <td>0.0</td>\n",
              "      <td>0.0</td>\n",
              "      <td>0.0</td>\n",
              "      <td>0.0</td>\n",
              "      <td>0.0</td>\n",
              "      <td>0.096970</td>\n",
              "    </tr>\n",
              "    <tr>\n",
              "      <th>507</th>\n",
              "      <td>0.122807</td>\n",
              "      <td>0.2</td>\n",
              "      <td>0.0</td>\n",
              "      <td>0.0</td>\n",
              "      <td>1.0</td>\n",
              "      <td>0.0</td>\n",
              "      <td>0.0</td>\n",
              "      <td>0.0</td>\n",
              "      <td>0.0</td>\n",
              "      <td>0.0</td>\n",
              "      <td>0.0</td>\n",
              "      <td>0.072727</td>\n",
              "    </tr>\n",
              "    <tr>\n",
              "      <th>252</th>\n",
              "      <td>0.558619</td>\n",
              "      <td>0.4</td>\n",
              "      <td>0.0</td>\n",
              "      <td>0.0</td>\n",
              "      <td>1.0</td>\n",
              "      <td>0.0</td>\n",
              "      <td>0.0</td>\n",
              "      <td>0.0</td>\n",
              "      <td>0.0</td>\n",
              "      <td>0.0</td>\n",
              "      <td>0.0</td>\n",
              "      <td>0.239394</td>\n",
              "    </tr>\n",
              "  </tbody>\n",
              "</table>\n",
              "</div>"
            ],
            "text/plain": [
              "         area  bedrooms  bathrooms  stories  mainroad  guestroom  basement  \\\n",
              "542  0.124199       0.2        0.0      0.0       1.0        0.0       0.0   \n",
              "496  0.150654       0.2        0.0      0.0       1.0        0.0       0.0   \n",
              "484  0.083821       0.2        0.0      0.0       0.0        0.0       0.0   \n",
              "507  0.122807       0.2        0.0      0.0       1.0        0.0       0.0   \n",
              "252  0.558619       0.4        0.0      0.0       1.0        0.0       0.0   \n",
              "\n",
              "     hotwaterheating  airconditioning  parking  prefarea     price  \n",
              "542              0.0              0.0      0.0       0.0  0.000000  \n",
              "496              0.0              0.0      0.0       0.0  0.081818  \n",
              "484              0.0              0.0      0.0       0.0  0.096970  \n",
              "507              0.0              0.0      0.0       0.0  0.072727  \n",
              "252              0.0              0.0      0.0       0.0  0.239394  "
            ]
          },
          "execution_count": 7,
          "metadata": {},
          "output_type": "execute_result"
        }
      ],
      "source": [
        "# Many columns contains small integer values excluding areas. Needs to rescale the variables.\n",
        "# Advised to use starndarization or normalization, so the coefficients is comparable. \n",
        "\n",
        "# Two ways of rescaling:\n",
        "# 1.) Min-Max Scaling\n",
        "# 2.) Standardization (For this code.)\n",
        "\n",
        "import warnings\n",
        "warnings.filterwarnings('ignore')\n",
        "\n",
        "from sklearn.preprocessing import MinMaxScaler, StandardScaler\n",
        "scaler = MinMaxScaler()\n",
        "df_threeBtrain[num_vars] = scaler.fit_transform(df_threeBtrain[num_vars])\n",
        "df_threeBtrain.head()"
      ]
    },
    {
      "cell_type": "code",
      "execution_count": null,
      "id": "243469fe",
      "metadata": {
        "id": "243469fe",
        "outputId": "fcee61a5-14dd-48d7-8442-df5ae33b7d89"
      },
      "outputs": [
        {
          "name": "stdout",
          "output_type": "stream",
          "text": [
            "[[0.12419939 0.2        0.         0.         1.         0.\n",
            "  0.         0.         0.         0.         0.         0.        ]\n",
            " [0.15065441 0.2        0.         0.         1.         0.\n",
            "  0.         0.         0.         0.         0.         0.08181818]\n",
            " [0.08382066 0.2        0.         0.         0.         0.\n",
            "  0.         0.         0.         0.         0.         0.0969697 ]\n",
            " [0.12280702 0.2        0.         0.         1.         0.\n",
            "  0.         0.         0.         0.         0.         0.07272727]\n",
            " [0.55861877 0.4        0.         0.         1.         0.\n",
            "  0.         0.         0.         0.         0.         0.23939394]\n",
            " [0.14842662 0.4        0.         0.33333333 0.         0.\n",
            "  0.         0.         0.         0.         0.         0.23030303]\n",
            " [0.13951546 0.4        0.         0.33333333 1.         0.\n",
            "  0.         0.         0.         0.33333333 1.         0.24545455]\n",
            " [0.55444166 0.6        0.5        0.33333333 1.         1.\n",
            "  0.         0.         0.         0.66666667 0.         0.3030303 ]\n",
            " [0.12559176 0.2        0.         0.         1.         0.\n",
            "  0.         0.         0.         0.         0.         0.15757576]\n",
            " [0.11723754 0.2        0.5        0.         1.         0.\n",
            "  1.         0.         0.         0.         0.         0.16363636]\n",
            " [0.79114453 0.4        0.         0.33333333 1.         0.\n",
            "  1.         0.         1.         0.66666667 1.         0.6969697 ]\n",
            " [0.06015038 0.2        0.         0.         0.         0.\n",
            "  0.         0.         0.         0.         0.         0.1030303 ]\n",
            " [0.17153996 1.         0.5        0.33333333 1.         0.\n",
            "  0.         0.         0.         0.         0.         0.37515152]\n",
            " [0.18546366 0.2        0.         0.         0.         0.\n",
            "  0.         0.         0.         0.         0.         0.13030303]\n",
            " [0.21992481 0.6        0.5        0.         1.         0.\n",
            "  1.         0.         0.         0.         0.         0.27212121]\n",
            " [0.0858396  0.2        0.         0.         1.         0.\n",
            "  0.         0.         0.         0.33333333 0.         0.12121212]\n",
            " [0.17516012 0.6        0.         0.33333333 0.         0.\n",
            "  0.         0.         0.         0.33333333 0.         0.10606061]\n",
            " [0.49039265 0.4        0.5        0.33333333 1.         0.\n",
            "  1.         0.         1.         0.33333333 0.         0.44848485]\n",
            " [0.77332219 0.4        0.         0.         1.         0.\n",
            "  0.         0.         0.         0.         0.         0.15151515]\n",
            " [0.37064884 0.4        0.         0.         1.         0.\n",
            "  1.         0.         0.         0.66666667 1.         0.35757576]]\n"
          ]
        }
      ],
      "source": [
        "dataset_train = df_threeBtrain.values[:,:]\n",
        "print(dataset_train[:20,:])"
      ]
    },
    {
      "cell_type": "code",
      "execution_count": null,
      "id": "e3ed44d8",
      "metadata": {
        "id": "e3ed44d8",
        "outputId": "7e0d56b0-3b8f-4e2f-c872-d25c43561d77"
      },
      "outputs": [
        {
          "data": {
            "text/plain": [
              "(436, 436)"
            ]
          },
          "execution_count": 9,
          "metadata": {},
          "output_type": "execute_result"
        }
      ],
      "source": [
        "X_train = df_threeBtrain.values[:,0:11]\n",
        "Y_train = df_threeBtrain.values[:,11]\n",
        "len(X_train), len(Y_train)"
      ]
    },
    {
      "cell_type": "code",
      "execution_count": null,
      "id": "12fd838f",
      "metadata": {
        "id": "12fd838f",
        "outputId": "fd6c3771-5be3-4c87-83e1-454144ac2934"
      },
      "outputs": [
        {
          "name": "stdout",
          "output_type": "stream",
          "text": [
            "X = [[0.12419939 0.2        0.         0.         1.         0.\n",
            "  0.         0.         0.         0.         0.        ]\n",
            " [0.15065441 0.2        0.         0.         1.         0.\n",
            "  0.         0.         0.         0.         0.        ]\n",
            " [0.08382066 0.2        0.         0.         0.         0.\n",
            "  0.         0.         0.         0.         0.        ]\n",
            " [0.12280702 0.2        0.         0.         1.         0.\n",
            "  0.         0.         0.         0.         0.        ]\n",
            " [0.55861877 0.4        0.         0.         1.         0.\n",
            "  0.         0.         0.         0.         0.        ]]\n",
            "Y = [0.         0.08181818 0.0969697  0.07272727 0.23939394]\n"
          ]
        }
      ],
      "source": [
        "print('X =', X_train[:5])\n",
        "print('Y =', Y_train[:5])"
      ]
    },
    {
      "cell_type": "code",
      "execution_count": null,
      "id": "440f7a34",
      "metadata": {
        "id": "440f7a34",
        "outputId": "b1547f94-90f2-4d20-8baf-53aef72c0922"
      },
      "outputs": [
        {
          "name": "stdout",
          "output_type": "stream",
          "text": [
            "X_1 = [[0.12419939 0.2        0.         0.         1.         0.\n",
            "  0.         0.         0.         0.         0.        ]\n",
            " [0.15065441 0.2        0.         0.         1.         0.\n",
            "  0.         0.         0.         0.         0.        ]\n",
            " [0.08382066 0.2        0.         0.         0.         0.\n",
            "  0.         0.         0.         0.         0.        ]\n",
            " [0.12280702 0.2        0.         0.         1.         0.\n",
            "  0.         0.         0.         0.         0.        ]\n",
            " [0.55861877 0.4        0.         0.         1.         0.\n",
            "  0.         0.         0.         0.         0.        ]]\n"
          ]
        }
      ],
      "source": [
        "# Convert to 2D array (381x11)\n",
        "m = len(X_train)\n",
        "X_1 = X_train.reshape(m,11)\n",
        "print(\"X_1 =\", X_1[:5,:])"
      ]
    },
    {
      "cell_type": "code",
      "execution_count": null,
      "id": "a646bc65",
      "metadata": {
        "id": "a646bc65",
        "outputId": "42988599-074d-404c-dcc9-81f90afa2476"
      },
      "outputs": [
        {
          "data": {
            "text/plain": [
              "(array([[1.],\n",
              "        [1.],\n",
              "        [1.],\n",
              "        [1.],\n",
              "        [1.]]),\n",
              " 436)"
            ]
          },
          "execution_count": 12,
          "metadata": {},
          "output_type": "execute_result"
        }
      ],
      "source": [
        "m = len(X_train)\n",
        "X_0 = np.ones((m,1))\n",
        "X_0[:5], len(X_0)"
      ]
    },
    {
      "cell_type": "code",
      "execution_count": null,
      "id": "293b1c84",
      "metadata": {
        "id": "293b1c84",
        "outputId": "9d711811-f430-4326-d0e5-ca46934ed8bd"
      },
      "outputs": [
        {
          "data": {
            "text/plain": [
              "array([[1.        , 0.12419939, 0.2       , 0.        , 0.        ,\n",
              "        1.        , 0.        , 0.        , 0.        , 0.        ,\n",
              "        0.        , 0.        ],\n",
              "       [1.        , 0.15065441, 0.2       , 0.        , 0.        ,\n",
              "        1.        , 0.        , 0.        , 0.        , 0.        ,\n",
              "        0.        , 0.        ],\n",
              "       [1.        , 0.08382066, 0.2       , 0.        , 0.        ,\n",
              "        0.        , 0.        , 0.        , 0.        , 0.        ,\n",
              "        0.        , 0.        ],\n",
              "       [1.        , 0.12280702, 0.2       , 0.        , 0.        ,\n",
              "        1.        , 0.        , 0.        , 0.        , 0.        ,\n",
              "        0.        , 0.        ],\n",
              "       [1.        , 0.55861877, 0.4       , 0.        , 0.        ,\n",
              "        1.        , 0.        , 0.        , 0.        , 0.        ,\n",
              "        0.        , 0.        ]])"
            ]
          },
          "execution_count": 13,
          "metadata": {},
          "output_type": "execute_result"
        }
      ],
      "source": [
        "X_train = np.hstack((X_0, X_1))\n",
        "X_train[:5]"
      ]
    },
    {
      "cell_type": "code",
      "execution_count": null,
      "id": "4eb071bf",
      "metadata": {
        "id": "4eb071bf",
        "outputId": "b62b5e00-14cf-4f44-9390-567113d4f450"
      },
      "outputs": [
        {
          "data": {
            "text/plain": [
              "array([[0.],\n",
              "       [0.],\n",
              "       [0.],\n",
              "       [0.],\n",
              "       [0.],\n",
              "       [0.],\n",
              "       [0.],\n",
              "       [0.],\n",
              "       [0.],\n",
              "       [0.],\n",
              "       [0.],\n",
              "       [0.]])"
            ]
          },
          "execution_count": 14,
          "metadata": {},
          "output_type": "execute_result"
        }
      ],
      "source": [
        "theta = np.zeros((12,1))\n",
        "theta"
      ]
    },
    {
      "cell_type": "code",
      "execution_count": null,
      "id": "821eeb1e",
      "metadata": {
        "id": "821eeb1e"
      },
      "outputs": [],
      "source": [
        "\"\"\"\n",
        "Compute loss for linear regression for one time.\n",
        "\n",
        "Input Parameters\n",
        "X : 2D array for training example\n",
        "    m = number of training examples\n",
        "    n = number of features\n",
        "Y : 1D array of label/target values. Dimension: m\n",
        "lambda_value: Regularization parameter. \n",
        "theta : 2D array of fitting parameters. Dimension: n,1\n",
        "\n",
        "Output Parameters\n",
        "J : Loss\n",
        "\"\"\"\n",
        "\n",
        "def compute_loss(X, Y, theta, lambda_value):\n",
        "    predictions = X.dot(theta) #prediction = h\n",
        "    errors = np.subtract(predictions, Y)\n",
        "    sqrErrors = np.square(errors)\n",
        "    regularization = lambda_value * np.sum(np.square(theta))\n",
        "    J = (1 / (2 * m)) * (np.sum(sqrErrors) + regularization)\n",
        "    return J"
      ]
    },
    {
      "cell_type": "code",
      "execution_count": null,
      "id": "03a29d3b",
      "metadata": {
        "id": "03a29d3b",
        "outputId": "73b13093-b446-4cf9-d602-7167b95a71e1"
      },
      "outputs": [
        {
          "name": "stdout",
          "output_type": "stream",
          "text": [
            "Cost loss for all given theta = 20.934727519081726\n"
          ]
        }
      ],
      "source": [
        "lambda_value = 10\n",
        "cost = compute_loss(X_train, Y_train, theta, lambda_value)\n",
        "print(\"Cost loss for all given theta =\", cost)"
      ]
    },
    {
      "cell_type": "code",
      "execution_count": null,
      "id": "c8f01e97",
      "metadata": {
        "id": "c8f01e97"
      },
      "outputs": [],
      "source": [
        "\"\"\"\n",
        "Compute loss for l inear regression for all iterations\n",
        "\n",
        "Input Parameters\n",
        "X: 2D array, Dimension: m x n\n",
        "    m = number of training data point\n",
        "    n = number of features\n",
        "Y: 1D array of labels/target value for each training data point. Dimension: m\n",
        "theta: 2D array of fitting parameters or weights. Dimension: (n,1)\n",
        "alpha : learning rate\n",
        "iterations: Number of iterations.\n",
        "lambda_value: Regularization parameter. \n",
        "\n",
        "Output Parameters\n",
        "theta: Final Value. 2D array of fitting parameters or weights. Dimension: n,1\n",
        "loss_history: Contains value of cost at each iteration. 1D Array. Dimension: m\n",
        "\"\"\"\n",
        "\n",
        "def gradient_descent(X, Y, theta, alpha, iterations, lambda_value):\n",
        "    loss_history = np.zeros(iterations)\n",
        "    \n",
        "    for i in range(iterations):\n",
        "        predictions = X.dot(theta) # prediction (m,1) = temp\n",
        "        errors = np.subtract(predictions, Y)\n",
        "        # Use np.multiply() to multiple scalar with the array, theta. \n",
        "        sum_delta = (alpha / m) * X.transpose().dot(errors) + np.multiply(theta,((lambda_value * alpha) / m)); \n",
        "        theta = theta - sum_delta; #theta (n,1)\n",
        "        loss_history[i] = compute_loss(X, Y, theta, lambda_value)\n",
        "    return theta, loss_history"
      ]
    },
    {
      "cell_type": "code",
      "execution_count": null,
      "id": "9b699cad",
      "metadata": {
        "id": "9b699cad"
      },
      "outputs": [],
      "source": [
        "theta = [0., 0., 0., 0., 0., 0., 0., 0., 0., 0., 0., 0.]\n",
        "lambda_value = 10\n",
        "iterations = 1500\n",
        "alpha = 0.003"
      ]
    },
    {
      "cell_type": "code",
      "execution_count": null,
      "id": "bf1f2eae",
      "metadata": {
        "id": "bf1f2eae",
        "outputId": "6d54aa15-4f71-493c-f32c-367d59ad3e1f"
      },
      "outputs": [
        {
          "name": "stdout",
          "output_type": "stream",
          "text": [
            "Final value of theta = [0.07250306 0.0501732  0.05031337 0.06423585 0.06502243 0.0726465\n",
            " 0.03808205 0.03585613 0.02009795 0.07870064 0.0546766  0.05897476]\n",
            "loss_history = [0.04741442 0.04682257 0.04623973 ... 0.00676845 0.00676782 0.00676718]\n"
          ]
        }
      ],
      "source": [
        "theta, loss_history = gradient_descent(X_train, Y_train, theta, alpha, iterations, lambda_value)\n",
        "print(\"Final value of theta =\", theta)\n",
        "print(\"loss_history =\", loss_history)"
      ]
    },
    {
      "cell_type": "code",
      "execution_count": null,
      "id": "cb25223d",
      "metadata": {
        "id": "cb25223d",
        "outputId": "96494cc8-b620-4eaa-869c-48c8ee0f12a1"
      },
      "outputs": [
        {
          "data": {
            "text/html": [
              "<div>\n",
              "<style scoped>\n",
              "    .dataframe tbody tr th:only-of-type {\n",
              "        vertical-align: middle;\n",
              "    }\n",
              "\n",
              "    .dataframe tbody tr th {\n",
              "        vertical-align: top;\n",
              "    }\n",
              "\n",
              "    .dataframe thead th {\n",
              "        text-align: right;\n",
              "    }\n",
              "</style>\n",
              "<table border=\"1\" class=\"dataframe\">\n",
              "  <thead>\n",
              "    <tr style=\"text-align: right;\">\n",
              "      <th></th>\n",
              "      <th>area</th>\n",
              "      <th>bedrooms</th>\n",
              "      <th>bathrooms</th>\n",
              "      <th>stories</th>\n",
              "      <th>mainroad</th>\n",
              "      <th>guestroom</th>\n",
              "      <th>basement</th>\n",
              "      <th>hotwaterheating</th>\n",
              "      <th>airconditioning</th>\n",
              "      <th>parking</th>\n",
              "      <th>prefarea</th>\n",
              "      <th>price</th>\n",
              "    </tr>\n",
              "  </thead>\n",
              "  <tbody>\n",
              "    <tr>\n",
              "      <th>239</th>\n",
              "      <td>4000</td>\n",
              "      <td>3</td>\n",
              "      <td>1</td>\n",
              "      <td>2</td>\n",
              "      <td>1</td>\n",
              "      <td>0</td>\n",
              "      <td>0</td>\n",
              "      <td>0</td>\n",
              "      <td>0</td>\n",
              "      <td>1</td>\n",
              "      <td>0</td>\n",
              "      <td>4585000</td>\n",
              "    </tr>\n",
              "    <tr>\n",
              "      <th>113</th>\n",
              "      <td>9620</td>\n",
              "      <td>3</td>\n",
              "      <td>1</td>\n",
              "      <td>1</td>\n",
              "      <td>1</td>\n",
              "      <td>0</td>\n",
              "      <td>1</td>\n",
              "      <td>0</td>\n",
              "      <td>0</td>\n",
              "      <td>2</td>\n",
              "      <td>1</td>\n",
              "      <td>6083000</td>\n",
              "    </tr>\n",
              "    <tr>\n",
              "      <th>325</th>\n",
              "      <td>3460</td>\n",
              "      <td>4</td>\n",
              "      <td>1</td>\n",
              "      <td>2</td>\n",
              "      <td>1</td>\n",
              "      <td>0</td>\n",
              "      <td>0</td>\n",
              "      <td>0</td>\n",
              "      <td>1</td>\n",
              "      <td>0</td>\n",
              "      <td>0</td>\n",
              "      <td>4007500</td>\n",
              "    </tr>\n",
              "    <tr>\n",
              "      <th>66</th>\n",
              "      <td>13200</td>\n",
              "      <td>2</td>\n",
              "      <td>1</td>\n",
              "      <td>1</td>\n",
              "      <td>1</td>\n",
              "      <td>0</td>\n",
              "      <td>1</td>\n",
              "      <td>1</td>\n",
              "      <td>0</td>\n",
              "      <td>1</td>\n",
              "      <td>0</td>\n",
              "      <td>6930000</td>\n",
              "    </tr>\n",
              "    <tr>\n",
              "      <th>479</th>\n",
              "      <td>3660</td>\n",
              "      <td>4</td>\n",
              "      <td>1</td>\n",
              "      <td>2</td>\n",
              "      <td>0</td>\n",
              "      <td>0</td>\n",
              "      <td>0</td>\n",
              "      <td>0</td>\n",
              "      <td>0</td>\n",
              "      <td>0</td>\n",
              "      <td>0</td>\n",
              "      <td>2940000</td>\n",
              "    </tr>\n",
              "  </tbody>\n",
              "</table>\n",
              "</div>"
            ],
            "text/plain": [
              "      area  bedrooms  bathrooms  stories  mainroad  guestroom  basement  \\\n",
              "239   4000         3          1        2         1          0         0   \n",
              "113   9620         3          1        1         1          0         1   \n",
              "325   3460         4          1        2         1          0         0   \n",
              "66   13200         2          1        1         1          0         1   \n",
              "479   3660         4          1        2         0          0         0   \n",
              "\n",
              "     hotwaterheating  airconditioning  parking  prefarea    price  \n",
              "239                0                0        1         0  4585000  \n",
              "113                0                0        2         1  6083000  \n",
              "325                0                1        0         0  4007500  \n",
              "66                 1                0        1         0  6930000  \n",
              "479                0                0        0         0  2940000  "
            ]
          },
          "execution_count": 20,
          "metadata": {},
          "output_type": "execute_result"
        }
      ],
      "source": [
        "df_threeBtest.head()"
      ]
    },
    {
      "cell_type": "code",
      "execution_count": null,
      "id": "4671e2d7",
      "metadata": {
        "id": "4671e2d7",
        "outputId": "95f6f022-6c94-4375-978e-c597f351045c"
      },
      "outputs": [
        {
          "data": {
            "text/html": [
              "<div>\n",
              "<style scoped>\n",
              "    .dataframe tbody tr th:only-of-type {\n",
              "        vertical-align: middle;\n",
              "    }\n",
              "\n",
              "    .dataframe tbody tr th {\n",
              "        vertical-align: top;\n",
              "    }\n",
              "\n",
              "    .dataframe thead th {\n",
              "        text-align: right;\n",
              "    }\n",
              "</style>\n",
              "<table border=\"1\" class=\"dataframe\">\n",
              "  <thead>\n",
              "    <tr style=\"text-align: right;\">\n",
              "      <th></th>\n",
              "      <th>area</th>\n",
              "      <th>bedrooms</th>\n",
              "      <th>bathrooms</th>\n",
              "      <th>stories</th>\n",
              "      <th>mainroad</th>\n",
              "      <th>guestroom</th>\n",
              "      <th>basement</th>\n",
              "      <th>hotwaterheating</th>\n",
              "      <th>airconditioning</th>\n",
              "      <th>parking</th>\n",
              "      <th>prefarea</th>\n",
              "      <th>price</th>\n",
              "    </tr>\n",
              "  </thead>\n",
              "  <tbody>\n",
              "    <tr>\n",
              "      <th>239</th>\n",
              "      <td>0.203463</td>\n",
              "      <td>0.50</td>\n",
              "      <td>0.0</td>\n",
              "      <td>0.333333</td>\n",
              "      <td>1.0</td>\n",
              "      <td>0.0</td>\n",
              "      <td>0.0</td>\n",
              "      <td>0.0</td>\n",
              "      <td>0.0</td>\n",
              "      <td>0.333333</td>\n",
              "      <td>0.0</td>\n",
              "      <td>0.270000</td>\n",
              "    </tr>\n",
              "    <tr>\n",
              "      <th>113</th>\n",
              "      <td>0.690043</td>\n",
              "      <td>0.50</td>\n",
              "      <td>0.0</td>\n",
              "      <td>0.000000</td>\n",
              "      <td>1.0</td>\n",
              "      <td>0.0</td>\n",
              "      <td>1.0</td>\n",
              "      <td>0.0</td>\n",
              "      <td>0.0</td>\n",
              "      <td>0.666667</td>\n",
              "      <td>1.0</td>\n",
              "      <td>0.412667</td>\n",
              "    </tr>\n",
              "    <tr>\n",
              "      <th>325</th>\n",
              "      <td>0.156710</td>\n",
              "      <td>0.75</td>\n",
              "      <td>0.0</td>\n",
              "      <td>0.333333</td>\n",
              "      <td>1.0</td>\n",
              "      <td>0.0</td>\n",
              "      <td>0.0</td>\n",
              "      <td>0.0</td>\n",
              "      <td>1.0</td>\n",
              "      <td>0.000000</td>\n",
              "      <td>0.0</td>\n",
              "      <td>0.215000</td>\n",
              "    </tr>\n",
              "    <tr>\n",
              "      <th>66</th>\n",
              "      <td>1.000000</td>\n",
              "      <td>0.25</td>\n",
              "      <td>0.0</td>\n",
              "      <td>0.000000</td>\n",
              "      <td>1.0</td>\n",
              "      <td>0.0</td>\n",
              "      <td>1.0</td>\n",
              "      <td>1.0</td>\n",
              "      <td>0.0</td>\n",
              "      <td>0.333333</td>\n",
              "      <td>0.0</td>\n",
              "      <td>0.493333</td>\n",
              "    </tr>\n",
              "    <tr>\n",
              "      <th>479</th>\n",
              "      <td>0.174026</td>\n",
              "      <td>0.75</td>\n",
              "      <td>0.0</td>\n",
              "      <td>0.333333</td>\n",
              "      <td>0.0</td>\n",
              "      <td>0.0</td>\n",
              "      <td>0.0</td>\n",
              "      <td>0.0</td>\n",
              "      <td>0.0</td>\n",
              "      <td>0.000000</td>\n",
              "      <td>0.0</td>\n",
              "      <td>0.113333</td>\n",
              "    </tr>\n",
              "  </tbody>\n",
              "</table>\n",
              "</div>"
            ],
            "text/plain": [
              "         area  bedrooms  bathrooms   stories  mainroad  guestroom  basement  \\\n",
              "239  0.203463      0.50        0.0  0.333333       1.0        0.0       0.0   \n",
              "113  0.690043      0.50        0.0  0.000000       1.0        0.0       1.0   \n",
              "325  0.156710      0.75        0.0  0.333333       1.0        0.0       0.0   \n",
              "66   1.000000      0.25        0.0  0.000000       1.0        0.0       1.0   \n",
              "479  0.174026      0.75        0.0  0.333333       0.0        0.0       0.0   \n",
              "\n",
              "     hotwaterheating  airconditioning   parking  prefarea     price  \n",
              "239              0.0              0.0  0.333333       0.0  0.270000  \n",
              "113              0.0              0.0  0.666667       1.0  0.412667  \n",
              "325              0.0              1.0  0.000000       0.0  0.215000  \n",
              "66               1.0              0.0  0.333333       0.0  0.493333  \n",
              "479              0.0              0.0  0.000000       0.0  0.113333  "
            ]
          },
          "execution_count": 21,
          "metadata": {},
          "output_type": "execute_result"
        }
      ],
      "source": [
        "# Many columns contains small integer values excluding areas. Needs to rescale the variables.\n",
        "# Advised to use starndarization or normalization, so the coefficients is comparable. \n",
        "\n",
        "# Two ways of rescaling:\n",
        "# 1.) Min-Max Scaling\n",
        "# 2.) Standardization (For this code.)\n",
        "\n",
        "import warnings\n",
        "warnings.filterwarnings('ignore')\n",
        "\n",
        "from sklearn.preprocessing import MinMaxScaler, StandardScaler\n",
        "scaler = MinMaxScaler()\n",
        "df_threeBtest[num_vars] = scaler.fit_transform(df_threeBtest[num_vars])\n",
        "df_threeBtest.head()"
      ]
    },
    {
      "cell_type": "code",
      "execution_count": null,
      "id": "c61883c8",
      "metadata": {
        "id": "c61883c8",
        "outputId": "eae3d331-d34d-4d6b-fecf-d4494bb9a161"
      },
      "outputs": [
        {
          "name": "stdout",
          "output_type": "stream",
          "text": [
            "[[0.2034632  0.5        0.         0.33333333 1.         0.\n",
            "  0.         0.         0.         0.33333333 0.         0.27      ]\n",
            " [0.69004329 0.5        0.         0.         1.         0.\n",
            "  1.         0.         0.         0.66666667 1.         0.41266667]\n",
            " [0.15670996 0.75       0.         0.33333333 1.         0.\n",
            "  0.         0.         1.         0.         0.         0.215     ]\n",
            " [1.         0.25       0.         0.         1.         0.\n",
            "  1.         1.         0.         0.33333333 0.         0.49333333]\n",
            " [0.17402597 0.75       0.         0.33333333 0.         0.\n",
            "  0.         0.         0.         0.         0.         0.11333333]\n",
            " [0.40692641 0.5        0.33333333 0.66666667 1.         1.\n",
            "  0.         0.         1.         0.         0.         0.42333333]\n",
            " [0.19047619 0.5        0.         0.         1.         0.\n",
            "  0.         0.         0.         0.66666667 0.         0.17      ]\n",
            " [0.15844156 0.5        0.         0.33333333 0.         0.\n",
            "  0.         0.         0.         0.33333333 0.         0.11333333]\n",
            " [0.16121212 0.25       0.         0.         1.         0.\n",
            "  0.         0.         0.         0.33333333 1.         0.16666667]\n",
            " [0.63636364 0.75       0.33333333 1.         1.         0.\n",
            "  0.         0.         1.         0.66666667 0.         0.59333333]\n",
            " [0.37662338 0.75       0.33333333 1.         1.         0.\n",
            "  0.         0.         1.         0.         0.         0.47666667]\n",
            " [0.2        0.5        0.         0.33333333 1.         0.\n",
            "  0.         0.         0.         0.         0.         0.21333333]\n",
            " [0.15584416 0.5        0.         0.33333333 1.         0.\n",
            "  1.         0.         0.         0.         0.         0.13333333]\n",
            " [0.38181818 0.5        0.         0.         1.         1.\n",
            "  1.         0.         0.         0.         0.         0.14666667]\n",
            " [0.37532468 0.5        0.         0.         1.         0.\n",
            "  1.         0.         0.         0.         0.         0.22666667]\n",
            " [0.06753247 0.5        0.         0.         0.         0.\n",
            "  0.         0.         0.         0.         0.         0.08666667]\n",
            " [0.28138528 0.25       0.         0.33333333 1.         0.\n",
            "  1.         0.         0.         0.         0.         0.25333333]\n",
            " [0.37835498 0.5        0.         0.         1.         0.\n",
            "  0.         0.         0.         0.         0.         0.18666667]\n",
            " [0.12554113 0.5        0.         0.33333333 0.         0.\n",
            "  1.         0.         0.         0.         0.         0.15333333]\n",
            " [0.24675325 0.25       0.         0.         1.         0.\n",
            "  0.         0.         1.         0.66666667 0.         0.24      ]]\n"
          ]
        }
      ],
      "source": [
        "dataset_test = df_threeBtest.values[:,:]\n",
        "print(dataset_test[:20,:])"
      ]
    },
    {
      "cell_type": "code",
      "execution_count": null,
      "id": "0635b30c",
      "metadata": {
        "id": "0635b30c",
        "outputId": "96badd75-7017-4401-b8b2-e6b9364d84e9"
      },
      "outputs": [
        {
          "data": {
            "text/plain": [
              "(109, 109)"
            ]
          },
          "execution_count": 23,
          "metadata": {},
          "output_type": "execute_result"
        }
      ],
      "source": [
        "X_test = df_threeBtest.values[:,0:11]\n",
        "Y_test = df_threeBtest.values[:,11]\n",
        "len(X_test), len(Y_test)"
      ]
    },
    {
      "cell_type": "code",
      "execution_count": null,
      "id": "705d3b42",
      "metadata": {
        "id": "705d3b42",
        "outputId": "b8660239-a272-4d36-89c5-11392eba70ec"
      },
      "outputs": [
        {
          "name": "stdout",
          "output_type": "stream",
          "text": [
            "X = [[0.2034632  0.5        0.         0.33333333 1.         0.\n",
            "  0.         0.         0.         0.33333333 0.        ]\n",
            " [0.69004329 0.5        0.         0.         1.         0.\n",
            "  1.         0.         0.         0.66666667 1.        ]\n",
            " [0.15670996 0.75       0.         0.33333333 1.         0.\n",
            "  0.         0.         1.         0.         0.        ]\n",
            " [1.         0.25       0.         0.         1.         0.\n",
            "  1.         1.         0.         0.33333333 0.        ]\n",
            " [0.17402597 0.75       0.         0.33333333 0.         0.\n",
            "  0.         0.         0.         0.         0.        ]]\n",
            "Y = [0.27       0.41266667 0.215      0.49333333 0.11333333]\n"
          ]
        }
      ],
      "source": [
        "print('X =', X_test[:5])\n",
        "print('Y =', Y_test[:5])"
      ]
    },
    {
      "cell_type": "code",
      "execution_count": null,
      "id": "970a3401",
      "metadata": {
        "id": "970a3401",
        "outputId": "4d10d4a5-b41a-429a-ceea-1dd0a7ff0dc2"
      },
      "outputs": [
        {
          "name": "stdout",
          "output_type": "stream",
          "text": [
            "X_1 = [[0.2034632  0.5        0.         0.33333333 1.         0.\n",
            "  0.         0.         0.         0.33333333 0.        ]\n",
            " [0.69004329 0.5        0.         0.         1.         0.\n",
            "  1.         0.         0.         0.66666667 1.        ]\n",
            " [0.15670996 0.75       0.         0.33333333 1.         0.\n",
            "  0.         0.         1.         0.         0.        ]\n",
            " [1.         0.25       0.         0.         1.         0.\n",
            "  1.         1.         0.         0.33333333 0.        ]\n",
            " [0.17402597 0.75       0.         0.33333333 0.         0.\n",
            "  0.         0.         0.         0.         0.        ]]\n"
          ]
        }
      ],
      "source": [
        "# Convert to 2D array (164x11)\n",
        "m = len(X_test)\n",
        "X_1 = X_test.reshape(m,11)\n",
        "print(\"X_1 =\", X_1[:5,:])"
      ]
    },
    {
      "cell_type": "code",
      "execution_count": null,
      "id": "7476db88",
      "metadata": {
        "id": "7476db88",
        "outputId": "8a5da6c6-2c49-43ad-dff7-ab2f3141c999"
      },
      "outputs": [
        {
          "data": {
            "text/plain": [
              "(array([[1.],\n",
              "        [1.],\n",
              "        [1.],\n",
              "        [1.],\n",
              "        [1.]]),\n",
              " 109)"
            ]
          },
          "execution_count": 26,
          "metadata": {},
          "output_type": "execute_result"
        }
      ],
      "source": [
        "# Create theta zero.\n",
        "m = len(X_test)\n",
        "X_0 = np.ones((m,1))\n",
        "X_0[:5], len(X_0)"
      ]
    },
    {
      "cell_type": "code",
      "execution_count": null,
      "id": "a100a2cf",
      "metadata": {
        "id": "a100a2cf",
        "outputId": "d37a2d46-5b18-4a4c-8f88-fdc0f7a30bd4"
      },
      "outputs": [
        {
          "data": {
            "text/plain": [
              "array([[1.        , 0.2034632 , 0.5       , 0.        , 0.33333333,\n",
              "        1.        , 0.        , 0.        , 0.        , 0.        ,\n",
              "        0.33333333, 0.        ],\n",
              "       [1.        , 0.69004329, 0.5       , 0.        , 0.        ,\n",
              "        1.        , 0.        , 1.        , 0.        , 0.        ,\n",
              "        0.66666667, 1.        ],\n",
              "       [1.        , 0.15670996, 0.75      , 0.        , 0.33333333,\n",
              "        1.        , 0.        , 0.        , 0.        , 1.        ,\n",
              "        0.        , 0.        ],\n",
              "       [1.        , 1.        , 0.25      , 0.        , 0.        ,\n",
              "        1.        , 0.        , 1.        , 1.        , 0.        ,\n",
              "        0.33333333, 0.        ],\n",
              "       [1.        , 0.17402597, 0.75      , 0.        , 0.33333333,\n",
              "        0.        , 0.        , 0.        , 0.        , 0.        ,\n",
              "        0.        , 0.        ]])"
            ]
          },
          "execution_count": 27,
          "metadata": {},
          "output_type": "execute_result"
        }
      ],
      "source": [
        "X_test = np.hstack((X_0, X_1))\n",
        "X_test[:5]"
      ]
    },
    {
      "cell_type": "code",
      "execution_count": null,
      "id": "3462f074",
      "metadata": {
        "id": "3462f074",
        "outputId": "273ab085-835c-4526-8d57-133bffa1616b"
      },
      "outputs": [
        {
          "data": {
            "text/plain": [
              "array([[0.],\n",
              "       [0.],\n",
              "       [0.],\n",
              "       [0.],\n",
              "       [0.],\n",
              "       [0.],\n",
              "       [0.],\n",
              "       [0.],\n",
              "       [0.],\n",
              "       [0.],\n",
              "       [0.],\n",
              "       [0.]])"
            ]
          },
          "execution_count": 28,
          "metadata": {},
          "output_type": "execute_result"
        }
      ],
      "source": [
        "theta_test = np.zeros((12,1))\n",
        "theta_test"
      ]
    },
    {
      "cell_type": "code",
      "execution_count": null,
      "id": "d6384cf8",
      "metadata": {
        "id": "d6384cf8"
      },
      "outputs": [],
      "source": [
        "\"\"\"\n",
        "Compute loss for linear regression for one time.\n",
        "\n",
        "Input Parameters\n",
        "X : 2D array for training example\n",
        "    m = number of training examples\n",
        "    n = number of features\n",
        "Y : 1D array of label/target values. Dimension: m\n",
        "\n",
        "theta : 2D array of fitting parameters. Dimension: n,1\n",
        "\n",
        "Output Parameters\n",
        "J : Loss\n",
        "\"\"\"\n",
        "\n",
        "def compute_loss_noreg(X, Y, theta):\n",
        "    predictions = X.dot(theta) #prediction = h\n",
        "    errors = np.subtract(predictions, Y)\n",
        "    sqrErrors = np.square(errors)\n",
        "    J = 1 / (2 * m) * np.sum(sqrErrors)\n",
        "    return J"
      ]
    },
    {
      "cell_type": "code",
      "execution_count": null,
      "id": "b27e49ea",
      "metadata": {
        "id": "b27e49ea",
        "outputId": "e1de957a-9447-4ccb-c367-9f5bfd948517"
      },
      "outputs": [
        {
          "name": "stdout",
          "output_type": "stream",
          "text": [
            "Cost loss for all given theta = 5.79399238888889\n"
          ]
        }
      ],
      "source": [
        "cost_test = compute_loss_noreg(X_test, Y_test, theta_test)\n",
        "print(\"Cost loss for all given theta =\", cost_test)"
      ]
    },
    {
      "cell_type": "code",
      "execution_count": null,
      "id": "3861cf4b",
      "metadata": {
        "id": "3861cf4b"
      },
      "outputs": [],
      "source": [
        "\"\"\"\n",
        "Compute loss for l inear regression for all iterations\n",
        "\n",
        "Input Parameters\n",
        "X: 2D array, Dimension: m x n\n",
        "    m = number of training data point\n",
        "    n = number of features\n",
        "Y: 1D array of labels/target value for each training data point. Dimension: m\n",
        "theta: 2D array of fitting parameters or weights. Dimension: (n,1)\n",
        "alpha : learning rate\n",
        "iterations: Number of iterations.\n",
        "\n",
        "Output Parameters\n",
        "theta: Final Value. 2D array of fitting parameters or weights. Dimension: n,1\n",
        "loss_history: Contains value of cost at each iteration. 1D Array. Dimension: m\n",
        "\"\"\"\n",
        "\n",
        "def gradient_descent_noreg(X, Y, theta, alpha, iterations):\n",
        "    loss_history = np.zeros(iterations)\n",
        "    \n",
        "    for i in range(iterations):\n",
        "        predictions = X.dot(theta) # prediction (m,1) = temp\n",
        "        errors = np.subtract(predictions, Y)\n",
        "        sum_delta = (alpha / m) * X.transpose().dot(errors);\n",
        "        theta = theta - sum_delta; # theta (n,1)\n",
        "        loss_history[i] = compute_loss_noreg(X, Y, theta)\n",
        "    return theta, loss_history"
      ]
    },
    {
      "cell_type": "code",
      "execution_count": null,
      "id": "c5f4f7a4",
      "metadata": {
        "id": "c5f4f7a4"
      },
      "outputs": [],
      "source": [
        "theta_test = [0., 0., 0., 0., 0., 0., 0., 0., 0., 0., 0., 0.]\n",
        "iterations = 1500\n",
        "alpha = 0.003"
      ]
    },
    {
      "cell_type": "code",
      "execution_count": null,
      "id": "d8ef82f8",
      "metadata": {
        "id": "d8ef82f8",
        "outputId": "9a2711d9-be0f-4817-8955-13ac78f8f7af"
      },
      "outputs": [
        {
          "name": "stdout",
          "output_type": "stream",
          "text": [
            "Final value of theta = [0.08068021 0.07227611 0.06077027 0.06066932 0.07529487 0.08690136\n",
            " 0.0128184  0.02678734 0.00876003 0.0921445  0.06943986 0.01541427]\n",
            "loss_history = [0.05245705 0.05176907 0.05109178 ... 0.00566679 0.00566585 0.0056649 ]\n"
          ]
        }
      ],
      "source": [
        "theta_test, loss_history_test = gradient_descent_noreg(X_test, Y_test, theta_test, alpha, iterations)\n",
        "print(\"Final value of theta =\", theta_test)\n",
        "print(\"loss_history =\", loss_history_test)"
      ]
    },
    {
      "cell_type": "code",
      "execution_count": null,
      "id": "0ca2f1ee",
      "metadata": {
        "id": "0ca2f1ee",
        "outputId": "9370ffc9-12e0-4249-98d3-472372eae808"
      },
      "outputs": [
        {
          "data": {
            "text/plain": [
              "Text(0.5, 1.0, 'Convergence of gradient descent')"
            ]
          },
          "execution_count": 35,
          "metadata": {},
          "output_type": "execute_result"
        },
        {
          "data": {
            "image/png": "[encoded data removed]",
            "text/plain": [
              "<Figure size 864x576 with 1 Axes>"
            ]
          },
          "metadata": {
            "needs_background": "light"
          },
          "output_type": "display_data"
        }
      ],
      "source": [
        "plt.plot(range(1, iterations + 1), loss_history, color = 'black')\n",
        "plt.plot(range(1, iterations + 1), loss_history_test, color = 'blue')\n",
        "plt.rcParams[\"figure.figsize\"] = [12,8]\n",
        "plt.grid()\n",
        "plt.legend(['Training Sets', 'Validation Sets'])\n",
        "plt.xlabel(\"Numbers of iterations\")\n",
        "plt.ylabel(\"Loss (J)\")\n",
        "plt.title(\"Convergence of gradient descent\")"
      ]
    },
    {
      "cell_type": "code",
      "execution_count": null,
      "id": "12342df7",
      "metadata": {
        "id": "12342df7"
      },
      "outputs": [],
      "source": []
    }
  ],
  "metadata": {
    "kernelspec": {
      "display_name": "Python 3 (ipykernel)",
      "language": "python",
      "name": "python3"
    },
    "language_info": {
      "codemirror_mode": {
        "name": "ipython",
        "version": 3
      },
      "file_extension": ".py",
      "mimetype": "text/x-python",
      "name": "python",
      "nbconvert_exporter": "python",
      "pygments_lexer": "ipython3",
      "version": "3.9.12"
    },
    "colab": {
      "provenance": []
    }
  },
  "nbformat": 4,
  "nbformat_minor": 5
}