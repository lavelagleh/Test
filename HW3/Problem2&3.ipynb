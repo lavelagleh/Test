{
  "cells": [
    {
      "cell_type": "code",
      "execution_count": null,
      "id": "c1cc3036",
      "metadata": {
        "id": "c1cc3036"
      },
      "outputs": [],
      "source": [
        "import numpy as np\n",
        "import matplotlib.pyplot as plt\n",
        "import pandas as pd\n",
        "from sklearn.model_selection import train_test_split\n",
        "from sklearn.model_selection import cross_val_score\n",
        "from sklearn.linear_model import LogisticRegression\n",
        "from sklearn import datasets\n",
        "from sklearn import metrics\n",
        "from sklearn.metrics import confusion_matrix\n",
        "from sklearn.metrics import classification_report\n",
        "from sklearn.naive_bayes import GaussianNB\n",
        "from sklearn.decomposition import PCA\n",
        "import seaborn as sns\n",
        "from sklearn.datasets import load_breast_cancer\n",
        "from sklearn.preprocessing import StandardScaler, MinMaxScaler"
      ]
    },
    {
      "cell_type": "code",
      "execution_count": null,
      "id": "431f7e39",
      "metadata": {
        "id": "431f7e39",
        "outputId": "199ec62f-ed22-4825-d45d-a829a95c0a81"
      },
      "outputs": [
        {
          "data": {
            "text/plain": [
              "(569, 30)"
            ]
          },
          "execution_count": 53,
          "metadata": {},
          "output_type": "execute_result"
        }
      ],
      "source": [
        "breast = load_breast_cancer()\n",
        "breast_data = breast.data\n",
        "breast_data.shape"
      ]
    },
    {
      "cell_type": "code",
      "execution_count": null,
      "id": "4cf7308b",
      "metadata": {
        "id": "4cf7308b",
        "outputId": "c76793c6-1dab-4d28-a94d-6fac496510d2"
      },
      "outputs": [
        {
          "data": {
            "text/html": [
              "<div>\n",
              "<style scoped>\n",
              "    .dataframe tbody tr th:only-of-type {\n",
              "        vertical-align: middle;\n",
              "    }\n",
              "\n",
              "    .dataframe tbody tr th {\n",
              "        vertical-align: top;\n",
              "    }\n",
              "\n",
              "    .dataframe thead th {\n",
              "        text-align: right;\n",
              "    }\n",
              "</style>\n",
              "<table border=\"1\" class=\"dataframe\">\n",
              "  <thead>\n",
              "    <tr style=\"text-align: right;\">\n",
              "      <th></th>\n",
              "      <th>0</th>\n",
              "      <th>1</th>\n",
              "      <th>2</th>\n",
              "      <th>3</th>\n",
              "      <th>4</th>\n",
              "      <th>5</th>\n",
              "      <th>6</th>\n",
              "      <th>7</th>\n",
              "      <th>8</th>\n",
              "      <th>9</th>\n",
              "      <th>...</th>\n",
              "      <th>20</th>\n",
              "      <th>21</th>\n",
              "      <th>22</th>\n",
              "      <th>23</th>\n",
              "      <th>24</th>\n",
              "      <th>25</th>\n",
              "      <th>26</th>\n",
              "      <th>27</th>\n",
              "      <th>28</th>\n",
              "      <th>29</th>\n",
              "    </tr>\n",
              "  </thead>\n",
              "  <tbody>\n",
              "    <tr>\n",
              "      <th>0</th>\n",
              "      <td>17.99</td>\n",
              "      <td>10.38</td>\n",
              "      <td>122.80</td>\n",
              "      <td>1001.0</td>\n",
              "      <td>0.11840</td>\n",
              "      <td>0.27760</td>\n",
              "      <td>0.3001</td>\n",
              "      <td>0.14710</td>\n",
              "      <td>0.2419</td>\n",
              "      <td>0.07871</td>\n",
              "      <td>...</td>\n",
              "      <td>25.38</td>\n",
              "      <td>17.33</td>\n",
              "      <td>184.60</td>\n",
              "      <td>2019.0</td>\n",
              "      <td>0.1622</td>\n",
              "      <td>0.6656</td>\n",
              "      <td>0.7119</td>\n",
              "      <td>0.2654</td>\n",
              "      <td>0.4601</td>\n",
              "      <td>0.11890</td>\n",
              "    </tr>\n",
              "    <tr>\n",
              "      <th>1</th>\n",
              "      <td>20.57</td>\n",
              "      <td>17.77</td>\n",
              "      <td>132.90</td>\n",
              "      <td>1326.0</td>\n",
              "      <td>0.08474</td>\n",
              "      <td>0.07864</td>\n",
              "      <td>0.0869</td>\n",
              "      <td>0.07017</td>\n",
              "      <td>0.1812</td>\n",
              "      <td>0.05667</td>\n",
              "      <td>...</td>\n",
              "      <td>24.99</td>\n",
              "      <td>23.41</td>\n",
              "      <td>158.80</td>\n",
              "      <td>1956.0</td>\n",
              "      <td>0.1238</td>\n",
              "      <td>0.1866</td>\n",
              "      <td>0.2416</td>\n",
              "      <td>0.1860</td>\n",
              "      <td>0.2750</td>\n",
              "      <td>0.08902</td>\n",
              "    </tr>\n",
              "    <tr>\n",
              "      <th>2</th>\n",
              "      <td>19.69</td>\n",
              "      <td>21.25</td>\n",
              "      <td>130.00</td>\n",
              "      <td>1203.0</td>\n",
              "      <td>0.10960</td>\n",
              "      <td>0.15990</td>\n",
              "      <td>0.1974</td>\n",
              "      <td>0.12790</td>\n",
              "      <td>0.2069</td>\n",
              "      <td>0.05999</td>\n",
              "      <td>...</td>\n",
              "      <td>23.57</td>\n",
              "      <td>25.53</td>\n",
              "      <td>152.50</td>\n",
              "      <td>1709.0</td>\n",
              "      <td>0.1444</td>\n",
              "      <td>0.4245</td>\n",
              "      <td>0.4504</td>\n",
              "      <td>0.2430</td>\n",
              "      <td>0.3613</td>\n",
              "      <td>0.08758</td>\n",
              "    </tr>\n",
              "    <tr>\n",
              "      <th>3</th>\n",
              "      <td>11.42</td>\n",
              "      <td>20.38</td>\n",
              "      <td>77.58</td>\n",
              "      <td>386.1</td>\n",
              "      <td>0.14250</td>\n",
              "      <td>0.28390</td>\n",
              "      <td>0.2414</td>\n",
              "      <td>0.10520</td>\n",
              "      <td>0.2597</td>\n",
              "      <td>0.09744</td>\n",
              "      <td>...</td>\n",
              "      <td>14.91</td>\n",
              "      <td>26.50</td>\n",
              "      <td>98.87</td>\n",
              "      <td>567.7</td>\n",
              "      <td>0.2098</td>\n",
              "      <td>0.8663</td>\n",
              "      <td>0.6869</td>\n",
              "      <td>0.2575</td>\n",
              "      <td>0.6638</td>\n",
              "      <td>0.17300</td>\n",
              "    </tr>\n",
              "    <tr>\n",
              "      <th>4</th>\n",
              "      <td>20.29</td>\n",
              "      <td>14.34</td>\n",
              "      <td>135.10</td>\n",
              "      <td>1297.0</td>\n",
              "      <td>0.10030</td>\n",
              "      <td>0.13280</td>\n",
              "      <td>0.1980</td>\n",
              "      <td>0.10430</td>\n",
              "      <td>0.1809</td>\n",
              "      <td>0.05883</td>\n",
              "      <td>...</td>\n",
              "      <td>22.54</td>\n",
              "      <td>16.67</td>\n",
              "      <td>152.20</td>\n",
              "      <td>1575.0</td>\n",
              "      <td>0.1374</td>\n",
              "      <td>0.2050</td>\n",
              "      <td>0.4000</td>\n",
              "      <td>0.1625</td>\n",
              "      <td>0.2364</td>\n",
              "      <td>0.07678</td>\n",
              "    </tr>\n",
              "  </tbody>\n",
              "</table>\n",
              "<p>5 rows × 30 columns</p>\n",
              "</div>"
            ],
            "text/plain": [
              "      0      1       2       3        4        5       6        7       8   \\\n",
              "0  17.99  10.38  122.80  1001.0  0.11840  0.27760  0.3001  0.14710  0.2419   \n",
              "1  20.57  17.77  132.90  1326.0  0.08474  0.07864  0.0869  0.07017  0.1812   \n",
              "2  19.69  21.25  130.00  1203.0  0.10960  0.15990  0.1974  0.12790  0.2069   \n",
              "3  11.42  20.38   77.58   386.1  0.14250  0.28390  0.2414  0.10520  0.2597   \n",
              "4  20.29  14.34  135.10  1297.0  0.10030  0.13280  0.1980  0.10430  0.1809   \n",
              "\n",
              "        9   ...     20     21      22      23      24      25      26      27  \\\n",
              "0  0.07871  ...  25.38  17.33  184.60  2019.0  0.1622  0.6656  0.7119  0.2654   \n",
              "1  0.05667  ...  24.99  23.41  158.80  1956.0  0.1238  0.1866  0.2416  0.1860   \n",
              "2  0.05999  ...  23.57  25.53  152.50  1709.0  0.1444  0.4245  0.4504  0.2430   \n",
              "3  0.09744  ...  14.91  26.50   98.87   567.7  0.2098  0.8663  0.6869  0.2575   \n",
              "4  0.05883  ...  22.54  16.67  152.20  1575.0  0.1374  0.2050  0.4000  0.1625   \n",
              "\n",
              "       28       29  \n",
              "0  0.4601  0.11890  \n",
              "1  0.2750  0.08902  \n",
              "2  0.3613  0.08758  \n",
              "3  0.6638  0.17300  \n",
              "4  0.2364  0.07678  \n",
              "\n",
              "[5 rows x 30 columns]"
            ]
          },
          "execution_count": 54,
          "metadata": {},
          "output_type": "execute_result"
        }
      ],
      "source": [
        "breast_input = pd.DataFrame(breast_data)\n",
        "breast_input.head()"
      ]
    },
    {
      "cell_type": "code",
      "execution_count": null,
      "id": "332cbf1a",
      "metadata": {
        "id": "332cbf1a",
        "outputId": "6f0bd8ec-d06b-4dd4-f346-f1563186eba2"
      },
      "outputs": [
        {
          "data": {
            "text/plain": [
              "(569,)"
            ]
          },
          "execution_count": 55,
          "metadata": {},
          "output_type": "execute_result"
        }
      ],
      "source": [
        "breast_labels = breast.target\n",
        "breast_labels.shape"
      ]
    },
    {
      "cell_type": "code",
      "execution_count": null,
      "id": "a7c5d060",
      "metadata": {
        "id": "a7c5d060"
      },
      "outputs": [],
      "source": [
        "labels = np.reshape(breast_labels,(569,1))"
      ]
    },
    {
      "cell_type": "code",
      "execution_count": null,
      "id": "6d90e6c5",
      "metadata": {
        "id": "6d90e6c5",
        "outputId": "a490e05c-c391-49f0-ac11-b8b3da1c2df5"
      },
      "outputs": [
        {
          "data": {
            "text/plain": [
              "(569, 31)"
            ]
          },
          "execution_count": 57,
          "metadata": {},
          "output_type": "execute_result"
        }
      ],
      "source": [
        "final_breast_data = np.concatenate([breast_data,labels],axis=1)\n",
        "final_breast_data.shape"
      ]
    },
    {
      "cell_type": "code",
      "execution_count": null,
      "id": "53f34b7a",
      "metadata": {
        "id": "53f34b7a",
        "outputId": "867f3ae2-5136-4d09-df79-9ec0790b3d5b"
      },
      "outputs": [
        {
          "data": {
            "text/plain": [
              "array(['mean radius', 'mean texture', 'mean perimeter', 'mean area',\n",
              "       'mean smoothness', 'mean compactness', 'mean concavity',\n",
              "       'mean concave points', 'mean symmetry', 'mean fractal dimension',\n",
              "       'radius error', 'texture error', 'perimeter error', 'area error',\n",
              "       'smoothness error', 'compactness error', 'concavity error',\n",
              "       'concave points error', 'symmetry error',\n",
              "       'fractal dimension error', 'worst radius', 'worst texture',\n",
              "       'worst perimeter', 'worst area', 'worst smoothness',\n",
              "       'worst compactness', 'worst concavity', 'worst concave points',\n",
              "       'worst symmetry', 'worst fractal dimension'], dtype='<U23')"
            ]
          },
          "execution_count": 58,
          "metadata": {},
          "output_type": "execute_result"
        }
      ],
      "source": [
        "breast_dataset = pd.DataFrame(final_breast_data)\n",
        "features = breast.feature_names\n",
        "features"
      ]
    },
    {
      "cell_type": "code",
      "execution_count": null,
      "id": "4c22add4",
      "metadata": {
        "id": "4c22add4",
        "outputId": "bbdecebb-a33f-4c9a-d507-4b37813860a0"
      },
      "outputs": [
        {
          "data": {
            "text/html": [
              "<div>\n",
              "<style scoped>\n",
              "    .dataframe tbody tr th:only-of-type {\n",
              "        vertical-align: middle;\n",
              "    }\n",
              "\n",
              "    .dataframe tbody tr th {\n",
              "        vertical-align: top;\n",
              "    }\n",
              "\n",
              "    .dataframe thead th {\n",
              "        text-align: right;\n",
              "    }\n",
              "</style>\n",
              "<table border=\"1\" class=\"dataframe\">\n",
              "  <thead>\n",
              "    <tr style=\"text-align: right;\">\n",
              "      <th></th>\n",
              "      <th>mean radius</th>\n",
              "      <th>mean texture</th>\n",
              "      <th>mean perimeter</th>\n",
              "      <th>mean area</th>\n",
              "      <th>mean smoothness</th>\n",
              "      <th>mean compactness</th>\n",
              "      <th>mean concavity</th>\n",
              "      <th>mean concave points</th>\n",
              "      <th>mean symmetry</th>\n",
              "      <th>mean fractal dimension</th>\n",
              "      <th>...</th>\n",
              "      <th>worst texture</th>\n",
              "      <th>worst perimeter</th>\n",
              "      <th>worst area</th>\n",
              "      <th>worst smoothness</th>\n",
              "      <th>worst compactness</th>\n",
              "      <th>worst concavity</th>\n",
              "      <th>worst concave points</th>\n",
              "      <th>worst symmetry</th>\n",
              "      <th>worst fractal dimension</th>\n",
              "      <th>label</th>\n",
              "    </tr>\n",
              "  </thead>\n",
              "  <tbody>\n",
              "    <tr>\n",
              "      <th>0</th>\n",
              "      <td>17.99</td>\n",
              "      <td>10.38</td>\n",
              "      <td>122.80</td>\n",
              "      <td>1001.0</td>\n",
              "      <td>0.11840</td>\n",
              "      <td>0.27760</td>\n",
              "      <td>0.3001</td>\n",
              "      <td>0.14710</td>\n",
              "      <td>0.2419</td>\n",
              "      <td>0.07871</td>\n",
              "      <td>...</td>\n",
              "      <td>17.33</td>\n",
              "      <td>184.60</td>\n",
              "      <td>2019.0</td>\n",
              "      <td>0.1622</td>\n",
              "      <td>0.6656</td>\n",
              "      <td>0.7119</td>\n",
              "      <td>0.2654</td>\n",
              "      <td>0.4601</td>\n",
              "      <td>0.11890</td>\n",
              "      <td>0.0</td>\n",
              "    </tr>\n",
              "    <tr>\n",
              "      <th>1</th>\n",
              "      <td>20.57</td>\n",
              "      <td>17.77</td>\n",
              "      <td>132.90</td>\n",
              "      <td>1326.0</td>\n",
              "      <td>0.08474</td>\n",
              "      <td>0.07864</td>\n",
              "      <td>0.0869</td>\n",
              "      <td>0.07017</td>\n",
              "      <td>0.1812</td>\n",
              "      <td>0.05667</td>\n",
              "      <td>...</td>\n",
              "      <td>23.41</td>\n",
              "      <td>158.80</td>\n",
              "      <td>1956.0</td>\n",
              "      <td>0.1238</td>\n",
              "      <td>0.1866</td>\n",
              "      <td>0.2416</td>\n",
              "      <td>0.1860</td>\n",
              "      <td>0.2750</td>\n",
              "      <td>0.08902</td>\n",
              "      <td>0.0</td>\n",
              "    </tr>\n",
              "    <tr>\n",
              "      <th>2</th>\n",
              "      <td>19.69</td>\n",
              "      <td>21.25</td>\n",
              "      <td>130.00</td>\n",
              "      <td>1203.0</td>\n",
              "      <td>0.10960</td>\n",
              "      <td>0.15990</td>\n",
              "      <td>0.1974</td>\n",
              "      <td>0.12790</td>\n",
              "      <td>0.2069</td>\n",
              "      <td>0.05999</td>\n",
              "      <td>...</td>\n",
              "      <td>25.53</td>\n",
              "      <td>152.50</td>\n",
              "      <td>1709.0</td>\n",
              "      <td>0.1444</td>\n",
              "      <td>0.4245</td>\n",
              "      <td>0.4504</td>\n",
              "      <td>0.2430</td>\n",
              "      <td>0.3613</td>\n",
              "      <td>0.08758</td>\n",
              "      <td>0.0</td>\n",
              "    </tr>\n",
              "    <tr>\n",
              "      <th>3</th>\n",
              "      <td>11.42</td>\n",
              "      <td>20.38</td>\n",
              "      <td>77.58</td>\n",
              "      <td>386.1</td>\n",
              "      <td>0.14250</td>\n",
              "      <td>0.28390</td>\n",
              "      <td>0.2414</td>\n",
              "      <td>0.10520</td>\n",
              "      <td>0.2597</td>\n",
              "      <td>0.09744</td>\n",
              "      <td>...</td>\n",
              "      <td>26.50</td>\n",
              "      <td>98.87</td>\n",
              "      <td>567.7</td>\n",
              "      <td>0.2098</td>\n",
              "      <td>0.8663</td>\n",
              "      <td>0.6869</td>\n",
              "      <td>0.2575</td>\n",
              "      <td>0.6638</td>\n",
              "      <td>0.17300</td>\n",
              "      <td>0.0</td>\n",
              "    </tr>\n",
              "    <tr>\n",
              "      <th>4</th>\n",
              "      <td>20.29</td>\n",
              "      <td>14.34</td>\n",
              "      <td>135.10</td>\n",
              "      <td>1297.0</td>\n",
              "      <td>0.10030</td>\n",
              "      <td>0.13280</td>\n",
              "      <td>0.1980</td>\n",
              "      <td>0.10430</td>\n",
              "      <td>0.1809</td>\n",
              "      <td>0.05883</td>\n",
              "      <td>...</td>\n",
              "      <td>16.67</td>\n",
              "      <td>152.20</td>\n",
              "      <td>1575.0</td>\n",
              "      <td>0.1374</td>\n",
              "      <td>0.2050</td>\n",
              "      <td>0.4000</td>\n",
              "      <td>0.1625</td>\n",
              "      <td>0.2364</td>\n",
              "      <td>0.07678</td>\n",
              "      <td>0.0</td>\n",
              "    </tr>\n",
              "  </tbody>\n",
              "</table>\n",
              "<p>5 rows × 31 columns</p>\n",
              "</div>"
            ],
            "text/plain": [
              "   mean radius  mean texture  mean perimeter  mean area  mean smoothness  \\\n",
              "0        17.99         10.38          122.80     1001.0          0.11840   \n",
              "1        20.57         17.77          132.90     1326.0          0.08474   \n",
              "2        19.69         21.25          130.00     1203.0          0.10960   \n",
              "3        11.42         20.38           77.58      386.1          0.14250   \n",
              "4        20.29         14.34          135.10     1297.0          0.10030   \n",
              "\n",
              "   mean compactness  mean concavity  mean concave points  mean symmetry  \\\n",
              "0           0.27760          0.3001              0.14710         0.2419   \n",
              "1           0.07864          0.0869              0.07017         0.1812   \n",
              "2           0.15990          0.1974              0.12790         0.2069   \n",
              "3           0.28390          0.2414              0.10520         0.2597   \n",
              "4           0.13280          0.1980              0.10430         0.1809   \n",
              "\n",
              "   mean fractal dimension  ...  worst texture  worst perimeter  worst area  \\\n",
              "0                 0.07871  ...          17.33           184.60      2019.0   \n",
              "1                 0.05667  ...          23.41           158.80      1956.0   \n",
              "2                 0.05999  ...          25.53           152.50      1709.0   \n",
              "3                 0.09744  ...          26.50            98.87       567.7   \n",
              "4                 0.05883  ...          16.67           152.20      1575.0   \n",
              "\n",
              "   worst smoothness  worst compactness  worst concavity  worst concave points  \\\n",
              "0            0.1622             0.6656           0.7119                0.2654   \n",
              "1            0.1238             0.1866           0.2416                0.1860   \n",
              "2            0.1444             0.4245           0.4504                0.2430   \n",
              "3            0.2098             0.8663           0.6869                0.2575   \n",
              "4            0.1374             0.2050           0.4000                0.1625   \n",
              "\n",
              "   worst symmetry  worst fractal dimension  label  \n",
              "0          0.4601                  0.11890    0.0  \n",
              "1          0.2750                  0.08902    0.0  \n",
              "2          0.3613                  0.08758    0.0  \n",
              "3          0.6638                  0.17300    0.0  \n",
              "4          0.2364                  0.07678    0.0  \n",
              "\n",
              "[5 rows x 31 columns]"
            ]
          },
          "execution_count": 59,
          "metadata": {},
          "output_type": "execute_result"
        }
      ],
      "source": [
        "features_labels = np.append(features,'label')\n",
        "breast_dataset.columns = features_labels\n",
        "breast_dataset.head()"
      ]
    },
    {
      "cell_type": "code",
      "execution_count": null,
      "id": "b4c5c87d",
      "metadata": {
        "id": "b4c5c87d",
        "outputId": "73b86298-fa49-4b28-d7b6-9b27a29dddce"
      },
      "outputs": [
        {
          "data": {
            "text/plain": [
              "(569, 31)"
            ]
          },
          "execution_count": 60,
          "metadata": {},
          "output_type": "execute_result"
        }
      ],
      "source": [
        "breast_dataset.shape"
      ]
    },
    {
      "cell_type": "code",
      "execution_count": null,
      "id": "442bee7e",
      "metadata": {
        "id": "442bee7e",
        "outputId": "315d5c88-3df7-4492-ca1e-b8581c6390cd"
      },
      "outputs": [
        {
          "name": "stdout",
          "output_type": "stream",
          "text": [
            "X = [[1.799e+01 1.038e+01 1.228e+02 1.001e+03 1.184e-01 2.776e-01 3.001e-01\n",
            "  1.471e-01 2.419e-01 7.871e-02 1.095e+00 9.053e-01 8.589e+00 1.534e+02\n",
            "  6.399e-03 4.904e-02 5.373e-02 1.587e-02 3.003e-02 6.193e-03 2.538e+01\n",
            "  1.733e+01 1.846e+02 2.019e+03 1.622e-01 6.656e-01 7.119e-01 2.654e-01\n",
            "  4.601e-01 1.189e-01]\n",
            " [2.057e+01 1.777e+01 1.329e+02 1.326e+03 8.474e-02 7.864e-02 8.690e-02\n",
            "  7.017e-02 1.812e-01 5.667e-02 5.435e-01 7.339e-01 3.398e+00 7.408e+01\n",
            "  5.225e-03 1.308e-02 1.860e-02 1.340e-02 1.389e-02 3.532e-03 2.499e+01\n",
            "  2.341e+01 1.588e+02 1.956e+03 1.238e-01 1.866e-01 2.416e-01 1.860e-01\n",
            "  2.750e-01 8.902e-02]\n",
            " [1.969e+01 2.125e+01 1.300e+02 1.203e+03 1.096e-01 1.599e-01 1.974e-01\n",
            "  1.279e-01 2.069e-01 5.999e-02 7.456e-01 7.869e-01 4.585e+00 9.403e+01\n",
            "  6.150e-03 4.006e-02 3.832e-02 2.058e-02 2.250e-02 4.571e-03 2.357e+01\n",
            "  2.553e+01 1.525e+02 1.709e+03 1.444e-01 4.245e-01 4.504e-01 2.430e-01\n",
            "  3.613e-01 8.758e-02]\n",
            " [1.142e+01 2.038e+01 7.758e+01 3.861e+02 1.425e-01 2.839e-01 2.414e-01\n",
            "  1.052e-01 2.597e-01 9.744e-02 4.956e-01 1.156e+00 3.445e+00 2.723e+01\n",
            "  9.110e-03 7.458e-02 5.661e-02 1.867e-02 5.963e-02 9.208e-03 1.491e+01\n",
            "  2.650e+01 9.887e+01 5.677e+02 2.098e-01 8.663e-01 6.869e-01 2.575e-01\n",
            "  6.638e-01 1.730e-01]\n",
            " [2.029e+01 1.434e+01 1.351e+02 1.297e+03 1.003e-01 1.328e-01 1.980e-01\n",
            "  1.043e-01 1.809e-01 5.883e-02 7.572e-01 7.813e-01 5.438e+00 9.444e+01\n",
            "  1.149e-02 2.461e-02 5.688e-02 1.885e-02 1.756e-02 5.115e-03 2.254e+01\n",
            "  1.667e+01 1.522e+02 1.575e+03 1.374e-01 2.050e-01 4.000e-01 1.625e-01\n",
            "  2.364e-01 7.678e-02]]\n"
          ]
        }
      ],
      "source": [
        "X = breast_dataset.values[:,0:30]\n",
        "print('X =', X[0:5])"
      ]
    },
    {
      "cell_type": "code",
      "execution_count": null,
      "id": "0f54d1fd",
      "metadata": {
        "id": "0f54d1fd",
        "outputId": "d8cbd60e-5219-403a-9270-a41280c68d4b"
      },
      "outputs": [
        {
          "name": "stdout",
          "output_type": "stream",
          "text": [
            "Y = [0. 0. 0. 0. 0.]\n"
          ]
        }
      ],
      "source": [
        "Y = breast_dataset.values[:,30]\n",
        "print('Y =', Y[0:5])"
      ]
    },
    {
      "cell_type": "code",
      "execution_count": null,
      "id": "1cc44461",
      "metadata": {
        "id": "1cc44461",
        "outputId": "f853ad44-b44b-4269-cf71-f1201fcff118"
      },
      "outputs": [
        {
          "name": "stdout",
          "output_type": "stream",
          "text": [
            "Confusion Matrix: \n",
            " [[43  4]\n",
            " [ 1 66]]\n",
            "\n",
            "\n",
            "Classification Report: \n",
            "               precision    recall  f1-score   support\n",
            "\n",
            "         0.0       0.98      0.91      0.95        47\n",
            "         1.0       0.94      0.99      0.96        67\n",
            "\n",
            "    accuracy                           0.96       114\n",
            "   macro avg       0.96      0.95      0.95       114\n",
            "weighted avg       0.96      0.96      0.96       114\n",
            "\n"
          ]
        }
      ],
      "source": [
        "# Using logistic regression classifer over the the different numbers of principal components.\n",
        "\n",
        "Prin_Comp = []\n",
        "Precision_0 = []\n",
        "Precision_1 = []\n",
        "Recall_0 = []\n",
        "Recall_1 = []\n",
        "Accuracy = []\n",
        "max_accuracy = 0\n",
        "high_comp = 0\n",
        "\n",
        "N_Comp = range(1,30)\n",
        "for N in N_Comp:\n",
        "    Prin_Comp.append(N)\n",
        "    pca = PCA(n_components = N)\n",
        "    principalComponents = pca.fit_transform(X)\n",
        "    principalDF = pd.DataFrame(data = principalComponents)\n",
        "    X_train, X_test, Y_train, Y_test = train_test_split(principalDF, Y, test_size=0.2, random_state = 0)\n",
        "    sc_X = StandardScaler()\n",
        "    X_train_sc = sc_X.fit_transform(X_train)\n",
        "    X_test_sc = sc_X.fit_transform(X_test)\n",
        "    model = LogisticRegression(solver = 'liblinear')\n",
        "    model.fit(X_train_sc, Y_train)\n",
        "    predicted = model.predict(X_test_sc)\n",
        "    matrix = confusion_matrix(Y_test, predicted)\n",
        "    report = classification_report(Y_test, predicted)\n",
        "    report_data = classification_report(Y_test, predicted, output_dict=True)\n",
        "    data = pd.DataFrame(report_data)\n",
        "    Precision_0.append(data.values[0,0])\n",
        "    Precision_1.append(data.values[0,1])\n",
        "    Recall_0.append(data.values[1,0])\n",
        "    Recall_1.append(data.values[1,1])\n",
        "    Accuracy.append(data.values[0,2])\n",
        "    if data.values[0,2] > max_accuracy:\n",
        "        high_comp = N\n",
        "        max_accuracy = data.values[0,2]\n",
        "        \n",
        "# Latest Confusion Matrix and Classification Report\n",
        "print(\"Confusion Matrix: \\n\",matrix)\n",
        "print(\"\\n\")\n",
        "print(\"Classification Report: \\n\", report)"
      ]
    },
    {
      "cell_type": "code",
      "execution_count": null,
      "id": "522c52c7",
      "metadata": {
        "id": "522c52c7",
        "outputId": "6dc7e185-d1cc-4393-feb9-93ec513415ce"
      },
      "outputs": [
        {
          "name": "stdout",
          "output_type": "stream",
          "text": [
            "The N of principal components with the highest accuracy is: 23 components with the accuracy of 0.9736842105263158\n"
          ]
        }
      ],
      "source": [
        "print(\"The N of principal components with the highest accuracy is:\", high_comp, \"components with the accuracy of\", max_accuracy)"
      ]
    },
    {
      "cell_type": "code",
      "execution_count": null,
      "id": "4acba54c",
      "metadata": {
        "id": "4acba54c",
        "outputId": "a22d5b51-22f1-4380-9534-46f13eb71e7a"
      },
      "outputs": [
        {
          "name": "stdout",
          "output_type": "stream",
          "text": [
            "Using Logistic Regression:\n"
          ]
        },
        {
          "data": {
            "image/png": "[encoded data removed]",
            "text/plain": [
              "<Figure size 432x288 with 1 Axes>"
            ]
          },
          "metadata": {
            "needs_background": "light"
          },
          "output_type": "display_data"
        },
        {
          "data": {
            "image/png": "[encoded data removed]",
            "text/plain": [
              "<Figure size 432x288 with 1 Axes>"
            ]
          },
          "metadata": {
            "needs_background": "light"
          },
          "output_type": "display_data"
        }
      ],
      "source": [
        "print(\"Using Logistic Regression:\")\n",
        "plt.plot(Prin_Comp, Precision_0, label = \"Precision\")\n",
        "plt.plot(Prin_Comp, Recall_0, label = \"Recall\")\n",
        "plt.plot(Prin_Comp, Accuracy, label = \"Accuracy\")\n",
        "plt.title(\"Principal Components vs. Performance of Benign's Cancer\")\n",
        "plt.xlabel(\"Amount of Principal Components\")\n",
        "plt.ylabel(\"Performance\")\n",
        "plt.legend()\n",
        "plt.show()\n",
        "plt.plot(Prin_Comp, Precision_1, label = \"Precision\")\n",
        "plt.plot(Prin_Comp, Recall_1, label = \"Recall\")\n",
        "plt.plot(Prin_Comp, Accuracy, label = \"Accuracy\")\n",
        "plt.title(\"Principal Components vs. Performance of Malignant's Cancer\")\n",
        "plt.xlabel(\"Amount of Principal Components\")\n",
        "plt.ylabel(\"Performance\")\n",
        "plt.legend()\n",
        "plt.show()"
      ]
    },
    {
      "cell_type": "code",
      "execution_count": null,
      "id": "d847af07",
      "metadata": {
        "scrolled": true,
        "id": "d847af07",
        "outputId": "539228d3-6a7d-472c-ef0d-95f61254a89e"
      },
      "outputs": [
        {
          "data": {
            "text/html": [
              "<div>\n",
              "<style scoped>\n",
              "    .dataframe tbody tr th:only-of-type {\n",
              "        vertical-align: middle;\n",
              "    }\n",
              "\n",
              "    .dataframe tbody tr th {\n",
              "        vertical-align: top;\n",
              "    }\n",
              "\n",
              "    .dataframe thead th {\n",
              "        text-align: right;\n",
              "    }\n",
              "</style>\n",
              "<table border=\"1\" class=\"dataframe\">\n",
              "  <thead>\n",
              "    <tr style=\"text-align: right;\">\n",
              "      <th></th>\n",
              "      <th>1</th>\n",
              "      <th>2</th>\n",
              "      <th>3</th>\n",
              "      <th>4</th>\n",
              "      <th>5</th>\n",
              "      <th>6</th>\n",
              "      <th>7</th>\n",
              "      <th>8</th>\n",
              "      <th>9</th>\n",
              "      <th>10</th>\n",
              "    </tr>\n",
              "  </thead>\n",
              "  <tbody>\n",
              "    <tr>\n",
              "      <th>0</th>\n",
              "      <td>1160.142574</td>\n",
              "      <td>-293.917544</td>\n",
              "      <td>48.578398</td>\n",
              "      <td>-8.711975</td>\n",
              "      <td>32.000486</td>\n",
              "      <td>1.265415</td>\n",
              "      <td>0.931337</td>\n",
              "      <td>0.148167</td>\n",
              "      <td>0.745463</td>\n",
              "      <td>0.589359</td>\n",
              "    </tr>\n",
              "    <tr>\n",
              "      <th>1</th>\n",
              "      <td>1269.122443</td>\n",
              "      <td>15.630182</td>\n",
              "      <td>-35.394534</td>\n",
              "      <td>17.861283</td>\n",
              "      <td>-4.334874</td>\n",
              "      <td>-0.225872</td>\n",
              "      <td>-0.046037</td>\n",
              "      <td>0.200804</td>\n",
              "      <td>-0.485828</td>\n",
              "      <td>-0.084035</td>\n",
              "    </tr>\n",
              "    <tr>\n",
              "      <th>2</th>\n",
              "      <td>995.793889</td>\n",
              "      <td>39.156743</td>\n",
              "      <td>-1.709753</td>\n",
              "      <td>4.199340</td>\n",
              "      <td>-0.466529</td>\n",
              "      <td>-2.652811</td>\n",
              "      <td>-0.779745</td>\n",
              "      <td>-0.274026</td>\n",
              "      <td>-0.173874</td>\n",
              "      <td>-0.186994</td>\n",
              "    </tr>\n",
              "    <tr>\n",
              "      <th>3</th>\n",
              "      <td>-407.180803</td>\n",
              "      <td>-67.380320</td>\n",
              "      <td>8.672848</td>\n",
              "      <td>-11.759867</td>\n",
              "      <td>7.115461</td>\n",
              "      <td>1.299436</td>\n",
              "      <td>-1.267304</td>\n",
              "      <td>-0.060555</td>\n",
              "      <td>-0.330639</td>\n",
              "      <td>-0.144155</td>\n",
              "    </tr>\n",
              "    <tr>\n",
              "      <th>4</th>\n",
              "      <td>930.341180</td>\n",
              "      <td>189.340742</td>\n",
              "      <td>1.374801</td>\n",
              "      <td>8.499183</td>\n",
              "      <td>7.613289</td>\n",
              "      <td>1.021160</td>\n",
              "      <td>-0.335522</td>\n",
              "      <td>0.289109</td>\n",
              "      <td>0.036087</td>\n",
              "      <td>-0.138502</td>\n",
              "    </tr>\n",
              "  </tbody>\n",
              "</table>\n",
              "</div>"
            ],
            "text/plain": [
              "             1           2          3          4          5         6  \\\n",
              "0  1160.142574 -293.917544  48.578398  -8.711975  32.000486  1.265415   \n",
              "1  1269.122443   15.630182 -35.394534  17.861283  -4.334874 -0.225872   \n",
              "2   995.793889   39.156743  -1.709753   4.199340  -0.466529 -2.652811   \n",
              "3  -407.180803  -67.380320   8.672848 -11.759867   7.115461  1.299436   \n",
              "4   930.341180  189.340742   1.374801   8.499183   7.613289  1.021160   \n",
              "\n",
              "          7         8         9        10  \n",
              "0  0.931337  0.148167  0.745463  0.589359  \n",
              "1 -0.046037  0.200804 -0.485828 -0.084035  \n",
              "2 -0.779745 -0.274026 -0.173874 -0.186994  \n",
              "3 -1.267304 -0.060555 -0.330639 -0.144155  \n",
              "4 -0.335522  0.289109  0.036087 -0.138502  "
            ]
          },
          "execution_count": 66,
          "metadata": {},
          "output_type": "execute_result"
        }
      ],
      "source": [
        "# Using PCA feature extraction to simplify the features.  \n",
        "pca = PCA(n_components = 10)\n",
        "principalComponents = pca.fit_transform(X)\n",
        "principalDF = pd.DataFrame(data = principalComponents, columns = ['1','2','3','4','5','6','7','8','9','10'])\n",
        "#,'11','12','13','14','15'])\n",
        "principalDF.head()"
      ]
    },
    {
      "cell_type": "code",
      "execution_count": null,
      "id": "be734887",
      "metadata": {
        "id": "be734887",
        "outputId": "e1034136-1ab9-4f6e-a748-4389d6eee995"
      },
      "outputs": [
        {
          "name": "stdout",
          "output_type": "stream",
          "text": [
            "(455, 10) (114, 10) (455,) (114,)\n"
          ]
        }
      ],
      "source": [
        "# Splitting the datasets to training and validation sets.\n",
        "\n",
        "X_train, X_test, Y_train, Y_test = train_test_split(principalDF, Y, test_size=0.2, random_state = 0)\n",
        "print(X_train.shape, X_test.shape, Y_train.shape, Y_test.shape)"
      ]
    },
    {
      "cell_type": "code",
      "execution_count": null,
      "id": "bb8fa941",
      "metadata": {
        "id": "bb8fa941"
      },
      "outputs": [],
      "source": [
        "# Feature scaling between 0 and 1 for independent variables using Standardization.\n",
        "\n",
        "\n",
        "sc_X = StandardScaler()\n",
        "X_train_sc = sc_X.fit_transform(X_train)\n",
        "X_test_sc = sc_X.fit_transform(X_test)"
      ]
    },
    {
      "cell_type": "code",
      "execution_count": null,
      "id": "7d835ea7",
      "metadata": {
        "id": "7d835ea7",
        "outputId": "213fa7f5-c25d-47a3-f607-825f730a5358"
      },
      "outputs": [
        {
          "name": "stdout",
          "output_type": "stream",
          "text": [
            "New X_train = [[-0.88568257 -0.40583219  0.39750989  0.33360589 -0.82403734  0.79717288\n",
            "   1.36486082  0.93326731  0.37094003  0.63542118]\n",
            " [-0.71552247 -0.55110359  0.2621112  -0.81275164 -0.99567678  1.61036554\n",
            "   0.43205142 -0.11031695 -0.69576898  0.11803613]\n",
            " [ 0.19358313  1.02938885 -0.94593214  0.69047135  0.91199831 -0.05307128\n",
            "   0.21796358 -0.46967881 -0.37321323  0.21184242]\n",
            " [-0.63876355  0.30664196  0.30820425  0.44447528  0.05508024 -0.90020891\n",
            "  -0.73136923  0.77187283 -0.15680726  0.40727644]\n",
            " [-0.46747526 -0.30053312 -0.16289155 -0.7795932  -0.91315631  0.80585734\n",
            "   0.37304117 -1.08723135 -0.39521306 -0.06307839]]\n"
          ]
        }
      ],
      "source": [
        "print('New X_train =', X_train_sc[0:5])"
      ]
    },
    {
      "cell_type": "code",
      "execution_count": null,
      "id": "db0ce49e",
      "metadata": {
        "id": "db0ce49e",
        "outputId": "78084e01-295a-44bd-c16e-f17e4732c870"
      },
      "outputs": [
        {
          "name": "stdout",
          "output_type": "stream",
          "text": [
            "Confusion Matrix: \n",
            " [[44  3]\n",
            " [ 2 65]]\n",
            "\n",
            "\n",
            "Classification Report: \n",
            "               precision    recall  f1-score   support\n",
            "\n",
            "         0.0       0.96      0.94      0.95        47\n",
            "         1.0       0.96      0.97      0.96        67\n",
            "\n",
            "    accuracy                           0.96       114\n",
            "   macro avg       0.96      0.95      0.95       114\n",
            "weighted avg       0.96      0.96      0.96       114\n",
            "\n"
          ]
        }
      ],
      "source": [
        "# Problem #2\n",
        "# Construct the logistic regression's report and confusion matrix\n",
        "model = LogisticRegression(solver = 'liblinear')\n",
        "model.fit(X_train_sc, Y_train)\n",
        "predicted = model.predict(X_test_sc)\n",
        "matrix = confusion_matrix(Y_test, predicted)\n",
        "report = classification_report(Y_test, predicted)\n",
        "print(\"Confusion Matrix: \\n\",matrix)\n",
        "print(\"\\n\")\n",
        "print(\"Classification Report: \\n\",report)"
      ]
    },
    {
      "cell_type": "code",
      "execution_count": null,
      "id": "fa1b33a6",
      "metadata": {
        "id": "fa1b33a6",
        "outputId": "1c878623-b7f6-467e-8717-6d2c17d9f02d"
      },
      "outputs": [
        {
          "name": "stdout",
          "output_type": "stream",
          "text": [
            "Confusion Matrix: \n",
            " [[42  5]\n",
            " [10 57]]\n",
            "\n",
            "\n",
            "Classification Report: \n",
            "               precision    recall  f1-score   support\n",
            "\n",
            "         0.0       0.81      0.89      0.85        47\n",
            "         1.0       0.92      0.85      0.88        67\n",
            "\n",
            "    accuracy                           0.87       114\n",
            "   macro avg       0.86      0.87      0.87       114\n",
            "weighted avg       0.87      0.87      0.87       114\n",
            "\n"
          ]
        }
      ],
      "source": [
        "# Problem #3\n",
        "# Constructing the Naive Bayes's report and confusion matrix. \n",
        "model = GaussianNB()\n",
        "model.fit(X_train_sc, Y_train)\n",
        "predicted = model.predict(X_test_sc)\n",
        "print(\"Confusion Matrix: \\n\", metrics.confusion_matrix(Y_test, predicted))\n",
        "print(\"\\n\")\n",
        "print(\"Classification Report: \\n\", metrics.classification_report(Y_test, predicted))"
      ]
    },
    {
      "cell_type": "code",
      "execution_count": null,
      "id": "f65822c9",
      "metadata": {
        "id": "f65822c9",
        "outputId": "c3ed3166-8bad-4ca0-e96d-1e9c34c9970d"
      },
      "outputs": [
        {
          "name": "stdout",
          "output_type": "stream",
          "text": [
            "Confusion Matrix: \n",
            " [[42  5]\n",
            " [ 9 58]]\n",
            "\n",
            "\n",
            "Classification Report: \n",
            "               precision    recall  f1-score   support\n",
            "\n",
            "         0.0       0.82      0.89      0.86        47\n",
            "         1.0       0.92      0.87      0.89        67\n",
            "\n",
            "    accuracy                           0.88       114\n",
            "   macro avg       0.87      0.88      0.87       114\n",
            "weighted avg       0.88      0.88      0.88       114\n",
            "\n"
          ]
        }
      ],
      "source": [
        "# Using logistic regression classifer over the the different numbers of principal components.\n",
        "\n",
        "Prin_Comp = []\n",
        "Precision_0 = []\n",
        "Precision_1 = []\n",
        "Recall_0 = []\n",
        "Recall_1 = []\n",
        "Accuracy = []\n",
        "max_accuracy = 0\n",
        "high_comp = 0\n",
        "\n",
        "N_Comp = range(1,30)\n",
        "for N in N_Comp:\n",
        "    Prin_Comp.append(N)\n",
        "    pca = PCA(n_components = N)\n",
        "    principalComponents = pca.fit_transform(X)\n",
        "    principalDF = pd.DataFrame(data = principalComponents)\n",
        "    X_train, X_test, Y_train, Y_test = train_test_split(principalDF, Y, test_size=0.2, random_state = 0)\n",
        "    sc_X = StandardScaler()\n",
        "    X_train_sc = sc_X.fit_transform(X_train)\n",
        "    X_test_sc = sc_X.fit_transform(X_test)\n",
        "    model = GaussianNB()\n",
        "    model.fit(X_train_sc, Y_train)\n",
        "    predicted = model.predict(X_test_sc)\n",
        "    matrix = confusion_matrix(Y_test, predicted)\n",
        "    report = classification_report(Y_test, predicted)\n",
        "    report_data = classification_report(Y_test, predicted, output_dict=True)\n",
        "    data = pd.DataFrame(report_data)\n",
        "    Precision_0.append(data.values[0,0])\n",
        "    Precision_1.append(data.values[0,1])\n",
        "    Recall_0.append(data.values[1,0])\n",
        "    Recall_1.append(data.values[1,1])\n",
        "    Accuracy.append(data.values[0,2])\n",
        "    if data.values[0,2] > max_accuracy:\n",
        "        high_comp = N\n",
        "        max_accuracy = data.values[0,2]\n",
        "        \n",
        "# Latest Confusion Matrix and Classification Report\n",
        "print(\"Confusion Matrix: \\n\",matrix)\n",
        "print(\"\\n\")\n",
        "print(\"Classification Report: \\n\", report)"
      ]
    },
    {
      "cell_type": "code",
      "execution_count": null,
      "id": "fbc6ca1d",
      "metadata": {
        "id": "fbc6ca1d",
        "outputId": "fa954a59-9840-496b-870f-8831d8d8833b"
      },
      "outputs": [
        {
          "name": "stdout",
          "output_type": "stream",
          "text": [
            "The N of principal components with the highest accuracy is: 1 components with the accuracy of 0.9298245614035088\n"
          ]
        }
      ],
      "source": [
        "print(\"The N of principal components with the highest accuracy is:\", high_comp, \"components with the accuracy of\", max_accuracy)"
      ]
    },
    {
      "cell_type": "code",
      "execution_count": null,
      "id": "c64d1097",
      "metadata": {
        "id": "c64d1097",
        "outputId": "e655f921-69f4-4f25-cc45-4a16fe59b126"
      },
      "outputs": [
        {
          "name": "stdout",
          "output_type": "stream",
          "text": [
            "Using Gaussian Naive Bayes Classifier:\n"
          ]
        },
        {
          "data": {
            "image/png": "[encoded data removed]",
            "text/plain": [
              "<Figure size 432x288 with 1 Axes>"
            ]
          },
          "metadata": {
            "needs_background": "light"
          },
          "output_type": "display_data"
        },
        {
          "data": {
            "image/png": "[encoded data removed]",
            "text/plain": [
              "<Figure size 432x288 with 1 Axes>"
            ]
          },
          "metadata": {
            "needs_background": "light"
          },
          "output_type": "display_data"
        }
      ],
      "source": [
        "print(\"Using Gaussian Naive Bayes Classifier:\")\n",
        "plt.plot(Prin_Comp, Precision_0, label = \"Precision\")\n",
        "plt.plot(Prin_Comp, Recall_0, label = \"Recall\")\n",
        "plt.plot(Prin_Comp, Accuracy, label = \"Accuracy\")\n",
        "plt.title(\"Principal Components vs. Performance of Benign's Cancer\")\n",
        "plt.xlabel(\"Amount of Principal Components\")\n",
        "plt.ylabel(\"Performance\")\n",
        "plt.legend()\n",
        "plt.show()\n",
        "plt.plot(Prin_Comp, Precision_1, label = \"Precision\")\n",
        "plt.plot(Prin_Comp, Recall_1, label = \"Recall\")\n",
        "plt.plot(Prin_Comp, Accuracy, label = \"Accuracy\")\n",
        "plt.title(\"Principal Components vs. Performance of Malignant's Cancer\")\n",
        "plt.xlabel(\"Amount of Principal Components\")\n",
        "plt.ylabel(\"Performance\")\n",
        "plt.legend()\n",
        "plt.show()"
      ]
    }
  ],
  "metadata": {
    "kernelspec": {
      "display_name": "Python 3 (ipykernel)",
      "language": "python",
      "name": "python3"
    },
    "language_info": {
      "codemirror_mode": {
        "name": "ipython",
        "version": 3
      },
      "file_extension": ".py",
      "mimetype": "text/x-python",
      "name": "python",
      "nbconvert_exporter": "python",
      "pygments_lexer": "ipython3",
      "version": "3.9.15"
    },
    "colab": {
      "provenance": []
    }
  },
  "nbformat": 4,
  "nbformat_minor": 5
}