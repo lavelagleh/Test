{
  "cells": [
    {
      "cell_type": "code",
      "execution_count": null,
      "id": "3379b22f",
      "metadata": {
        "id": "3379b22f"
      },
      "outputs": [],
      "source": [
        "import numpy as np\n",
        "import matplotlib.pyplot as plt\n",
        "import pandas as pd\n",
        "from sklearn.model_selection import train_test_split\n",
        "from sklearn.model_selection import KFold\n",
        "from sklearn.model_selection import cross_val_score\n",
        "from sklearn.linear_model import LogisticRegression\n",
        "from sklearn import datasets\n",
        "from sklearn.metrics import confusion_matrix\n",
        "from sklearn.metrics import classification_report\n",
        "import seaborn as sns"
      ]
    },
    {
      "cell_type": "code",
      "execution_count": null,
      "id": "a7cccf7c",
      "metadata": {
        "id": "a7cccf7c",
        "outputId": "e82e6c47-29bc-4ff6-d93f-fe96142f85cd"
      },
      "outputs": [
        {
          "data": {
            "text/html": [
              "<div>\n",
              "<style scoped>\n",
              "    .dataframe tbody tr th:only-of-type {\n",
              "        vertical-align: middle;\n",
              "    }\n",
              "\n",
              "    .dataframe tbody tr th {\n",
              "        vertical-align: top;\n",
              "    }\n",
              "\n",
              "    .dataframe thead th {\n",
              "        text-align: right;\n",
              "    }\n",
              "</style>\n",
              "<table border=\"1\" class=\"dataframe\">\n",
              "  <thead>\n",
              "    <tr style=\"text-align: right;\">\n",
              "      <th></th>\n",
              "      <th>Pregnancies</th>\n",
              "      <th>Glucose</th>\n",
              "      <th>BloodPressure</th>\n",
              "      <th>SkinThickness</th>\n",
              "      <th>Insulin</th>\n",
              "      <th>BMI</th>\n",
              "      <th>DiabetesPedigreeFunction</th>\n",
              "      <th>Age</th>\n",
              "      <th>Outcome</th>\n",
              "    </tr>\n",
              "  </thead>\n",
              "  <tbody>\n",
              "    <tr>\n",
              "      <th>0</th>\n",
              "      <td>6</td>\n",
              "      <td>148</td>\n",
              "      <td>72</td>\n",
              "      <td>35</td>\n",
              "      <td>0</td>\n",
              "      <td>33.6</td>\n",
              "      <td>0.627</td>\n",
              "      <td>50</td>\n",
              "      <td>1</td>\n",
              "    </tr>\n",
              "    <tr>\n",
              "      <th>1</th>\n",
              "      <td>1</td>\n",
              "      <td>85</td>\n",
              "      <td>66</td>\n",
              "      <td>29</td>\n",
              "      <td>0</td>\n",
              "      <td>26.6</td>\n",
              "      <td>0.351</td>\n",
              "      <td>31</td>\n",
              "      <td>0</td>\n",
              "    </tr>\n",
              "    <tr>\n",
              "      <th>2</th>\n",
              "      <td>8</td>\n",
              "      <td>183</td>\n",
              "      <td>64</td>\n",
              "      <td>0</td>\n",
              "      <td>0</td>\n",
              "      <td>23.3</td>\n",
              "      <td>0.672</td>\n",
              "      <td>32</td>\n",
              "      <td>1</td>\n",
              "    </tr>\n",
              "    <tr>\n",
              "      <th>3</th>\n",
              "      <td>1</td>\n",
              "      <td>89</td>\n",
              "      <td>66</td>\n",
              "      <td>23</td>\n",
              "      <td>94</td>\n",
              "      <td>28.1</td>\n",
              "      <td>0.167</td>\n",
              "      <td>21</td>\n",
              "      <td>0</td>\n",
              "    </tr>\n",
              "    <tr>\n",
              "      <th>4</th>\n",
              "      <td>0</td>\n",
              "      <td>137</td>\n",
              "      <td>40</td>\n",
              "      <td>35</td>\n",
              "      <td>168</td>\n",
              "      <td>43.1</td>\n",
              "      <td>2.288</td>\n",
              "      <td>33</td>\n",
              "      <td>1</td>\n",
              "    </tr>\n",
              "  </tbody>\n",
              "</table>\n",
              "</div>"
            ],
            "text/plain": [
              "   Pregnancies  Glucose  BloodPressure  SkinThickness  Insulin   BMI  \\\n",
              "0            6      148             72             35        0  33.6   \n",
              "1            1       85             66             29        0  26.6   \n",
              "2            8      183             64              0        0  23.3   \n",
              "3            1       89             66             23       94  28.1   \n",
              "4            0      137             40             35      168  43.1   \n",
              "\n",
              "   DiabetesPedigreeFunction  Age  Outcome  \n",
              "0                     0.627   50        1  \n",
              "1                     0.351   31        0  \n",
              "2                     0.672   32        1  \n",
              "3                     0.167   21        0  \n",
              "4                     2.288   33        1  "
            ]
          },
          "execution_count": 2,
          "metadata": {},
          "output_type": "execute_result"
        }
      ],
      "source": [
        "dataset = pd.read_csv('./diabetes.csv')\n",
        "dataset.head()"
      ]
    },
    {
      "cell_type": "code",
      "execution_count": null,
      "id": "a924151d",
      "metadata": {
        "id": "a924151d",
        "outputId": "a8c6f3aa-0b59-40dc-ae0e-d0442eeb52a6"
      },
      "outputs": [
        {
          "name": "stdout",
          "output_type": "stream",
          "text": [
            "[[6.000e+00 1.480e+02 7.200e+01 3.500e+01 0.000e+00 3.360e+01 6.270e-01\n",
            "  5.000e+01 1.000e+00]\n",
            " [1.000e+00 8.500e+01 6.600e+01 2.900e+01 0.000e+00 2.660e+01 3.510e-01\n",
            "  3.100e+01 0.000e+00]\n",
            " [8.000e+00 1.830e+02 6.400e+01 0.000e+00 0.000e+00 2.330e+01 6.720e-01\n",
            "  3.200e+01 1.000e+00]\n",
            " [1.000e+00 8.900e+01 6.600e+01 2.300e+01 9.400e+01 2.810e+01 1.670e-01\n",
            "  2.100e+01 0.000e+00]\n",
            " [0.000e+00 1.370e+02 4.000e+01 3.500e+01 1.680e+02 4.310e+01 2.288e+00\n",
            "  3.300e+01 1.000e+00]\n",
            " [5.000e+00 1.160e+02 7.400e+01 0.000e+00 0.000e+00 2.560e+01 2.010e-01\n",
            "  3.000e+01 0.000e+00]\n",
            " [3.000e+00 7.800e+01 5.000e+01 3.200e+01 8.800e+01 3.100e+01 2.480e-01\n",
            "  2.600e+01 1.000e+00]\n",
            " [1.000e+01 1.150e+02 0.000e+00 0.000e+00 0.000e+00 3.530e+01 1.340e-01\n",
            "  2.900e+01 0.000e+00]\n",
            " [2.000e+00 1.970e+02 7.000e+01 4.500e+01 5.430e+02 3.050e+01 1.580e-01\n",
            "  5.300e+01 1.000e+00]\n",
            " [8.000e+00 1.250e+02 9.600e+01 0.000e+00 0.000e+00 0.000e+00 2.320e-01\n",
            "  5.400e+01 1.000e+00]\n",
            " [4.000e+00 1.100e+02 9.200e+01 0.000e+00 0.000e+00 3.760e+01 1.910e-01\n",
            "  3.000e+01 0.000e+00]\n",
            " [1.000e+01 1.680e+02 7.400e+01 0.000e+00 0.000e+00 3.800e+01 5.370e-01\n",
            "  3.400e+01 1.000e+00]\n",
            " [1.000e+01 1.390e+02 8.000e+01 0.000e+00 0.000e+00 2.710e+01 1.441e+00\n",
            "  5.700e+01 0.000e+00]\n",
            " [1.000e+00 1.890e+02 6.000e+01 2.300e+01 8.460e+02 3.010e+01 3.980e-01\n",
            "  5.900e+01 1.000e+00]\n",
            " [5.000e+00 1.660e+02 7.200e+01 1.900e+01 1.750e+02 2.580e+01 5.870e-01\n",
            "  5.100e+01 1.000e+00]\n",
            " [7.000e+00 1.000e+02 0.000e+00 0.000e+00 0.000e+00 3.000e+01 4.840e-01\n",
            "  3.200e+01 1.000e+00]\n",
            " [0.000e+00 1.180e+02 8.400e+01 4.700e+01 2.300e+02 4.580e+01 5.510e-01\n",
            "  3.100e+01 1.000e+00]\n",
            " [7.000e+00 1.070e+02 7.400e+01 0.000e+00 0.000e+00 2.960e+01 2.540e-01\n",
            "  3.100e+01 1.000e+00]\n",
            " [1.000e+00 1.030e+02 3.000e+01 3.800e+01 8.300e+01 4.330e+01 1.830e-01\n",
            "  3.300e+01 0.000e+00]\n",
            " [1.000e+00 1.150e+02 7.000e+01 3.000e+01 9.600e+01 3.460e+01 5.290e-01\n",
            "  3.200e+01 1.000e+00]]\n"
          ]
        }
      ],
      "source": [
        "diabetes = dataset.values[:,:]\n",
        "print(diabetes[:20,:])"
      ]
    },
    {
      "cell_type": "code",
      "execution_count": null,
      "id": "9da4bd7b",
      "metadata": {
        "id": "9da4bd7b"
      },
      "outputs": [],
      "source": [
        "# Set the independent variables from Pregnancies to Age. Dependent variable is outcome.\n",
        "X = diabetes[:,0:8]\n",
        "Y = diabetes[:,8]"
      ]
    },
    {
      "cell_type": "code",
      "execution_count": null,
      "id": "dd1f5854",
      "metadata": {
        "id": "dd1f5854",
        "outputId": "09a9c342-d829-476f-c18e-39d129e9c741"
      },
      "outputs": [
        {
          "name": "stdout",
          "output_type": "stream",
          "text": [
            "X= [[6.000e+00 1.480e+02 7.200e+01 3.500e+01 0.000e+00 3.360e+01 6.270e-01\n",
            "  5.000e+01]\n",
            " [1.000e+00 8.500e+01 6.600e+01 2.900e+01 0.000e+00 2.660e+01 3.510e-01\n",
            "  3.100e+01]\n",
            " [8.000e+00 1.830e+02 6.400e+01 0.000e+00 0.000e+00 2.330e+01 6.720e-01\n",
            "  3.200e+01]\n",
            " [1.000e+00 8.900e+01 6.600e+01 2.300e+01 9.400e+01 2.810e+01 1.670e-01\n",
            "  2.100e+01]\n",
            " [0.000e+00 1.370e+02 4.000e+01 3.500e+01 1.680e+02 4.310e+01 2.288e+00\n",
            "  3.300e+01]]\n"
          ]
        }
      ],
      "source": [
        "print('X=', X[0:5])"
      ]
    },
    {
      "cell_type": "code",
      "execution_count": null,
      "id": "1737f84b",
      "metadata": {
        "id": "1737f84b",
        "outputId": "dd75a234-03d9-4197-eaf3-129b2b2320a1"
      },
      "outputs": [
        {
          "name": "stdout",
          "output_type": "stream",
          "text": [
            "Y= [1. 0. 1. 0. 1.]\n"
          ]
        }
      ],
      "source": [
        "print('Y=', Y[0:5])"
      ]
    },
    {
      "cell_type": "code",
      "execution_count": null,
      "id": "ca715620",
      "metadata": {
        "id": "ca715620",
        "outputId": "fd3a0662-08a6-4eca-fc0c-25717235b892"
      },
      "outputs": [
        {
          "name": "stdout",
          "output_type": "stream",
          "text": [
            "(614, 8) (154, 8) (614,) (154,)\n"
          ]
        }
      ],
      "source": [
        "# Splitting the datasets to training and validation sets.\n",
        "\n",
        "X_train, X_test, Y_train, Y_test = train_test_split(X, Y, test_size=0.2, random_state = 0)\n",
        "print(X_train.shape, X_test.shape, Y_train.shape, Y_test.shape)"
      ]
    },
    {
      "cell_type": "code",
      "execution_count": null,
      "id": "925a8f62",
      "metadata": {
        "id": "925a8f62"
      },
      "outputs": [],
      "source": [
        "# Feature scaling between 0 and 1 for independent variables using Standardization.\n",
        "\n",
        "from sklearn.preprocessing import StandardScaler, MinMaxScaler\n",
        "sc_X = StandardScaler()\n",
        "X_train_sc = sc_X.fit_transform(X_train)\n",
        "X_test_sc = sc_X.fit_transform(X_test)"
      ]
    },
    {
      "cell_type": "code",
      "execution_count": null,
      "id": "fd445358",
      "metadata": {
        "id": "fd445358",
        "outputId": "b6afb90c-ae3f-409c-876a-155e1aea8b3a"
      },
      "outputs": [
        {
          "name": "stdout",
          "output_type": "stream",
          "text": [
            "New X_train = [[ 0.90832902  0.91569367  0.44912368  0.52222619  0.3736349   0.37852648\n",
            "   0.67740401  1.69955804]\n",
            " [ 0.03644676 -0.75182191 -0.47230103  0.14814855 -0.69965674 -0.50667229\n",
            "  -0.07049698 -0.96569189]\n",
            " [-1.12606292  1.38763205  1.06340683  0.77161128  5.09271083  2.54094063\n",
            "  -0.11855487 -0.88240283]\n",
            " [-0.8354355  -0.37427121 -0.67706208  0.02345601  0.45029859 -0.88604319\n",
            "   1.10091422 -0.88240283]\n",
            " [ 1.19895644 -0.02818307 -3.54371676 -1.28581572 -0.69965674 -0.27904975\n",
            "  -0.85143778  0.36693308]]\n"
          ]
        }
      ],
      "source": [
        "print('New X_train =', X_train_sc[0:5])"
      ]
    },
    {
      "cell_type": "code",
      "execution_count": null,
      "id": "ea1a478c",
      "metadata": {
        "id": "ea1a478c",
        "outputId": "f6027b33-5f9e-49d1-aca5-b65bb495ed84"
      },
      "outputs": [
        {
          "name": "stdout",
          "output_type": "stream",
          "text": [
            "Accuracy: 76.555% (3.185%)\n"
          ]
        }
      ],
      "source": [
        "# K-fold: 5\n",
        "kfold = KFold(n_splits = 5, random_state = 0, shuffle = True)\n",
        "model = LogisticRegression(solver = 'liblinear')\n",
        "results = cross_val_score(model, X, Y, cv=kfold)\n",
        "# Output the accuracy. Calculate the mean and std across all folds.\n",
        "print(\"Accuracy: %.3f%% (%.3f%%)\" % (results.mean()*100.0, results.std()*100.0))"
      ]
    },
    {
      "cell_type": "code",
      "execution_count": null,
      "id": "9ca5aa52",
      "metadata": {
        "id": "9ca5aa52",
        "outputId": "865e5d30-a82b-4197-eed2-f6ba4429e8a7"
      },
      "outputs": [
        {
          "name": "stdout",
          "output_type": "stream",
          "text": [
            "Accuracy: 76.818% (3.744%)\n"
          ]
        }
      ],
      "source": [
        "# K-fold: 10\n",
        "kfold = KFold(n_splits = 10, random_state = 0, shuffle = True)\n",
        "model = LogisticRegression(solver = 'liblinear')\n",
        "results = cross_val_score(model, X, Y, cv=kfold)\n",
        "# Output the accuracy. Calculate the mean and std across all folds.\n",
        "print(\"Accuracy: %.3f%% (%.3f%%)\" % (results.mean()*100.0, results.std()*100.0))"
      ]
    },
    {
      "cell_type": "code",
      "execution_count": null,
      "id": "e2f96e64",
      "metadata": {
        "id": "e2f96e64",
        "outputId": "8b374adc-632c-43d6-b8fd-79bdb8081cb4"
      },
      "outputs": [
        {
          "name": "stdout",
          "output_type": "stream",
          "text": [
            "[[94 13]\n",
            " [18 29]]\n"
          ]
        }
      ],
      "source": [
        "# Construct a confusion matrix\n",
        "from sklearn.model_selection import train_test_split\n",
        "test_size = 0.2\n",
        "seed = 0\n",
        "X_train, X_test, Y_train, Y_test = train_test_split(X, Y, test_size= test_size, random_state = seed)\n",
        "model = LogisticRegression(solver = 'liblinear')\n",
        "model.fit(X_train_sc, Y_train)\n",
        "predicted = model.predict(X_test_sc)\n",
        "matrix = confusion_matrix(Y_test, predicted)\n",
        "print(matrix)"
      ]
    },
    {
      "cell_type": "code",
      "execution_count": null,
      "id": "26ffdf63",
      "metadata": {
        "id": "26ffdf63",
        "outputId": "0faaa7fa-0dae-42d7-faed-433d08164feb"
      },
      "outputs": [
        {
          "name": "stdout",
          "output_type": "stream",
          "text": [
            "              precision    recall  f1-score   support\n",
            "\n",
            "         0.0       0.84      0.88      0.86       107\n",
            "         1.0       0.69      0.62      0.65        47\n",
            "\n",
            "    accuracy                           0.80       154\n",
            "   macro avg       0.76      0.75      0.76       154\n",
            "weighted avg       0.79      0.80      0.80       154\n",
            "\n"
          ]
        }
      ],
      "source": [
        "from sklearn.model_selection import train_test_split\n",
        "test_size = 0.2\n",
        "seed = 0\n",
        "X_train, X_test, Y_train, Y_test = train_test_split(X, Y, test_size= test_size, random_state = seed)\n",
        "model = LogisticRegression(solver = 'liblinear')\n",
        "model.fit(X_train_sc, Y_train)\n",
        "predicted = model.predict(X_test_sc)\n",
        "report = classification_report(Y_test, predicted)\n",
        "print(report)"
      ]
    },
    {
      "cell_type": "code",
      "execution_count": null,
      "id": "12d9f05a",
      "metadata": {
        "id": "12d9f05a"
      },
      "outputs": [],
      "source": []
    }
  ],
  "metadata": {
    "kernelspec": {
      "display_name": "Python 3 (ipykernel)",
      "language": "python",
      "name": "python3"
    },
    "language_info": {
      "codemirror_mode": {
        "name": "ipython",
        "version": 3
      },
      "file_extension": ".py",
      "mimetype": "text/x-python",
      "name": "python",
      "nbconvert_exporter": "python",
      "pygments_lexer": "ipython3",
      "version": "3.9.12"
    },
    "colab": {
      "provenance": []
    }
  },
  "nbformat": 4,
  "nbformat_minor": 5
}